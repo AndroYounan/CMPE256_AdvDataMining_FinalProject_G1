{
 "cells": [
  {
   "cell_type": "markdown",
   "id": "26bc35f0-c824-4775-9bdf-a06f52365c07",
   "metadata": {},
   "source": [
    "# Preprocessing"
   ]
  },
  {
   "cell_type": "code",
   "execution_count": 47,
   "id": "20fc22ab-b939-483a-bb29-92a2c1d9fb96",
   "metadata": {},
   "outputs": [
    {
     "name": "stdout",
     "output_type": "stream",
     "text": [
      "business_df (150346, 14)\n",
      "review_df (6990280, 9)\n",
      "user_df (1987897, 22)\n",
      "business_df (4064, 14)\n",
      "                business_id                             name  \\\n",
      "26   noByYNtDLQAra9ccqxdfDw                              H&M   \n",
      "85   IDtLPgUrqorrpqSLdfMhZQ             Helena Avenue Bakery   \n",
      "91   nUqrF-h9S7myCcvNDecOvw             Iron Horse Auto Body   \n",
      "120  bYjnX_J1bHZob10DoSFkqQ      Tinkle Belle Diaper Service   \n",
      "141  SZU9c8V2GuREDN5KgyHFJw  Santa Barbara Shellfish Company   \n",
      "\n",
      "                   address           city state postal_code   latitude  \\\n",
      "26        827-833 State St  Santa Barbara    CA       93101  34.420209   \n",
      "85   131 Anacapa St, Ste C  Santa Barbara    CA       93101  34.414445   \n",
      "91          825 Cacique St  Santa Barbara    CA       93103  34.419620   \n",
      "120                         Santa Barbara    CA       93101  34.420334   \n",
      "141      230 Stearns Wharf  Santa Barbara    CA       93101  34.408715   \n",
      "\n",
      "      longitude  stars  review_count  is_open  \\\n",
      "26  -119.700460    3.0            24        1   \n",
      "85  -119.690672    4.0           389        1   \n",
      "91  -119.677032    4.5            32        1   \n",
      "120 -119.710749    5.0            17        1   \n",
      "141 -119.685019    4.0          2404        1   \n",
      "\n",
      "                                            attributes  \\\n",
      "26   {'BusinessAcceptsCreditCards': 'True', 'BikePa...   \n",
      "85   {'RestaurantsTakeOut': 'True', 'NoiseLevel': '...   \n",
      "91   {'BusinessAcceptsCreditCards': 'True', 'WiFi':...   \n",
      "120  {'BusinessAcceptsCreditCards': 'True', 'ByAppo...   \n",
      "141  {'OutdoorSeating': 'True', 'RestaurantsAttire'...   \n",
      "\n",
      "                                            categories  \\\n",
      "26   Women's Clothing, Accessories, Children's Clot...   \n",
      "85   Food, Restaurants, Salad, Coffee & Tea, Breakf...   \n",
      "91                      Towing, Automotive, Body Shops   \n",
      "120  Parenting Classes, Maternity Wear, Fashion, Ed...   \n",
      "141  Live/Raw Food, Restaurants, Seafood, Beer Bar,...   \n",
      "\n",
      "                                                 hours  \n",
      "26   {'Monday': '11:0-18:0', 'Tuesday': '11:0-18:0'...  \n",
      "85   {'Monday': '0:0-0:0', 'Tuesday': '8:0-14:0', '...  \n",
      "91   {'Monday': '0:0-0:0', 'Tuesday': '8:0-17:0', '...  \n",
      "120  {'Monday': '0:0-0:0', 'Tuesday': '10:0-18:0', ...  \n",
      "141  {'Monday': '0:0-0:0', 'Tuesday': '11:0-21:0', ...  \n"
     ]
    }
   ],
   "source": [
    "import pandas as pd\n",
    "import json\n",
    "import numpy as np\n",
    "\n",
    "# Function to load JSON file into Pandas DataFrame\n",
    "def load_json(filename):\n",
    "    \"\"\"Loads a JSON file into a pandas DataFrame\"\"\"\n",
    "    data = []\n",
    "    with open(filename, 'r', encoding='utf-8') as f:\n",
    "        for line in f:\n",
    "            data.append(json.loads(line))\n",
    "    return pd.DataFrame(data)\n",
    "\n",
    "# Load Yelp dataset\n",
    "business_df = load_json(r\"C:\\BIANCONERI\\Master's AI SJSU\\5- Advanced Data Mining\\Final Project\\Yelp-JSON\\Yelp JSON\\yelp_dataset\\yelp_academic_dataset_business.json\")\n",
    "review_df = load_json(r\"C:\\BIANCONERI\\Master's AI SJSU\\5- Advanced Data Mining\\Final Project\\Yelp-JSON\\Yelp JSON\\yelp_dataset\\yelp_academic_dataset_review.json\")\n",
    "user_df = load_json(r\"C:\\BIANCONERI\\Master's AI SJSU\\5- Advanced Data Mining\\Final Project\\Yelp-JSON\\Yelp JSON\\yelp_dataset\\yelp_academic_dataset_user.json\")\n",
    "print(f\"business_df {business_df.shape}\")\n",
    "print(f\"review_df {review_df.shape}\")\n",
    "print(f\"user_df {user_df.shape}\")\n",
    "\n",
    "# Filter only OPEN businesses in CALIFORNIA W/ 'categories' column exists and is not null\n",
    "business_df = business_df[(business_df['state'] == 'CA') & (business_df['is_open'] == 1) & (business_df['categories'].notna())]\n",
    "print(f\"business_df {business_df.shape}\")\n",
    "print(business_df.head())"
   ]
  },
  {
   "cell_type": "code",
   "execution_count": 48,
   "id": "0063b048-625b-4e90-bd43-51e6f0d91619",
   "metadata": {},
   "outputs": [
    {
     "name": "stdout",
     "output_type": "stream",
     "text": [
      "Number of unique categories: 946\n",
      "{'Aquariums', 'Bocce Ball', 'Arts & Entertainment', 'Nurseries & Gardening', 'Indonesian', 'Orthodontists', 'Pet Adoption', 'Ayurveda', 'Guns & Ammo', 'Threading Services', 'Champagne Bars', 'Paint & Sip', 'Health Markets', 'Session Photography', 'Christmas Trees', 'Contractors', 'Music & Video', 'Eyelash Service', 'Marketing', 'Cardiologists', 'Lighting Stores', 'Pet Training', 'Martial Arts', 'Orthopedists', 'Naturopathic/Holistic', 'Donuts', 'Apartments', 'Framing', 'Italian', 'Adult Education', 'Museums', 'Vehicle Wraps', 'Propane', 'Real Estate', 'Nail Technicians', 'Shredding Services', 'Middle Eastern', 'Colleges & Universities', 'Public Art', 'Mortgage Brokers', 'IV Hydration', 'Amusement Parks', 'Himalayan/Nepalese', 'Barbeque', 'Spine Surgeons', 'Lakes', 'Leather Goods', 'Tanning Beds', 'Laser Eye Surgery/Lasik', 'Home Health Care', 'Costumes', 'Vocational & Technical School', 'Pilates', 'Live/Raw Food', 'Karaoke', 'Hospice', 'Sandwiches', 'Challenge Courses', 'Australian', 'Gay Bars', 'Sports Medicine', 'Massage Therapy', 'Child Care & Day Care', 'Digitizing Services', 'Vietnamese', 'Wineries', 'Dive Bars', 'Bike Rentals', 'Races & Competitions', 'Fish & Chips', 'Business Consulting', 'Trainers', 'Specialty Schools', 'Prosthetics', 'Ticket Sales', 'Car Share Services', 'Eyebrow Services', 'Argentine', 'Trusts', 'Spiritual Shop', 'Perfume', 'Bespoke Clothing', 'Tanning', 'Chocolatiers & Shops', 'Knitting Supplies', 'Firewood', 'Stadiums & Arenas', 'Day Camps', 'Fingerprinting', 'Car Rental', 'Hair Removal', 'Valet Services', 'Service Stations', 'Day Spas', 'Discount Store', 'Auto Glass Services', 'General Dentistry', 'Arcades', 'Vegetarian', 'Whale Watching Tours', 'Shutters', 'Batting Cages', 'Commercial Truck Dealers', 'Endocrinologists', 'High Fidelity Audio Equipment', 'Rehabilitation Center', 'Beer Tours', 'Life Coach', 'Massage', 'Gardeners', 'Auto Parts & Supplies', 'Motorcycle Rental', 'Pet Photography', 'Home Inspectors', 'Photography Stores & Services', 'Street Vendors', 'Car Wash', 'Kickboxing', 'Used Car Dealers', 'Print Media', 'Tai Chi', 'Fertility', 'Videographers', 'Strip Clubs', 'Plumbing', 'Oncologist', 'Laser Hair Removal', 'Estate Planning Law', 'Customized Merchandise', 'Appraisal Services', 'Tiki Bars', 'Trailer Dealers', 'First Aid Classes', 'Tabletop Games', 'Colonics', 'Estheticians', 'Hot Pot', 'Tenant and Eviction Law', 'Pressure Washers', 'Departments of Motor Vehicles', 'Waxing', 'Mobile Dent Repair', 'Ski & Snowboard Shops', 'Security Systems', 'Recording & Rehearsal Studios', 'Bail Bondsmen', 'Botanical Gardens', 'Business Law', 'Art Schools', 'Used', 'Food Stands', 'Health Coach', 'Trophy Shops', 'Video Game Stores', 'Souvenir Shops', 'Chiropractors', 'Stucco Services', 'Magicians', 'Wholesale Stores', 'Boot Camps', 'Laundry Services', 'Packing Supplies', \"Children's Clothing\", 'Medical Centers', 'Lactation Services', 'Supernatural Readings', 'Gastropubs', 'Herbal Shops', 'Scuba Diving', \"Men's Clothing\", 'Party Characters', 'Hang Gliding', 'Beach Equipment Rentals', 'Archery', 'Podiatrists', 'Disc Golf', 'Candy Stores', 'Prosthodontists', 'RV Rental', 'Music Production Services', 'Indian', 'Reproductive Health Services', 'Insulation Installation', 'Haunted Houses', 'Family Practice', 'Financial Services', 'Desserts', \"Children's Museums\", 'Grocery', 'Gelato', 'Pubs', 'Virtual Reality Centers', 'Wine Bars', 'Cards & Stationery', 'Hotels & Travel', 'Hydrotherapy', 'Psychic Mediums', 'Planetarium', 'Art Tours', 'DUI Law', 'Animal Physical Therapy', 'Office Equipment', 'Tax Services', 'Test Preparation', 'Emergency Pet Hospital', 'Auto Detailing', 'Marinas', 'Immunodermatologists', 'Sports Bars', 'Boating', 'Drive-In Theater', 'Cinema', 'Metal Fabricators', 'Clowns', 'Kitchen Supplies', 'Fruits & Veggies', 'Real Estate Agents', 'Furniture Assembly', 'Grout Services', 'Psychics', 'Shopping', 'Bike Repair/Maintenance', 'Drywall Installation & Repair', 'ATV Rentals/Tours', 'Travel Services', 'Face Painting', 'Mobile Phone Repair', 'Delis', 'Pet Groomers', 'Indoor Landscaping', 'Gift Shops', 'Party Supplies', 'Food Delivery Services', 'Herbs & Spices', 'Vape Shops', 'Solar Panel Cleaning', 'Party & Event Planning', 'Windshield Installation & Repair', 'Vascular Medicine', 'Bounce House Rentals', 'Food Court', 'Fast Food', 'Art Galleries', 'Mattresses', 'Party Bus Rentals', 'Pop-Up Restaurants', 'Glass & Mirrors', 'Wedding Planning', 'Organic Stores', 'Kids Hair Salons', 'Real Estate Services', 'Sewing & Alterations', 'Water Delivery', 'Permanent Makeup', 'Beauty & Spas', 'DJs', 'Art Classes', 'Cannabis Clinics', 'Sporting Goods', 'Piano Services', 'Damage Restoration', 'Vehicle Shipping', 'Rafting/Kayaking', 'Automotive', 'Software Development', 'Hotels', 'IT Services & Computer Repair', 'Hair Salons', 'Electronics', 'Hospitals', 'Tacos', 'Embroidery & Crochet', 'Building Supplies', 'Employment Agencies', 'Movers', 'Scooter Tours', 'Appliances & Repair', 'Vitamins & Supplements', 'Public Markets', 'Dentists', 'Trailer Rental', 'Bed & Breakfast', 'Septic Services', 'Snorkeling', 'Brewing Supplies', 'Smog Check Stations', 'Clock Repair', 'Photography Classes', 'Home Decor', 'Bartenders', 'Tires', 'Plastic Surgeons', 'Bubble Tea', 'Signmaking', 'Employment Law', 'Outdoor Furniture Stores', 'Beer Gardens', 'Insurance', 'Tax Law', 'Plus Size Fashion', 'Video/Film Production', 'Hats', 'Emergency Medicine', 'Comic Books', 'Bus Rental', 'Golf Equipment Shops', 'Tui Na', 'Tobacco Shops', 'Paint Stores', 'Social Clubs', 'Preschools', 'Department Stores', 'Airport Terminals', 'Interior Design', 'Teeth Whitening', 'Asian Fusion', 'Cosmetology Schools', 'Tea Rooms', 'Jazz & Blues', 'Nurse Practitioner', 'Paddleboarding', 'Musical Instrument Services', 'Shades & Blinds', 'Funeral Services & Cemeteries', 'Cosmetic Surgeons', 'Accessories', 'Maternity Wear', 'Art Museums', 'Nail Salons', 'Golf Equipment', 'Bookkeepers', 'Criminal Defense Law', 'Swimwear', 'Landscape Architects', \"Men's Hair Salons\", 'Chinese', 'Professional Sports Teams', 'Cryotherapy', 'Henna Artists', 'Acai Bowls', 'Tasting Classes', 'Waterproofing', 'Environmental Abatement', 'Floral Designers', 'Dermatologists', 'Crane Services', 'Hiking', 'Mags', 'Whiskey Bars', 'Thrift Stores', 'Soccer', 'Door Sales/Installation', 'Wheel & Rim Repair', 'Watch Repair', 'Screen Printing', 'Silent Disco', 'Courthouses', 'Hypnosis/Hypnotherapy', 'Vacation Rental Agents', 'Art Installation', 'Pet Stores', 'Legal Services', 'British', 'Gemstones & Minerals', 'Condominiums', 'Dance Studios', 'Cremation Services', 'Home Organization', 'Lighting Fixtures & Equipment', 'Cardio Classes', 'Radio Stations', 'Pool & Billiards', 'Gun/Rifle Ranges', 'Motorcycle Dealers', 'Restaurants', 'Bikes', 'Commercial Real Estate', 'Check Cashing/Pay-day Loans', 'Auto Insurance', 'Keys & Locksmiths', 'Creperies', 'Furniture Stores', 'Juice Bars & Smoothies', 'Health & Medical', 'Internet Cafes', '& Probates', 'Food', 'Religious Organizations', 'Flooring', 'Flea Markets', 'Shoe Shine', 'Drama Schools', 'Optometrists', 'Workers Compensation Law', 'Brazilian Jiu-jitsu', 'Excavation Services', 'Carpet Cleaning', 'Home Window Tinting', 'Used Bookstore', 'Specialty Food', 'Homeowner Association', 'Home & Garden', 'Karate', 'Weight Loss Centers', 'Pet Boarding', 'Bookstores', 'Art Supplies', 'Nanny Services', 'Poke', 'Visitor Centers', 'Otologists', 'Florists', 'Refinishing Services', 'Mortgage Lenders', 'Watches', 'Orthotics', 'Property Management', 'EV Charging Stations', 'Local Flavor', 'Outdoor Gear', 'Aestheticians', 'Lice Services', 'Cajun/Creole', 'Baby Gear & Furniture', 'Assisted Living Facilities', 'Fishing', 'House Sitters', 'Kombucha', 'Circuit Training Gyms', 'Flowers & Gifts', 'Golf', 'Handyman', 'Acne Treatment', 'Limos', 'Sugaring', 'Internal Medicine', 'Bus Tours', 'Piano Bars', 'Do-It-Yourself Food', 'Vintage & Consignment', 'Pediatricians', 'Home & Rental Insurance', 'Community Gardens', 'Swimming Lessons/Schools', 'Retina Specialists', 'Spanish', 'Thai', 'Ophthalmologists', 'Window Washing', 'Free Diving', 'Scandinavian', 'Bar Crawl', 'Payroll Services', 'Nutritionists', 'Venues & Event Spaces', 'Elementary Schools', 'Party Bike Rentals', 'Security Services', 'Airlines', 'Cannabis Dispensaries', 'Turkish', 'Kids Activities', 'Midwives', 'Photographers', 'Moroccan', 'Campgrounds', 'Arts & Crafts', 'Middle Schools & High Schools', 'Hydroponics', 'Horse Boarding', 'Alternative Medicine', 'Health Insurance Offices', 'Immigration Law', 'Barre Classes', 'Counseling & Mental Health', 'Empanadas', 'Home Theatre Installation', 'Tex-Mex', 'Falafel', 'Hair Loss Centers', 'Roof Inspectors', 'Mountain Biking', 'Vacation Rentals', 'Ethnic Grocery', 'Decks & Railing', 'Investing', 'Personal Shopping', 'Sports Clubs', 'Clothing Rental', 'International Grocery', 'Korean', 'Churches', 'Reflexology', 'Candle Stores', 'Health Retreats', 'Outlet Stores', 'Butcher', 'Luggage', 'Musical Instruments & Teachers', 'Mobile Phones', 'Gymnastics', 'Hydro-jetting', 'Comedy Clubs', 'Data Recovery', 'Escape Games', 'Float Spa', 'Masonry/Concrete', 'Parks', 'Trivia Hosts', 'Screen Printing/T-Shirt Printing', 'Beer', 'American (New)', 'Performing Arts', 'Cosmetic Dentists', 'Cideries', 'Pet Services', 'Snow Removal', 'Wine & Spirits', 'Cocktail Bars', 'Walking Tours', 'Boat Charters', 'Astrologers', 'Driving Schools', 'Jewelry', 'Medical Spas', 'Japanese', 'Libraries', 'Halal', 'Shoe Stores', 'Breakfast & Brunch', 'Wholesalers', 'Towing', 'Salad', 'Car Dealers', 'Garage Door Services', 'Windows Installation', 'Parenting Classes', 'Internet Service Providers', 'Artificial Turf', 'Shoe Repair', 'Recycling Center', 'Tattoo Removal', 'Home Network Installation', 'Auction Houses', 'Latin American', 'Cuban', 'Senior Centers', 'Brewpubs', 'Shipping Centers', 'Bankruptcy Law', 'Tree Services', 'Pet Sitting', 'Behavior Analysts', 'Home Automation', 'Environmental Testing', 'Endodontists', 'Sailing', 'Event Planning & Services', 'Physical Therapy', 'Hobby Shops', 'Barbers', 'Blow Dry/Out Services', 'Cooking Classes', 'Rugs', 'Pain Management', 'Food Tours', 'Coffee Roasteries', 'Hot Dogs', 'Rheumatologists', 'Chicken Shop', 'University Housing', 'CSA', 'Antiques', 'Private Investigation', 'Hot Tub & Pool', 'Hardware Stores', 'Oil Change Stations', 'Pool Cleaners', 'Passport & Visa Services', 'Buffets', 'Skin Care', 'Taxis', 'Kitchen & Bath', 'Emergency Rooms', 'Skating Rinks', 'Hair Extensions', 'Cheese Shops', 'Yoga', 'Skate Shops', 'Historical Tours', 'Mass Media', 'Furniture Reupholstery', 'Machine & Tool Rental', 'Community Service/Non-Profit', 'Acupuncture', 'Rock Climbing', 'Personal Injury Law', 'Hair Stylists', 'Sex Therapists', 'Air Duct Cleaning', 'Jewelry Repair', 'Self Storage', 'Travel Agents', 'Pharmacy', 'Self-defense Classes', 'Pediatric Dentists', 'Bike tours', 'Bakeries', 'Web Design', 'Advertising', 'Special Education', 'Local Services', 'Beer Bar', 'Books', 'Breweries', 'Airport Shuttles', 'Real Estate Law', 'Debt Relief Services', 'Tennis', 'Dance Clubs', 'Pool Halls', 'Concierge Medicine', 'Olive Oil', 'Laboratory Testing', 'Themed Cafes', 'Boxing', 'Addiction Medicine', 'Interval Training Gyms', 'Ethnic Food', 'Props', 'Electronics Repair', 'Surgeons', 'Carpeting', 'Event Photography', 'Seafood Markets', 'Public Transportation', 'Urologists', 'Trains', 'Reiki', 'Periodontists', 'Oral Surgeons', 'Donation Center', 'Divorce & Family Law', 'Glass Blowing', 'Taiwanese', 'Farming Equipment', 'Dim Sum', 'Fabric Stores', 'Professional Services', 'Spray Tanning', 'Powder Coating', 'Registration Services', 'Surfing', 'Home Services', 'Mortuary Services', 'Irish Pub', 'Mobile Phone Accessories', 'Steakhouses', 'Neurologist', 'Gunsmith', 'Laundromat', 'Modern European', 'Piercing', 'Tours', 'Toy Stores', 'Hawaiian', 'Brazilian', 'Ear Nose & Throat', 'Office Cleaning', 'Surf Schools', 'Allergists', 'Airports', 'Playgrounds', 'Caterers', 'Undersea/Hyperbaric Medicine', 'Carpenters', 'Memory Care', 'Gluten-Free', 'Tapas Bars', 'Drugstores', 'Active Life', 'Wallpapering', 'Pizza', 'Mediterranean', 'Structural Engineers', 'Mailbox Centers', 'Burgers', 'Post Offices', 'Hunting & Fishing Supplies', 'Ranches', 'Wine Tasting Room', 'Life Insurance', 'Countertop Installation', 'Livestock Feed & Supply', 'Public Services & Government', 'Cooking Schools', 'Retirement Homes', 'Preventive Medicine', 'Furniture Rental', 'Dance Schools', 'Parking', 'Distilleries', 'Halotherapy', 'Roadside Assistance', 'Tapas/Small Plates', 'Packing Services', \"Women's Clothing\", 'Wraps', 'Heating & Air Conditioning/HVAC', 'Salvadoran', 'Accountants', 'Real Estate Photography', 'Country Clubs', 'Shopping Centers', 'Water Purification Services', 'French', 'Personal Chefs', 'Body Contouring', 'Utilities', 'Vinyl Records', 'Printing Services', 'Guest Houses', 'Soup', 'Cafeteria', 'Ethiopian', 'Buses', 'Farmers Market', 'Solar Installation', 'Furniture Repair', 'Knife Sharpening', 'Auto Repair', 'Resorts', 'Musicians', 'Education', 'Couriers & Delivery Services', 'Lounges', 'Fitness & Instruction', 'Pakistani', 'Wigs', 'Rolfing', 'Estate Liquidation', 'Engraving', 'Beaches', 'Videos & Video Game Rental', 'Architectural Tours', 'Appliances', 'Sunglasses', 'Cycling Classes', 'Muay Thai', 'Contract Law', 'Doulas', 'Tiling', 'Bagels', 'RV Parks', 'Skydiving', 'Ultrasound Imaging Centers', 'Process Servers', 'Wine Tours', 'New Mexican Cuisine', 'Wildlife Control', 'Fences & Gates', 'Skilled Nursing', 'Wedding Chapels', 'Pet Transportation', 'Music Venues', 'Audio/Visual Equipment Rental', 'Ice Cream & Frozen Yogurt', 'Summer Camps', 'Auto Customization', 'Speakeasies', 'Truck Rental', 'Festivals', 'Pop-up Shops', 'Nightlife', 'Ramen', 'Halfway Houses', 'Dog Walkers', 'Holistic Animal Care', 'Banks & Credit Unions', 'Motorcycle Repair', 'Walk-in Clinics', 'Traffic Ticketing Law', 'Recreation Centers', 'Szechuan', 'Local Fish Stores', 'Wine Tasting Classes', 'Personal Assistants', 'Meat Shops', 'Grilling Equipment', 'Lebanese', 'Occupational Therapy', 'Lawyers', 'Veterinarians', 'Body Shops', 'Roofing', 'Paragliding', 'Obstetricians & Gynecologists', 'Transportation', 'American (Traditional)', 'Coffee & Tea', 'Formal Wear', 'Graphic Design', 'Gas Stations', 'Pets', 'Aerial Fitness', 'Scooter Rentals', 'Sports Wear', 'Comfort Food', 'Hybrid Car Repair', 'Fire Protection Services', 'Animal Shelters', 'Qi Gong', 'Skate Parks', 'Water Stores', 'Landmarks & Historical Buildings', 'Personal Care Services', 'Television Service Providers', 'Cosmetics & Beauty Supply', 'Honey', 'RV Dealers', 'Tattoo', 'Farms', 'Balloon Services', 'Irish', 'CPR Classes', 'Home Cleaning', 'Zoos', 'Diving', 'Social Security Law', 'Greek', 'Patisserie/Cake Shop', 'Motorcycle Gear', 'Fashion', 'Amateur Sports Teams', 'Lingerie', 'Team Building Activities', 'Shaved Ice', 'Notaries', 'Cabinetry', 'Chicken Wings', 'Doctors', 'Dry Cleaning & Laundry', 'Head Shops', 'Convenience Stores', 'Demolition Services', 'Saunas', 'Diagnostic Services', 'Adult Entertainment', 'Flight Instruction', 'Architects', 'Boudoir Photography', 'Food Trucks', 'Town Car Service', 'Fireplace Services', 'Dive Shops', 'Pulmonologist', 'Officiants', 'Cafes', 'Painters', 'Boat Tours', 'Water Heater Installation/Repair', 'Irrigation', 'General Litigation', 'Tuscan', 'Seafood', 'Psychologists', 'Meditation Centers', 'Pasta Shops', 'Bars', 'Chinese Martial Arts', 'Bowling', 'Diagnostic Imaging', 'Wills', 'Adult', 'Elder Care Planning', 'Pool & Hot Tub Service', 'Bridal', 'Car Stereo Installation', 'Yelp Events', 'Makeup Artists', 'Gutter Services', 'Sleep Specialists', 'Traditional Chinese Medicine', 'Party Equipment Rentals', 'Telecommunications', 'Landscaping', 'Montessori Schools', 'Gyms', 'Massage Schools', 'Cultural Center', 'Vegan', 'Community Centers', 'Attraction Farms', 'Oxygen Bars', 'Pumpkin Patches', 'Computers', 'Smokehouse', 'Eyewear & Opticians', 'Private Tutors', 'Home Staging', 'Surf Shop', 'Childbirth Education', 'Photo Booth Rentals', 'Psychiatrists', 'Cupcakes', 'Car Window Tinting', 'Pest Control', 'Gold Buyers', 'Mexican', 'Career Counseling', 'Soul Food', 'Golf Lessons', 'Swimming Pools', 'Electricians', 'Diners', 'Matchmakers', 'Cannabis Collective', 'Carpet Installation', 'Lawn Services', 'Prenatal/Perinatal Care', 'Imported Food', 'Transmission Repair', 'Horseback Riding', 'Custom Cakes', 'Dumpster Rental', 'Police Departments', 'Shared Office Spaces', 'Auto Upholstery', 'Noodles', 'Financial Advising', 'Dry Cleaning', 'Outdoor Power Equipment Services', 'Sushi Bars', 'Mobile Home Dealers', 'Grill Services', 'Chimney Sweeps', 'Urgent Care', 'Radiologists', 'Educational Services', 'Medical Cannabis Referrals', 'Patio Coverings', 'TV Mounting', 'Pawn Shops', 'Junk Removal & Hauling', 'Firearm Training', 'Dog Parks'}\n"
     ]
    }
   ],
   "source": [
    "# Extract and print all unique categories from business_df\n",
    "unique_categories = set()\n",
    "business_df['categories'].apply(lambda x: unique_categories.update(x.split(', ')))\n",
    "print(f\"Number of unique categories: {len(unique_categories)}\")\n",
    "print(unique_categories)"
   ]
  },
  {
   "cell_type": "code",
   "execution_count": 49,
   "id": "03e9468d-37e6-49a6-bab0-4449e5604fbd",
   "metadata": {},
   "outputs": [],
   "source": [
    "# Convert categories to lowercase for consistency\n",
    "business_df['categories'] = business_df['categories'].apply(lambda x: [category.lower() for category in x.split(', ')])"
   ]
  },
  {
   "cell_type": "code",
   "execution_count": 50,
   "id": "1e98ee0e-447e-4909-b102-b9af09e9bbfe",
   "metadata": {},
   "outputs": [
    {
     "name": "stdout",
     "output_type": "stream",
     "text": [
      "restaurants_df (1015, 14)\n",
      "restaurants_df (1015, 10)\n",
      "                business_id                             name  \\\n",
      "85   IDtLPgUrqorrpqSLdfMhZQ             Helena Avenue Bakery   \n",
      "141  SZU9c8V2GuREDN5KgyHFJw  Santa Barbara Shellfish Company   \n",
      "431  ifjluUv4VASwmFqEp8cWlQ                    Marty's Pizza   \n",
      "470  VeFfrEZ4iWaecrQg6Eq4cg                         Cal Taco   \n",
      "555  bdfZdB2MTXlT6-RBjSIpQg                       Pho Bistro   \n",
      "\n",
      "                       address           city postal_code   latitude  \\\n",
      "85       131 Anacapa St, Ste C  Santa Barbara       93101  34.414445   \n",
      "141          230 Stearns Wharf  Santa Barbara       93101  34.408715   \n",
      "431         2733 De La Vina St  Santa Barbara       93105  34.436236   \n",
      "470  7320 Hollister Ave, Ste 1         Goleta       93117  34.430542   \n",
      "555  903 Embarcadero Del Norte     Isla Vista       93117  34.412934   \n",
      "\n",
      "      longitude                                         categories  stars  \\\n",
      "85  -119.690672  [food, restaurants, salad, coffee & tea, break...    4.0   \n",
      "141 -119.685019  [live/raw food, restaurants, seafood, beer bar...    4.0   \n",
      "431 -119.726147                               [pizza, restaurants]    4.0   \n",
      "470 -119.882367  [burgers, cafes, restaurants, mexican, america...    4.0   \n",
      "555 -119.855531  [food, restaurants, chinese, bubble tea, vietn...    3.0   \n",
      "\n",
      "     review_count  \n",
      "85            389  \n",
      "141          2404  \n",
      "431            64  \n",
      "470           189  \n",
      "555           184  \n"
     ]
    }
   ],
   "source": [
    "# Define restaurant-related keywords\n",
    "restaurant_keywords = [\"bars\",\"donuts\",\"barbeque\", \"sandwiches\",\"wineries\",\"fish & chips\",\"vegetarian\", \"beer\", \"food\", \"dessert\", \"gelato\", \"restaurants\", \"wine\", \"tacos\", \"tea\", \"acai bowls\", \"whiskey\", \"juice bars & smoothies\", \"poke\", \"spirits\", \"cocktail\", \"salad\", \"coffee\", \"bakeries\", \"breweries\", \"pizza\", \"burgers\", \"soup\", \"bagels\", \"ice cream & frozen yogurt\", \"ramen\", \"chicken wings\", \"food trucks\", \"cafes\", \"seafood\", \"vegan\", \"diners\", \"noodles\"]\n",
    "\n",
    "# Filter RESTAURANTS ONLY (businesses with restaurant-related keywords)\n",
    "restaurants_df = business_df[business_df['categories'].apply(lambda x: any(keyword in x for keyword in restaurant_keywords))]\n",
    "\n",
    "print(f\"restaurants_df {restaurants_df.shape}\")\n",
    "\n",
    "# Select relevant columns // we may get rid of address related columns if we won't use them\n",
    "restaurants_df = restaurants_df[['business_id', 'name', 'address', 'city', 'postal_code', 'latitude', 'longitude', 'categories', 'stars', 'review_count']]\n",
    "\n",
    "print(f\"restaurants_df {restaurants_df.shape}\")\n",
    "print(restaurants_df.head())\n",
    "\n",
    "# Drop rows with missing values // there is none\n",
    "#df_clean = restaurants_df.dropna()\n",
    "#print(f\"df_clean {df_clean.shape}\")"
   ]
  }
 ],
 "metadata": {
  "kernelspec": {
   "display_name": "Python 3 (ipykernel)",
   "language": "python",
   "name": "python3"
  },
  "language_info": {
   "codemirror_mode": {
    "name": "ipython",
    "version": 3
   },
   "file_extension": ".py",
   "mimetype": "text/x-python",
   "name": "python",
   "nbconvert_exporter": "python",
   "pygments_lexer": "ipython3",
   "version": "3.11.5"
  }
 },
 "nbformat": 4,
 "nbformat_minor": 5
}
