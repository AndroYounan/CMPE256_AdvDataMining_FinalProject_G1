{
 "cells": [
  {
   "cell_type": "markdown",
   "id": "26bc35f0-c824-4775-9bdf-a06f52365c07",
   "metadata": {},
   "source": [
    "# Preprocessing"
   ]
  },
  {
   "cell_type": "code",
   "execution_count": 2,
   "id": "20fc22ab-b939-483a-bb29-92a2c1d9fb96",
   "metadata": {},
   "outputs": [
    {
     "name": "stdout",
     "output_type": "stream",
     "text": [
      "business_df (150346, 14)\n",
      "review_df (6990280, 9)\n",
      "user_df (1987897, 22)\n",
      "business_df (4064, 14)\n",
      "                business_id                             name  \\\n",
      "26   noByYNtDLQAra9ccqxdfDw                              H&M   \n",
      "85   IDtLPgUrqorrpqSLdfMhZQ             Helena Avenue Bakery   \n",
      "91   nUqrF-h9S7myCcvNDecOvw             Iron Horse Auto Body   \n",
      "120  bYjnX_J1bHZob10DoSFkqQ      Tinkle Belle Diaper Service   \n",
      "141  SZU9c8V2GuREDN5KgyHFJw  Santa Barbara Shellfish Company   \n",
      "\n",
      "                   address           city state postal_code   latitude  \\\n",
      "26        827-833 State St  Santa Barbara    CA       93101  34.420209   \n",
      "85   131 Anacapa St, Ste C  Santa Barbara    CA       93101  34.414445   \n",
      "91          825 Cacique St  Santa Barbara    CA       93103  34.419620   \n",
      "120                         Santa Barbara    CA       93101  34.420334   \n",
      "141      230 Stearns Wharf  Santa Barbara    CA       93101  34.408715   \n",
      "\n",
      "      longitude  stars  review_count  is_open  \\\n",
      "26  -119.700460    3.0            24        1   \n",
      "85  -119.690672    4.0           389        1   \n",
      "91  -119.677032    4.5            32        1   \n",
      "120 -119.710749    5.0            17        1   \n",
      "141 -119.685019    4.0          2404        1   \n",
      "\n",
      "                                            attributes  \\\n",
      "26   {'BusinessAcceptsCreditCards': 'True', 'BikePa...   \n",
      "85   {'RestaurantsTakeOut': 'True', 'NoiseLevel': '...   \n",
      "91   {'BusinessAcceptsCreditCards': 'True', 'WiFi':...   \n",
      "120  {'BusinessAcceptsCreditCards': 'True', 'ByAppo...   \n",
      "141  {'OutdoorSeating': 'True', 'RestaurantsAttire'...   \n",
      "\n",
      "                                            categories  \\\n",
      "26   Women's Clothing, Accessories, Children's Clot...   \n",
      "85   Food, Restaurants, Salad, Coffee & Tea, Breakf...   \n",
      "91                      Towing, Automotive, Body Shops   \n",
      "120  Parenting Classes, Maternity Wear, Fashion, Ed...   \n",
      "141  Live/Raw Food, Restaurants, Seafood, Beer Bar,...   \n",
      "\n",
      "                                                 hours  \n",
      "26   {'Monday': '11:0-18:0', 'Tuesday': '11:0-18:0'...  \n",
      "85   {'Monday': '0:0-0:0', 'Tuesday': '8:0-14:0', '...  \n",
      "91   {'Monday': '0:0-0:0', 'Tuesday': '8:0-17:0', '...  \n",
      "120  {'Monday': '0:0-0:0', 'Tuesday': '10:0-18:0', ...  \n",
      "141  {'Monday': '0:0-0:0', 'Tuesday': '11:0-21:0', ...  \n"
     ]
    }
   ],
   "source": [
    "import pandas as pd\n",
    "import json\n",
    "import numpy as np\n",
    "\n",
    "# Function to load JSON file into Pandas DataFrame\n",
    "def load_json(filename):\n",
    "    \"\"\"Loads a JSON file into a pandas DataFrame\"\"\"\n",
    "    data = []\n",
    "    with open(filename, 'r', encoding='utf-8') as f:\n",
    "        for line in f:\n",
    "            data.append(json.loads(line))\n",
    "    return pd.DataFrame(data)\n",
    "\n",
    "# Load Yelp dataset\n",
    "business_df = load_json(r\"C:\\BIANCONERI\\Master's AI SJSU\\5- Advanced Data Mining\\Final Project\\Yelp-JSON\\Yelp JSON\\yelp_dataset\\yelp_academic_dataset_business.json\")\n",
    "review_df = load_json(r\"C:\\BIANCONERI\\Master's AI SJSU\\5- Advanced Data Mining\\Final Project\\Yelp-JSON\\Yelp JSON\\yelp_dataset\\yelp_academic_dataset_review.json\")\n",
    "user_df = load_json(r\"C:\\BIANCONERI\\Master's AI SJSU\\5- Advanced Data Mining\\Final Project\\Yelp-JSON\\Yelp JSON\\yelp_dataset\\yelp_academic_dataset_user.json\")\n",
    "print(f\"business_df {business_df.shape}\")\n",
    "print(f\"review_df {review_df.shape}\")\n",
    "print(f\"user_df {user_df.shape}\")\n",
    "\n",
    "# Filter only OPEN businesses in CALIFORNIA W/ 'categories' column exists and is not null\n",
    "business_df = business_df[(business_df['state'] == 'CA') & (business_df['is_open'] == 1) & (business_df['categories'].notna())]\n",
    "print(f\"business_df {business_df.shape}\")\n",
    "print(business_df.head())"
   ]
  },
  {
   "cell_type": "code",
   "execution_count": 3,
   "id": "0063b048-625b-4e90-bd43-51e6f0d91619",
   "metadata": {},
   "outputs": [
    {
     "name": "stdout",
     "output_type": "stream",
     "text": [
      "Number of unique categories: 946\n",
      "{'Public Transportation', 'Batting Cages', 'Crane Services', 'Massage Schools', 'Cuban', 'Solar Installation', 'Tui Na', 'Greek', 'Tree Services', 'Private Investigation', 'Party Bus Rentals', 'Obstetricians & Gynecologists', 'Orthopedists', 'Patisserie/Cake Shop', 'Beer Gardens', 'Acne Treatment', 'Naturopathic/Holistic', 'General Litigation', 'Banks & Credit Unions', 'Preventive Medicine', 'Saunas', 'Dermatologists', 'International Grocery', 'Firewood', 'Arts & Crafts', 'Montessori Schools', 'Oncologist', 'Ear Nose & Throat', 'Building Supplies', 'Spiritual Shop', 'Auction Houses', 'Mortuary Services', 'Child Care & Day Care', 'Home Network Installation', 'Couriers & Delivery Services', 'Audio/Visual Equipment Rental', 'Party Equipment Rentals', 'Counseling & Mental Health', 'Food Delivery Services', 'Software Development', 'Rafting/Kayaking', 'Wheel & Rim Repair', 'Pool & Hot Tub Service', 'Beer', 'Investing', 'Olive Oil', 'Pet Groomers', 'Utilities', 'Sandwiches', 'Meditation Centers', 'Diners', 'Wine Tasting Classes', 'Ophthalmologists', 'Specialty Schools', 'Telecommunications', 'Workers Compensation Law', 'Moroccan', 'Furniture Reupholstery', 'Pakistani', 'Tanning Beds', 'Passport & Visa Services', 'Occupational Therapy', 'Livestock Feed & Supply', 'Allergists', 'Cosmetic Surgeons', 'Painters', 'Hair Removal', 'Wholesale Stores', 'Outdoor Gear', 'Skydiving', 'Oral Surgeons', 'Movers', 'Vehicle Wraps', 'Sports Wear', 'Decks & Railing', 'Hair Loss Centers', 'Elementary Schools', 'Surf Schools', 'Dentists', 'Criminal Defense Law', 'Muay Thai', 'Auto Parts & Supplies', 'Sailing', 'Social Security Law', 'Door Sales/Installation', 'Jazz & Blues', 'Junk Removal & Hauling', 'Police Departments', 'Kids Hair Salons', 'Immigration Law', 'TV Mounting', 'Botanical Gardens', 'Plastic Surgeons', 'Adult Entertainment', 'Community Gardens', 'Photography Classes', 'Veterinarians', 'Butcher', 'Coffee Roasteries', 'Special Education', 'Driving Schools', 'Musical Instrument Services', 'Tax Law', 'British', 'Snow Removal', 'Interval Training Gyms', 'Piercing', 'Vacation Rental Agents', 'RV Rental', 'Cremation Services', 'Eyelash Service', 'Nanny Services', 'Haunted Houses', 'Historical Tours', 'Windshield Installation & Repair', 'Candle Stores', 'Fitness & Instruction', 'Attraction Farms', 'Beach Equipment Rentals', 'Pawn Shops', 'Furniture Assembly', 'Orthotics', 'Acai Bowls', 'Dry Cleaning', 'Gay Bars', 'Clothing Rental', 'Pasta Shops', 'Trivia Hosts', 'Hydroponics', 'Personal Assistants', 'Packing Services', 'Prenatal/Perinatal Care', 'Grout Services', 'Eyewear & Opticians', 'Escape Games', 'Threading Services', 'Watch Repair', 'Grocery', 'Mass Media', 'Insurance', 'Szechuan', 'RV Parks', 'Boot Camps', 'Art Schools', 'Plumbing', 'Photo Booth Rentals', 'Knitting Supplies', 'Campgrounds', 'Lactation Services', 'Shared Office Spaces', 'Outdoor Furniture Stores', 'Rehabilitation Center', 'Estate Planning Law', 'Wigs', 'Party & Event Planning', 'Bus Tours', 'Strip Clubs', 'Shoe Stores', 'Scandinavian', 'Mobile Phone Repair', 'Endocrinologists', 'Mattresses', 'Tex-Mex', 'Educational Services', 'Skin Care', 'Lawyers', 'American (New)', 'Bus Rental', 'Luggage', 'Gas Stations', 'Jewelry', 'Trophy Shops', 'Wraps', 'Emergency Medicine', 'Yoga', 'Motorcycle Dealers', 'Eyebrow Services', 'Air Duct Cleaning', 'Environmental Abatement', 'Trainers', 'Psychics', 'Brazilian', 'Oil Change Stations', 'Asian Fusion', 'Holistic Animal Care', 'Real Estate', 'Cannabis Collective', 'Orthodontists', 'Chicken Wings', 'Maternity Wear', 'Concierge Medicine', 'Comedy Clubs', 'Towing', 'Summer Camps', 'Vietnamese', 'Septic Services', 'Farming Equipment', 'Alternative Medicine', 'Gluten-Free', 'Water Stores', 'Pulmonologist', 'Home & Rental Insurance', 'Golf', 'Piano Bars', 'Coffee & Tea', 'Themed Cafes', 'Religious Organizations', 'Archery', 'Lounges', 'Hair Extensions', 'Customized Merchandise', 'Structural Engineers', 'Glass & Mirrors', 'Wholesalers', 'Registration Services', 'Water Delivery', 'Truck Rental', 'Rock Climbing', 'Process Servers', 'Gardeners', 'Wineries', 'Sunglasses', 'Kitchen Supplies', 'Nurseries & Gardening', 'High Fidelity Audio Equipment', 'Hobby Shops', 'Makeup Artists', 'Gold Buyers', 'Urgent Care', 'Homeowner Association', 'Debt Relief Services', 'Pest Control', 'Gift Shops', 'Adult Education', 'Hospitals', 'Real Estate Services', 'Optometrists', 'Grilling Equipment', 'Boxing', 'Masonry/Concrete', 'Playgrounds', 'Churches', 'Comic Books', \"Men's Hair Salons\", 'Vehicle Shipping', 'Divorce & Family Law', 'Estate Liquidation', 'Outdoor Power Equipment Services', 'Christmas Trees', 'Breakfast & Brunch', 'Valet Services', 'Vinyl Records', 'Auto Upholstery', 'Motorcycle Gear', 'Parks', 'Furniture Rental', 'Senior Centers', 'Thai', 'Fertility', 'Karaoke', 'Office Cleaning', 'Sports Bars', 'Lawn Services', 'Professional Services', 'Lighting Stores', 'Elder Care Planning', 'Nightlife', 'Gastropubs', 'Guest Houses', 'Reiki', 'Nurse Practitioner', 'Halal', 'Department Stores', 'Vacation Rentals', 'Gymnastics', 'Legal Services', 'Tiling', 'Traffic Ticketing Law', 'Hybrid Car Repair', 'Thrift Stores', 'Health Coach', 'Chinese Martial Arts', 'Digitizing Services', 'Amateur Sports Teams', 'Street Vendors', 'Head Shops', 'Vegan', 'Bike Repair/Maintenance', 'Bartenders', 'Addiction Medicine', 'Session Photography', 'Hypnosis/Hypnotherapy', 'Hardware Stores', 'Dumpster Rental', 'Astrologers', 'Medical Cannabis Referrals', 'Security Systems', 'Donation Center', 'Plus Size Fashion', 'Gyms', 'Graphic Design', 'Mediterranean', 'University Housing', 'Ramen', 'Hawaiian', 'Cafeteria', 'Community Centers', 'Lakes', 'Bikes', 'Pilates', 'Car Window Tinting', 'Sports Clubs', 'Commercial Real Estate', 'Mountain Biking', 'Ayurveda', 'Cosmetic Dentists', 'Home Cleaning', 'Architects', 'Tanning', 'Private Tutors', 'Recording & Rehearsal Studios', 'Hot Pot', 'Aquariums', 'Bespoke Clothing', 'Marketing', 'Wine & Spirits', 'Bubble Tea', 'CPR Classes', 'Herbal Shops', 'Buffets', 'Local Services', 'Cupcakes', 'Environmental Testing', 'Pet Stores', 'Wedding Planning', 'Nutritionists', 'Art Installation', 'Farmers Market', 'Costumes', 'Beer Bar', 'Qi Gong', 'Courthouses', 'Barbers', 'Surfing', 'Indian', 'Fashion', 'Cosmetology Schools', 'Ethiopian', 'Art Museums', 'Shoe Repair', 'House Sitters', 'Golf Equipment Shops', 'Blow Dry/Out Services', 'Flight Instruction', 'Tires', 'Kickboxing', 'Clowns', 'Souvenir Shops', 'Midwives', 'Taxis', 'Cooking Schools', 'Surf Shop', 'Meat Shops', 'Local Fish Stores', 'New Mexican Cuisine', 'Art Supplies', 'Cabinetry', 'Pizza', 'Local Flavor', 'Cryotherapy', 'Motorcycle Repair', 'Bowling', 'Shoe Shine', 'Home Inspectors', 'Used Car Dealers', 'Modern European', 'Print Media', 'Real Estate Photography', 'Shutters', 'Machine & Tool Rental', 'Gun/Rifle Ranges', 'Irish Pub', 'Aerial Fitness', 'Propane', 'Beer Tours', 'ATV Rentals/Tours', 'Day Spas', 'Car Dealers', 'Visitor Centers', 'Circuit Training Gyms', 'Powder Coating', 'Paragliding', 'Skilled Nursing', 'Wallpapering', 'Home Organization', 'Home Theatre Installation', 'Landscaping', 'Nail Salons', 'Toy Stores', 'Family Practice', 'Doulas', 'Drive-In Theater', 'Ranches', 'Arcades', 'Countertop Installation', 'Mailbox Centers', 'Tax Services', 'Chocolatiers & Shops', 'Tacos', 'Music Production Services', 'Custom Cakes', 'Hot Dogs', 'Pediatric Dentists', 'Self-defense Classes', 'Chiropractors', 'Martial Arts', 'Carpet Installation', 'Pumpkin Patches', 'Accessories', 'Swimming Lessons/Schools', 'Diagnostic Services', 'Tabletop Games', 'Mortgage Brokers', 'IT Services & Computer Repair', 'Ski & Snowboard Shops', 'Pediatricians', 'Glass Blowing', 'Tea Rooms', 'Champagne Bars', 'Skating Rinks', 'Body Shops', 'Colleges & Universities', 'Balloon Services', 'Hot Tub & Pool', 'Food Tours', 'Limos', 'Bike tours', 'Emergency Rooms', '& Probates', 'Home Health Care', 'Jewelry Repair', 'Hotels & Travel', 'Cafes', 'Laundry Services', 'Childbirth Education', 'Bounce House Rentals', 'Data Recovery', 'DUI Law', 'Endodontists', 'Computers', 'Life Coach', 'Bars', 'Wedding Chapels', 'Psychic Mediums', 'Security Services', 'Architectural Tours', 'IV Hydration', 'Bail Bondsmen', 'Bed & Breakfast', 'Taiwanese', 'Home Services', 'Flowers & Gifts', 'Irrigation', 'Cinema', 'Middle Schools & High Schools', 'First Aid Classes', 'Mobile Phone Accessories', 'Videos & Video Game Rental', 'Laser Eye Surgery/Lasik', 'Signmaking', 'Leather Goods', 'Boating', 'Body Contouring', 'Mobile Home Dealers', 'Chimney Sweeps', 'Cideries', 'Roofing', 'Flooring', 'Pet Training', 'Professional Sports Teams', 'Matchmakers', 'Tattoo Removal', 'Hair Stylists', 'Public Services & Government', 'Sewing & Alterations', 'Accountants', 'Lebanese', 'Do-It-Yourself Food', 'Challenge Courses', 'Fast Food', 'Engraving', 'Doctors', 'Outlet Stores', 'Italian', 'Estheticians', 'Surgeons', 'Ice Cream & Frozen Yogurt', 'Wills', 'Party Characters', 'Pool Cleaners', 'Behavior Analysts', 'Delis', 'Periodontists', 'Office Equipment', 'Contractors', 'Australian', 'Vascular Medicine', 'Marinas', 'Appraisal Services', 'Bankruptcy Law', 'Indonesian', 'Noodles', 'Trains', 'Races & Competitions', 'Desserts', 'Landmarks & Historical Buildings', 'Pharmacy', \"Children's Clothing\", 'Trailer Dealers', 'Swimming Pools', 'Turkish', 'Employment Law', 'Commercial Truck Dealers', 'Tuscan', 'Bakeries', 'Social Clubs', 'Lighting Fixtures & Equipment', 'Assisted Living Facilities', 'Oxygen Bars', 'Restaurants', 'Trusts', 'Condominiums', 'Wine Bars', 'Laser Hair Removal', 'Lingerie', 'Electricians', 'Organic Stores', 'Tenant and Eviction Law', 'Real Estate Agents', 'Auto Insurance', 'Ethnic Grocery', 'Emergency Pet Hospital', 'Ultrasound Imaging Centers', 'Fireplace Services', 'Undersea/Hyperbaric Medicine', 'Musical Instruments & Teachers', 'Heating & Air Conditioning/HVAC', 'Paddleboarding', 'Grill Services', 'Memory Care', 'Distilleries', 'Brewpubs', 'Smog Check Stations', 'Scooter Tours', 'Soul Food', 'Mexican', 'Motorcycle Rental', 'Pubs', 'Shopping', 'Tennis', 'Food', 'Horseback Riding', 'Laundromat', 'Barre Classes', 'Gelato', 'Poke', 'Fire Protection Services', 'Whale Watching Tours', 'Face Painting', 'Supernatural Readings', 'Dive Shops', 'Cultural Center', 'Indoor Landscaping', 'Shopping Centers', 'Keys & Locksmiths', 'Electronics', 'Massage', 'Patio Coverings', 'Adult', 'Health Insurance Offices', 'Ethnic Food', 'Hats', 'Sex Therapists', 'Prosthodontists', 'Stadiums & Arenas', 'Auto Glass Services', 'Refinishing Services', 'Otologists', 'Florists', 'Float Spa', 'Ticket Sales', 'Performing Arts', 'Diving', 'Kitchen & Bath', 'Photographers', 'Neurologist', 'Landscape Architects', 'Vocational & Technical School', 'Salvadoran', 'Tiki Bars', 'Contract Law', 'Firearm Training', 'Halotherapy', 'Buses', 'Dog Walkers', 'Car Share Services', 'Interior Design', 'Hydro-jetting', 'Sushi Bars', 'Home Staging', 'Barbeque', 'Knife Sharpening', 'Home Decor', 'Gunsmith', 'Water Purification Services', 'Discount Store', 'Shades & Blinds', 'Window Washing', 'Roadside Assistance', 'Officiants', 'Tobacco Shops', 'Latin American', 'Country Clubs', 'Furniture Stores', 'Hiking', 'Vintage & Consignment', 'Hunting & Fishing Supplies', 'Drywall Installation & Repair', 'Dance Schools', 'Mobile Dent Repair', 'French', 'Karate', 'Packing Supplies', 'Career Counseling', 'Boudoir Photography', 'Hang Gliding', 'Guns & Ammo', 'Gemstones & Minerals', 'Mags', 'Antiques', 'Wine Tasting Room', 'Web Design', 'Prosthetics', 'Festivals', 'Caterers', 'Radio Stations', 'Teeth Whitening', 'Airport Terminals', 'EV Charging Stations', 'Tapas Bars', 'Spanish', 'Parenting Classes', 'Excavation Services', 'Bookstores', 'Medical Centers', 'Candy Stores', 'Himalayan/Nepalese', 'Museums', 'Argentine', 'Shaved Ice', 'Cocktail Bars', 'Cardiologists', 'Sporting Goods', 'Golf Equipment', 'Cycling Classes', 'Shipping Centers', 'Permanent Makeup', 'Scooter Rentals', 'CSA', 'Airports', 'Flea Markets', 'Shredding Services', 'Venues & Event Spaces', 'Pop-Up Restaurants', 'Rolfing', 'Snorkeling', 'Skate Shops', 'Airlines', 'Virtual Reality Centers', 'Food Court', 'Colonics', 'Farms', \"Men's Clothing\", 'Food Stands', 'Walk-in Clinics', 'Recreation Centers', 'Auto Detailing', 'Recycling Center', 'Artificial Turf', 'Internal Medicine', 'Demolition Services', 'Embroidery & Crochet', 'Event Photography', 'Formal Wear', 'Wildlife Control', 'Hair Salons', 'Cosmetics & Beauty Supply', 'Notaries', 'Acupuncture', 'Resorts', 'Health & Medical', 'Carpenters', 'Day Camps', 'Fingerprinting', 'Dim Sum', 'Health Retreats', 'Pet Sitting', 'Bike Rentals', 'Medical Spas', 'Roof Inspectors', 'Framing', 'Tasting Classes', 'Airport Shuttles', 'Wine Tours', 'Watches', 'Dive Bars', 'Car Wash', 'Boat Charters', 'Waxing', 'Planetarium', 'Carpeting', 'Sports Medicine', 'Fabric Stores', 'Transportation', 'Fish & Chips', 'Floral Designers', 'Live/Raw Food', 'Metal Fabricators', 'Fruits & Veggies', 'Libraries', 'Books', 'Breweries', 'Horse Boarding', 'Used Bookstore', 'Radiologists', 'Reproductive Health Services', 'Business Consulting', 'Silent Disco', 'Television Service Providers', 'Drama Schools', 'Soup', 'Dance Studios', 'Irish', 'Steakhouses', 'Music & Video', 'Piano Services', 'Falafel', 'Tai Chi', 'Diagnostic Imaging', 'DJs', 'Weight Loss Centers', 'Kids Activities', 'Aestheticians', 'Perfume', 'Beaches', 'Personal Shopping', 'Pool & Billiards', 'Magicians', 'Amusement Parks', 'Printing Services', 'Video Game Stores', 'Cardio Classes', 'Apartments', 'Home Window Tinting', 'General Dentistry', 'Hydrotherapy', 'Zoos', 'Burgers', 'Smokehouse', 'Cannabis Clinics', 'Solar Panel Cleaning', 'Arts & Entertainment', 'Paint Stores', 'Business Law', 'Travel Agents', 'Musicians', 'Walking Tours', 'Bar Crawl', 'Vegetarian', 'Pain Management', 'Scuba Diving', 'Life Insurance', 'Henna Artists', 'Yelp Events', 'Boat Tours', 'Halfway Houses', 'Property Management', 'Comfort Food', 'Free Diving', 'Cooking Classes', 'Service Stations', 'Convenience Stores', 'Psychiatrists', 'Mortgage Lenders', 'Pop-up Shops', 'Screen Printing/T-Shirt Printing', 'Insulation Installation', 'Pets', 'Photography Stores & Services', 'Retirement Homes', 'Mobile Phones', 'Animal Shelters', 'Automotive', 'Retina Specialists', 'Urologists', 'Travel Services', 'Immunodermatologists', 'Japanese', 'Financial Advising', 'Rheumatologists', 'Herbs & Spices', 'Brewing Supplies', 'Paint & Sip', 'Carpet Cleaning', 'Financial Services', 'Real Estate Law', 'Internet Cafes', 'Art Classes', 'RV Dealers', 'Payroll Services', 'Massage Therapy', 'Imported Food', 'Physical Therapy', 'Chinese', 'Tapas/Small Plates', 'Check Cashing/Pay-day Loans', 'Skate Parks', 'Hospice', 'Post Offices', 'American (Traditional)', 'Spray Tanning', 'Party Bike Rentals', \"Children's Museums\", 'Bridal', 'Swimwear', 'Advertising', 'Korean', 'Funeral Services & Cemeteries', 'Pool Halls', 'Middle Eastern', 'Community Service/Non-Profit', \"Women's Clothing\", 'Drugstores', 'Rugs', 'Transmission Repair', 'Art Tours', 'Brazilian Jiu-jitsu', 'Video/Film Production', 'Appliances & Repair', 'Reflexology', 'Lice Services', 'Gutter Services', 'Education', 'Event Planning & Services', 'Town Car Service', 'Departments of Motor Vehicles', 'Party Supplies', 'Vitamins & Supplements', 'Props', 'Disc Golf', 'Preschools', 'Empanadas', 'Specialty Food', 'Vape Shops', 'Cheese Shops', 'Fences & Gates', 'Podiatrists', 'Chicken Shop', 'Seafood Markets', 'Windows Installation', 'Videographers', 'Bocce Ball', 'Hotels', 'Internet Service Providers', 'Garage Door Services', 'Pressure Washers', 'Music Venues', 'Personal Care Services', 'Spine Surgeons', 'Pet Boarding', 'Baby Gear & Furniture', 'Cards & Stationery', 'Art Galleries', 'Fishing', 'Beauty & Spas', 'Health Markets', 'Car Rental', 'Electronics Repair', 'Furniture Repair', 'Damage Restoration', 'Cajun/Creole', 'Speakeasies', 'Pet Adoption', 'Pet Transportation', 'Whiskey Bars', 'Personal Chefs', 'Honey', 'Public Markets', 'Clock Repair', 'Self Storage', 'Screen Printing', 'Appliances', 'Home Automation', 'Personal Injury Law', 'Laboratory Testing', 'Cannabis Dispensaries', 'Salad', 'Public Art', 'Car Stereo Installation', 'Donuts', 'Kombucha', 'Waterproofing', 'Parking', 'Trailer Rental', 'Tattoo', 'Handyman', 'Dance Clubs', 'Auto Customization', 'Water Heater Installation/Repair', 'Bagels', 'Creperies', 'Dog Parks', 'Psychologists', 'Nail Technicians', 'Seafood', 'Auto Repair', 'Food Trucks', 'Tours', 'Pet Photography', 'Animal Physical Therapy', 'Active Life', 'Pet Services', 'Test Preparation', 'Used', 'Team Building Activities', 'Juice Bars & Smoothies', 'Soccer', 'Traditional Chinese Medicine', 'Bookkeepers', 'Stucco Services', 'Golf Lessons', 'Employment Agencies', 'Dry Cleaning & Laundry', 'Sleep Specialists', 'Sugaring', 'Home & Garden'}\n"
     ]
    }
   ],
   "source": [
    "# Extract and print all unique categories from business_df\n",
    "unique_categories = set()\n",
    "business_df['categories'].apply(lambda x: unique_categories.update(x.split(', ')))\n",
    "print(f\"Number of unique categories: {len(unique_categories)}\")\n",
    "print(unique_categories)"
   ]
  },
  {
   "cell_type": "code",
   "execution_count": 4,
   "id": "03e9468d-37e6-49a6-bab0-4449e5604fbd",
   "metadata": {},
   "outputs": [],
   "source": [
    "# Convert categories to lowercase for consistency\n",
    "business_df['categories'] = business_df['categories'].apply(lambda x: [category.lower() for category in x.split(', ')])"
   ]
  },
  {
   "cell_type": "code",
   "execution_count": 5,
   "id": "1e98ee0e-447e-4909-b102-b9af09e9bbfe",
   "metadata": {},
   "outputs": [
    {
     "name": "stdout",
     "output_type": "stream",
     "text": [
      "restaurants_df (1015, 14)\n",
      "restaurants_df (1015, 10)\n",
      "                business_id                             name  \\\n",
      "85   IDtLPgUrqorrpqSLdfMhZQ             Helena Avenue Bakery   \n",
      "141  SZU9c8V2GuREDN5KgyHFJw  Santa Barbara Shellfish Company   \n",
      "431  ifjluUv4VASwmFqEp8cWlQ                    Marty's Pizza   \n",
      "470  VeFfrEZ4iWaecrQg6Eq4cg                         Cal Taco   \n",
      "555  bdfZdB2MTXlT6-RBjSIpQg                       Pho Bistro   \n",
      "\n",
      "                       address           city postal_code   latitude  \\\n",
      "85       131 Anacapa St, Ste C  Santa Barbara       93101  34.414445   \n",
      "141          230 Stearns Wharf  Santa Barbara       93101  34.408715   \n",
      "431         2733 De La Vina St  Santa Barbara       93105  34.436236   \n",
      "470  7320 Hollister Ave, Ste 1         Goleta       93117  34.430542   \n",
      "555  903 Embarcadero Del Norte     Isla Vista       93117  34.412934   \n",
      "\n",
      "      longitude                                         categories  stars  \\\n",
      "85  -119.690672  [food, restaurants, salad, coffee & tea, break...    4.0   \n",
      "141 -119.685019  [live/raw food, restaurants, seafood, beer bar...    4.0   \n",
      "431 -119.726147                               [pizza, restaurants]    4.0   \n",
      "470 -119.882367  [burgers, cafes, restaurants, mexican, america...    4.0   \n",
      "555 -119.855531  [food, restaurants, chinese, bubble tea, vietn...    3.0   \n",
      "\n",
      "     review_count  \n",
      "85            389  \n",
      "141          2404  \n",
      "431            64  \n",
      "470           189  \n",
      "555           184  \n"
     ]
    }
   ],
   "source": [
    "# Define restaurant-related keywords\n",
    "restaurant_keywords = [\"bars\",\"donuts\",\"barbeque\", \"sandwiches\",\"wineries\",\"fish & chips\",\"vegetarian\", \"beer\", \"food\", \"dessert\", \"gelato\", \"restaurants\", \"wine\", \"tacos\", \"tea\", \"acai bowls\", \"whiskey\", \"juice bars & smoothies\", \"poke\", \"spirits\", \"cocktail\", \"salad\", \"coffee\", \"bakeries\", \"breweries\", \"pizza\", \"burgers\", \"soup\", \"bagels\", \"ice cream & frozen yogurt\", \"ramen\", \"chicken wings\", \"food trucks\", \"cafes\", \"seafood\", \"vegan\", \"diners\", \"noodles\"]\n",
    "\n",
    "# Filter RESTAURANTS ONLY (businesses with restaurant-related keywords)\n",
    "restaurants_df = business_df[business_df['categories'].apply(lambda x: any(keyword in x for keyword in restaurant_keywords))]\n",
    "\n",
    "print(f\"restaurants_df {restaurants_df.shape}\")\n",
    "\n",
    "# Select relevant columns // we may get rid of address related columns if we won't use them\n",
    "restaurants_df = restaurants_df[['business_id', 'name', 'address', 'city', 'postal_code', 'latitude', 'longitude', 'categories', 'stars', 'review_count']]\n",
    "\n",
    "print(f\"restaurants_df {restaurants_df.shape}\")\n",
    "print(restaurants_df.head())\n",
    "\n",
    "# Drop rows with missing values // there is none\n",
    "#df_clean = restaurants_df.dropna()\n",
    "#print(f\"df_clean {df_clean.shape}\")"
   ]
  },
  {
   "cell_type": "code",
   "execution_count": 6,
   "id": "55a31fdd-23ee-4586-a84f-ceef80b7d211",
   "metadata": {},
   "outputs": [
    {
     "name": "stdout",
     "output_type": "stream",
     "text": [
      "                  user_id             business_id  stars  \\\n",
      "0  mh_-eMZ6K5RLWhZyISBhwA  XQfwVwDr-v0ZS3_CbbE5Xw    3.0   \n",
      "1  OyoGAe7OKpv6SyGZT5g77Q  7ATYjTIgM3jUlt4UM3IypQ    5.0   \n",
      "2  8g_iMtfSiwikVnbP2etR0A  YjUWPpI6HXG530lwP-fb2A    3.0   \n",
      "3  _7bHUi9Uuf5__HHc_Q8guQ  kxX2SOes4o-D3ZQBkiMRfA    5.0   \n",
      "4  bcjbaE6dDog4jkNY91ncLQ  e4Vwtrqf-wpJfwesgvdgxQ    4.0   \n",
      "\n",
      "                                                text  \n",
      "0  If you decide to eat here, just be aware it is...  \n",
      "1  I've taken a lot of spin classes over the year...  \n",
      "2  Family diner. Had the buffet. Eclectic assortm...  \n",
      "3  Wow!  Yummy, different,  delicious.   Our favo...  \n",
      "4  Cute interior and owner (?) gave us tour of up...  \n",
      "                  user_id             business_id  stars  \\\n",
      "0  59MxRhNVhU9MYndMkz0wtw  gebiRewfieSdtt17PTW6Zg    3.0   \n",
      "1  OhECKhQEexFypOMY6kypRw  vC2qm1y3Au5czBtbhc-DNw    4.0   \n",
      "2  4hBhtCSgoxkrFgHa4YAD-w  bbEXAEFr4RYHLlZ-HFssTA    5.0   \n",
      "3  bFPdtzu11Oi0f92EAcjqmg  IDtLPgUrqorrpqSLdfMhZQ    5.0   \n",
      "4  JYYYKt6TdVA4ng9lLcXt_g  SZU9c8V2GuREDN5KgyHFJw    5.0   \n",
      "\n",
      "                                                text  \\\n",
      "0  Had a party of 6 here for hibachi. Our waitres...   \n",
      "1  Yes, this is the only sushi place in town. How...   \n",
      "2  Great burgers,fries and salad!  Burgers have a...   \n",
      "3  What a great addition to the Funk Zone!  Grab ...   \n",
      "4  We were a bit weary about trying the Shellfish...   \n",
      "\n",
      "                              name  \\\n",
      "0  Hibachi Steak House & Sushi Bar   \n",
      "1                       Sushi Teri   \n",
      "2  The Original Habit Burger Grill   \n",
      "3             Helena Avenue Bakery   \n",
      "4  Santa Barbara Shellfish Company   \n",
      "\n",
      "                                          categories  \n",
      "0   [steakhouses, sushi bars, restaurants, japanese]  \n",
      "1                          [restaurants, sushi bars]  \n",
      "2                  [fast food, burgers, restaurants]  \n",
      "3  [food, restaurants, salad, coffee & tea, break...  \n",
      "4  [live/raw food, restaurants, seafood, beer bar...  \n"
     ]
    }
   ],
   "source": [
    "# Select relevant columns from review_df // I dropped review_id, date, useful, funny, cool\n",
    "review_df = review_df[['user_id','business_id','stars','text']]\n",
    "print(review_df.head())\n",
    "\n",
    "# Merge reviews with restaurant using business_id as a key\n",
    "merged_df = review_df.merge(restaurants_df[['business_id', 'name', 'categories']], on='business_id')\n",
    "print(merged_df.head())"
   ]
  },
  {
   "cell_type": "code",
   "execution_count": 7,
   "id": "67bb6914-8690-4106-a558-348e0c524fce",
   "metadata": {},
   "outputs": [
    {
     "name": "stdout",
     "output_type": "stream",
     "text": [
      "                  user_id             business_id  stars  \\\n",
      "0  59MxRhNVhU9MYndMkz0wtw  gebiRewfieSdtt17PTW6Zg    3.0   \n",
      "1  OhECKhQEexFypOMY6kypRw  vC2qm1y3Au5czBtbhc-DNw    4.0   \n",
      "2  4hBhtCSgoxkrFgHa4YAD-w  bbEXAEFr4RYHLlZ-HFssTA    5.0   \n",
      "3  bFPdtzu11Oi0f92EAcjqmg  IDtLPgUrqorrpqSLdfMhZQ    5.0   \n",
      "4  JYYYKt6TdVA4ng9lLcXt_g  SZU9c8V2GuREDN5KgyHFJw    5.0   \n",
      "\n",
      "                                                text  \\\n",
      "0  Had a party of 6 here for hibachi. Our waitres...   \n",
      "1  Yes, this is the only sushi place in town. How...   \n",
      "2  Great burgers,fries and salad!  Burgers have a...   \n",
      "3  What a great addition to the Funk Zone!  Grab ...   \n",
      "4  We were a bit weary about trying the Shellfish...   \n",
      "\n",
      "                              name  \\\n",
      "0  Hibachi Steak House & Sushi Bar   \n",
      "1                       Sushi Teri   \n",
      "2  The Original Habit Burger Grill   \n",
      "3             Helena Avenue Bakery   \n",
      "4  Santa Barbara Shellfish Company   \n",
      "\n",
      "                                          categories  \n",
      "0     steakhouses, sushi bars, restaurants, japanese  \n",
      "1                            restaurants, sushi bars  \n",
      "2                    fast food, burgers, restaurants  \n",
      "3  food, restaurants, salad, coffee & tea, breakf...  \n",
      "4  live/raw food, restaurants, seafood, beer bar,...  \n"
     ]
    }
   ],
   "source": [
    "# Fix category column if it's a list -> string\n",
    "merged_df['categories'] = merged_df['categories'].apply(lambda x: ', '.join(x) if isinstance(x, list) else x)\n",
    "print(merged_df.head())"
   ]
  },
  {
   "cell_type": "markdown",
   "id": "190e90c6-7a55-426a-8677-f40f244b07f8",
   "metadata": {},
   "source": [
    "# Feature Extraction & Similarity Computation"
   ]
  },
  {
   "cell_type": "code",
   "execution_count": 8,
   "id": "3aeca2cb-f9f4-4f8a-b753-a088f9d390da",
   "metadata": {},
   "outputs": [],
   "source": [
    "from sklearn.feature_extraction.text import TfidfVectorizer\n",
    "\n",
    "# Feature Extraction for Content-Based Filtering: (TF-IDF) on categories and reviews\n",
    "tfidf_category = TfidfVectorizer(stop_words='english')\n",
    "tfidf_review = TfidfVectorizer(stop_words='english')\n",
    "category_matrix = tfidf_category.fit_transform(merged_df['categories'])\n",
    "review_matrix = tfidf_review.fit_transform(merged_df['text'])"
   ]
  },
  {
   "cell_type": "code",
   "execution_count": 9,
   "id": "5546e414-6a97-4b0f-8f37-a80eaf3f3728",
   "metadata": {},
   "outputs": [
    {
     "ename": "MemoryError",
     "evalue": "Unable to allocate 242. GiB for an array with shape (32478999457,) and data type int64",
     "output_type": "error",
     "traceback": [
      "\u001b[1;31m---------------------------------------------------------------------------\u001b[0m",
      "\u001b[1;31mMemoryError\u001b[0m                               Traceback (most recent call last)",
      "Cell \u001b[1;32mIn[9], line 4\u001b[0m\n\u001b[0;32m      1\u001b[0m \u001b[38;5;28;01mfrom\u001b[39;00m \u001b[38;5;21;01msklearn\u001b[39;00m\u001b[38;5;21;01m.\u001b[39;00m\u001b[38;5;21;01mmetrics\u001b[39;00m\u001b[38;5;21;01m.\u001b[39;00m\u001b[38;5;21;01mpairwise\u001b[39;00m \u001b[38;5;28;01mimport\u001b[39;00m cosine_similarity\n\u001b[0;32m      3\u001b[0m \u001b[38;5;66;03m# Compute similarity matrices\u001b[39;00m\n\u001b[1;32m----> 4\u001b[0m category_similarity \u001b[38;5;241m=\u001b[39m cosine_similarity(category_matrix)\n\u001b[0;32m      5\u001b[0m review_similarity \u001b[38;5;241m=\u001b[39m cosine_similarity(review_matrix)\n\u001b[0;32m      7\u001b[0m \u001b[38;5;66;03m# Combine the two similarity matrices into a total similarity matrix by taking their average: \u001b[39;00m\n\u001b[0;32m      8\u001b[0m \u001b[38;5;66;03m# Equal weight to both categories and reviews when computing the overall similarity between restaurants.\u001b[39;00m\n",
      "File \u001b[1;32m~\\anaconda3\\Lib\\site-packages\\sklearn\\utils\\_param_validation.py:213\u001b[0m, in \u001b[0;36mvalidate_params.<locals>.decorator.<locals>.wrapper\u001b[1;34m(*args, **kwargs)\u001b[0m\n\u001b[0;32m    207\u001b[0m \u001b[38;5;28;01mtry\u001b[39;00m:\n\u001b[0;32m    208\u001b[0m     \u001b[38;5;28;01mwith\u001b[39;00m config_context(\n\u001b[0;32m    209\u001b[0m         skip_parameter_validation\u001b[38;5;241m=\u001b[39m(\n\u001b[0;32m    210\u001b[0m             prefer_skip_nested_validation \u001b[38;5;129;01mor\u001b[39;00m global_skip_validation\n\u001b[0;32m    211\u001b[0m         )\n\u001b[0;32m    212\u001b[0m     ):\n\u001b[1;32m--> 213\u001b[0m         \u001b[38;5;28;01mreturn\u001b[39;00m func(\u001b[38;5;241m*\u001b[39margs, \u001b[38;5;241m*\u001b[39m\u001b[38;5;241m*\u001b[39mkwargs)\n\u001b[0;32m    214\u001b[0m \u001b[38;5;28;01mexcept\u001b[39;00m InvalidParameterError \u001b[38;5;28;01mas\u001b[39;00m e:\n\u001b[0;32m    215\u001b[0m     \u001b[38;5;66;03m# When the function is just a wrapper around an estimator, we allow\u001b[39;00m\n\u001b[0;32m    216\u001b[0m     \u001b[38;5;66;03m# the function to delegate validation to the estimator, but we replace\u001b[39;00m\n\u001b[0;32m    217\u001b[0m     \u001b[38;5;66;03m# the name of the estimator by the name of the function in the error\u001b[39;00m\n\u001b[0;32m    218\u001b[0m     \u001b[38;5;66;03m# message to avoid confusion.\u001b[39;00m\n\u001b[0;32m    219\u001b[0m     msg \u001b[38;5;241m=\u001b[39m re\u001b[38;5;241m.\u001b[39msub(\n\u001b[0;32m    220\u001b[0m         \u001b[38;5;124mr\u001b[39m\u001b[38;5;124m\"\u001b[39m\u001b[38;5;124mparameter of \u001b[39m\u001b[38;5;124m\\\u001b[39m\u001b[38;5;124mw+ must be\u001b[39m\u001b[38;5;124m\"\u001b[39m,\n\u001b[0;32m    221\u001b[0m         \u001b[38;5;124mf\u001b[39m\u001b[38;5;124m\"\u001b[39m\u001b[38;5;124mparameter of \u001b[39m\u001b[38;5;132;01m{\u001b[39;00mfunc\u001b[38;5;241m.\u001b[39m\u001b[38;5;18m__qualname__\u001b[39m\u001b[38;5;132;01m}\u001b[39;00m\u001b[38;5;124m must be\u001b[39m\u001b[38;5;124m\"\u001b[39m,\n\u001b[0;32m    222\u001b[0m         \u001b[38;5;28mstr\u001b[39m(e),\n\u001b[0;32m    223\u001b[0m     )\n",
      "File \u001b[1;32m~\\anaconda3\\Lib\\site-packages\\sklearn\\metrics\\pairwise.py:1687\u001b[0m, in \u001b[0;36mcosine_similarity\u001b[1;34m(X, Y, dense_output)\u001b[0m\n\u001b[0;32m   1684\u001b[0m \u001b[38;5;28;01melse\u001b[39;00m:\n\u001b[0;32m   1685\u001b[0m     Y_normalized \u001b[38;5;241m=\u001b[39m normalize(Y, copy\u001b[38;5;241m=\u001b[39m\u001b[38;5;28;01mTrue\u001b[39;00m)\n\u001b[1;32m-> 1687\u001b[0m K \u001b[38;5;241m=\u001b[39m safe_sparse_dot(X_normalized, Y_normalized\u001b[38;5;241m.\u001b[39mT, dense_output\u001b[38;5;241m=\u001b[39mdense_output)\n\u001b[0;32m   1689\u001b[0m \u001b[38;5;28;01mreturn\u001b[39;00m K\n",
      "File \u001b[1;32m~\\anaconda3\\Lib\\site-packages\\sklearn\\utils\\extmath.py:205\u001b[0m, in \u001b[0;36msafe_sparse_dot\u001b[1;34m(a, b, dense_output)\u001b[0m\n\u001b[0;32m    203\u001b[0m         ret \u001b[38;5;241m=\u001b[39m np\u001b[38;5;241m.\u001b[39mdot(a, b)\n\u001b[0;32m    204\u001b[0m \u001b[38;5;28;01melse\u001b[39;00m:\n\u001b[1;32m--> 205\u001b[0m     ret \u001b[38;5;241m=\u001b[39m a \u001b[38;5;241m@\u001b[39m b\n\u001b[0;32m    207\u001b[0m \u001b[38;5;28;01mif\u001b[39;00m (\n\u001b[0;32m    208\u001b[0m     sparse\u001b[38;5;241m.\u001b[39missparse(a)\n\u001b[0;32m    209\u001b[0m     \u001b[38;5;129;01mand\u001b[39;00m sparse\u001b[38;5;241m.\u001b[39missparse(b)\n\u001b[0;32m    210\u001b[0m     \u001b[38;5;129;01mand\u001b[39;00m dense_output\n\u001b[0;32m    211\u001b[0m     \u001b[38;5;129;01mand\u001b[39;00m \u001b[38;5;28mhasattr\u001b[39m(ret, \u001b[38;5;124m\"\u001b[39m\u001b[38;5;124mtoarray\u001b[39m\u001b[38;5;124m\"\u001b[39m)\n\u001b[0;32m    212\u001b[0m ):\n\u001b[0;32m    213\u001b[0m     \u001b[38;5;28;01mreturn\u001b[39;00m ret\u001b[38;5;241m.\u001b[39mtoarray()\n",
      "File \u001b[1;32m~\\anaconda3\\Lib\\site-packages\\scipy\\sparse\\_base.py:695\u001b[0m, in \u001b[0;36m_spbase.__matmul__\u001b[1;34m(self, other)\u001b[0m\n\u001b[0;32m    692\u001b[0m \u001b[38;5;28;01mif\u001b[39;00m isscalarlike(other):\n\u001b[0;32m    693\u001b[0m     \u001b[38;5;28;01mraise\u001b[39;00m \u001b[38;5;167;01mValueError\u001b[39;00m(\u001b[38;5;124m\"\u001b[39m\u001b[38;5;124mScalar operands are not allowed, \u001b[39m\u001b[38;5;124m\"\u001b[39m\n\u001b[0;32m    694\u001b[0m                      \u001b[38;5;124m\"\u001b[39m\u001b[38;5;124muse \u001b[39m\u001b[38;5;124m'\u001b[39m\u001b[38;5;124m*\u001b[39m\u001b[38;5;124m'\u001b[39m\u001b[38;5;124m instead\u001b[39m\u001b[38;5;124m\"\u001b[39m)\n\u001b[1;32m--> 695\u001b[0m \u001b[38;5;28;01mreturn\u001b[39;00m \u001b[38;5;28mself\u001b[39m\u001b[38;5;241m.\u001b[39m_matmul_dispatch(other)\n",
      "File \u001b[1;32m~\\anaconda3\\Lib\\site-packages\\scipy\\sparse\\_base.py:606\u001b[0m, in \u001b[0;36m_spbase._matmul_dispatch\u001b[1;34m(self, other)\u001b[0m\n\u001b[0;32m    604\u001b[0m     \u001b[38;5;28;01mif\u001b[39;00m other\u001b[38;5;241m.\u001b[39mndim \u001b[38;5;241m==\u001b[39m \u001b[38;5;241m1\u001b[39m:\n\u001b[0;32m    605\u001b[0m         \u001b[38;5;28;01mraise\u001b[39;00m \u001b[38;5;167;01mValueError\u001b[39;00m(\u001b[38;5;124m'\u001b[39m\u001b[38;5;124mCannot yet multiply a 1d sparse array\u001b[39m\u001b[38;5;124m'\u001b[39m)\n\u001b[1;32m--> 606\u001b[0m     \u001b[38;5;28;01mreturn\u001b[39;00m \u001b[38;5;28mself\u001b[39m\u001b[38;5;241m.\u001b[39m_matmul_sparse(other)\n\u001b[0;32m    608\u001b[0m \u001b[38;5;66;03m# If it's a list or whatever, treat it like an array\u001b[39;00m\n\u001b[0;32m    609\u001b[0m other_a \u001b[38;5;241m=\u001b[39m np\u001b[38;5;241m.\u001b[39masanyarray(other)\n",
      "File \u001b[1;32m~\\anaconda3\\Lib\\site-packages\\scipy\\sparse\\_compressed.py:531\u001b[0m, in \u001b[0;36m_cs_matrix._matmul_sparse\u001b[1;34m(self, other)\u001b[0m\n\u001b[0;32m    526\u001b[0m idx_dtype \u001b[38;5;241m=\u001b[39m \u001b[38;5;28mself\u001b[39m\u001b[38;5;241m.\u001b[39m_get_index_dtype((\u001b[38;5;28mself\u001b[39m\u001b[38;5;241m.\u001b[39mindptr, \u001b[38;5;28mself\u001b[39m\u001b[38;5;241m.\u001b[39mindices,\n\u001b[0;32m    527\u001b[0m                              other\u001b[38;5;241m.\u001b[39mindptr, other\u001b[38;5;241m.\u001b[39mindices),\n\u001b[0;32m    528\u001b[0m                             maxval\u001b[38;5;241m=\u001b[39mnnz)\n\u001b[0;32m    530\u001b[0m indptr \u001b[38;5;241m=\u001b[39m np\u001b[38;5;241m.\u001b[39mempty(major_axis \u001b[38;5;241m+\u001b[39m \u001b[38;5;241m1\u001b[39m, dtype\u001b[38;5;241m=\u001b[39midx_dtype)\n\u001b[1;32m--> 531\u001b[0m indices \u001b[38;5;241m=\u001b[39m np\u001b[38;5;241m.\u001b[39mempty(nnz, dtype\u001b[38;5;241m=\u001b[39midx_dtype)\n\u001b[0;32m    532\u001b[0m data \u001b[38;5;241m=\u001b[39m np\u001b[38;5;241m.\u001b[39mempty(nnz, dtype\u001b[38;5;241m=\u001b[39mupcast(\u001b[38;5;28mself\u001b[39m\u001b[38;5;241m.\u001b[39mdtype, other\u001b[38;5;241m.\u001b[39mdtype))\n\u001b[0;32m    534\u001b[0m fn \u001b[38;5;241m=\u001b[39m \u001b[38;5;28mgetattr\u001b[39m(_sparsetools, \u001b[38;5;28mself\u001b[39m\u001b[38;5;241m.\u001b[39mformat \u001b[38;5;241m+\u001b[39m \u001b[38;5;124m'\u001b[39m\u001b[38;5;124m_matmat\u001b[39m\u001b[38;5;124m'\u001b[39m)\n",
      "\u001b[1;31mMemoryError\u001b[0m: Unable to allocate 242. GiB for an array with shape (32478999457,) and data type int64"
     ]
    }
   ],
   "source": [
    "from sklearn.metrics.pairwise import cosine_similarity\n",
    "\n",
    "# Compute similarity matrices\n",
    "category_similarity = cosine_similarity(category_matrix)\n",
    "review_similarity = cosine_similarity(review_matrix)\n",
    "\n",
    "# Combine the two similarity matrices into a total similarity matrix by taking their average: \n",
    "# Equal weight to both categories and reviews when computing the overall similarity between restaurants.\n",
    "total_similarity = (category_similarity + review_similarity) / 2"
   ]
  },
  {
   "cell_type": "code",
   "execution_count": 10,
   "id": "d93085f9-b076-4488-8fca-290dc6049d78",
   "metadata": {},
   "outputs": [],
   "source": [
    "from sklearn.neighbors import NearestNeighbors\n",
    "\n",
    "# Switched to use NearestNeighbors for memory-efficient similarity computation\n",
    "category_nn = NearestNeighbors(metric='cosine').fit(category_matrix)\n",
    "review_nn = NearestNeighbors(metric='cosine').fit(review_matrix)"
   ]
  },
  {
   "cell_type": "code",
   "execution_count": null,
   "id": "55f85233-711f-4c96-b6ef-c2c3fc82b8e6",
   "metadata": {},
   "outputs": [],
   "source": []
  }
 ],
 "metadata": {
  "kernelspec": {
   "display_name": "Python 3 (ipykernel)",
   "language": "python",
   "name": "python3"
  },
  "language_info": {
   "codemirror_mode": {
    "name": "ipython",
    "version": 3
   },
   "file_extension": ".py",
   "mimetype": "text/x-python",
   "name": "python",
   "nbconvert_exporter": "python",
   "pygments_lexer": "ipython3",
   "version": "3.11.5"
  }
 },
 "nbformat": 4,
 "nbformat_minor": 5
}
