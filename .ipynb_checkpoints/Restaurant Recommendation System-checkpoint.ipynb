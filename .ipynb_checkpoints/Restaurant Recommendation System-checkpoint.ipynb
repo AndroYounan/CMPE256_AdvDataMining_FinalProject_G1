{
 "cells": [
  {
   "cell_type": "markdown",
   "id": "26bc35f0-c824-4775-9bdf-a06f52365c07",
   "metadata": {},
   "source": [
    "# Preprocessing"
   ]
  },
  {
   "cell_type": "code",
   "execution_count": 51,
   "id": "20fc22ab-b939-483a-bb29-92a2c1d9fb96",
   "metadata": {},
   "outputs": [
    {
     "name": "stdout",
     "output_type": "stream",
     "text": [
      "business_df (150346, 14)\n",
      "review_df (6990280, 9)\n",
      "business_df (4064, 14)\n"
     ]
    }
   ],
   "source": [
    "import pandas as pd\n",
    "import json\n",
    "import numpy as np\n",
    "\n",
    "# Function to load JSON file into Pandas DataFrame\n",
    "def load_json(filename):\n",
    "    \"\"\"Loads a JSON file into a pandas DataFrame\"\"\"\n",
    "    data = []\n",
    "    with open(filename, 'r', encoding='utf-8') as f:\n",
    "        for line in f:\n",
    "            data.append(json.loads(line))\n",
    "    return pd.DataFrame(data)\n",
    "\n",
    "andrew_path = r\"C:\\BIANCONERI\\Master's AI SJSU\\5- Advanced Data Mining\\Final Project\\Yelp-JSON\\Yelp JSON\\yelp_dataset\"\n",
    "nic_path = r\"C:\\Users\\nicor\\OneDrive\\Documents\\SJSU\\CMPE256\\group_proj\\Yelp JSON\"\n",
    "\n",
    "# Load Yelp dataset\n",
    "business_df = load_json(nic_path + r\"\\yelp_academic_dataset_business.json\")\n",
    "review_df = load_json(nic_path + r\"\\yelp_academic_dataset_review.json\")\n",
    "# user_df = load_json(nic_path + r\"\\yelp_academic_dataset_user.json\")\n",
    "print(f\"business_df {business_df.shape}\")\n",
    "print(f\"review_df {review_df.shape}\")\n",
    "# print(f\"user_df {user_df.shape}\")\n",
    "\n",
    "# Filter only OPEN businesses in CALIFORNIA W/ 'categories' column exists and is not null\n",
    "business_df = business_df[(business_df['state'] == 'CA') & (business_df['is_open'] == 1) & (business_df['categories'].notna())]\n",
    "print(f\"business_df {business_df.shape}\")\n",
    "# print(business_df.head())"
   ]
  },
  {
   "cell_type": "code",
   "execution_count": 26,
   "id": "0063b048-625b-4e90-bd43-51e6f0d91619",
   "metadata": {},
   "outputs": [
    {
     "name": "stdout",
     "output_type": "stream",
     "text": [
      "Number of unique categories: 946\n",
      "{'Taxis', 'Self-defense Classes', 'Comedy Clubs', 'Face Painting', 'Wigs', 'Aquariums', 'Farmers Market', 'Event Photography', 'Halfway Houses', 'Steakhouses', 'Tabletop Games', 'Laboratory Testing', 'Cryotherapy', 'Venues & Event Spaces', 'Noodles', 'Home Cleaning', 'Transportation', 'Costumes', 'Trainers', 'Debt Relief Services', 'Health Insurance Offices', 'Arts & Entertainment', 'Food', 'Bookstores', 'Estheticians', 'Bounce House Rentals', 'Automotive', 'Bartenders', 'Web Design', 'Cupcakes', 'Tasting Classes', 'Cosmetic Dentists', 'Kitchen & Bath', 'Waterproofing', 'Assisted Living Facilities', 'Wallpapering', 'Supernatural Readings', 'Hardware Stores', 'Hot Dogs', 'Utilities', 'Scooter Tours', 'Criminal Defense Law', 'Patio Coverings', 'Parking', 'Nail Salons', 'Social Clubs', 'Magicians', 'Jazz & Blues', \"Women's Clothing\", 'Tree Services', 'Car Dealers', 'Chinese', 'Tacos', 'Music Production Services', 'Gemstones & Minerals', 'Structural Engineers', 'Water Purification Services', 'Butcher', 'Beer Gardens', 'Taiwanese', 'Accountants', 'Saunas', 'Motorcycle Gear', 'Seafood Markets', 'Cards & Stationery', 'First Aid Classes', 'Herbs & Spices', 'Asian Fusion', 'Cannabis Clinics', 'Veterinarians', 'Australian', 'Addiction Medicine', 'Midwives', 'Amusement Parks', 'Scandinavian', 'Team Building Activities', 'Hiking', 'Clowns', 'Recycling Center', 'Home Inspectors', 'Truck Rental', 'Wills', 'Astrologers', 'Airlines', 'Ophthalmologists', 'Cannabis Collective', 'Cycling Classes', 'Mobile Home Dealers', 'Tanning', 'Boot Camps', 'Korean', 'Swimming Lessons/Schools', 'Sex Therapists', 'Cannabis Dispensaries', 'Departments of Motor Vehicles', 'Ultrasound Imaging Centers', 'Community Gardens', 'Behavior Analysts', 'Health Retreats', 'Argentine', 'Travel Services', 'Gay Bars', 'Funeral Services & Cemeteries', 'Pet Training', 'Driving Schools', 'Musical Instruments & Teachers', 'Home Network Installation', 'Churches', 'Wholesale Stores', 'Pulmonologist', 'Fertility', 'Couriers & Delivery Services', 'Animal Physical Therapy', 'Diners', 'Dance Schools', 'Dry Cleaning', 'Investing', 'Smokehouse', 'Brazilian', 'Specialty Schools', 'Pubs', 'Art Installation', 'Coffee Roasteries', 'Window Washing', 'Real Estate Photography', 'Vacation Rental Agents', 'Fitness & Instruction', 'Gyms', 'Dermatologists', 'Internet Cafes', 'Mortuary Services', 'Trains', 'Massage Therapy', 'Wedding Planning', 'Keys & Locksmiths', 'Vietnamese', 'Personal Shopping', 'Medical Cannabis Referrals', 'Car Share Services', 'Cooking Schools', 'Used Car Dealers', 'Health Coach', 'Blow Dry/Out Services', 'Poke', 'Hotels & Travel', 'Burgers', 'Buses', 'Landscaping', 'Live/Raw Food', 'Paragliding', 'Ethnic Food', 'Adult Entertainment', 'Private Investigation', 'Tax Services', 'Banks & Credit Unions', 'Stucco Services', 'Allergists', 'Indonesian', 'Circuit Training Gyms', 'Windows Installation', 'Free Diving', 'Himalayan/Nepalese', 'Security Systems', 'Private Tutors', 'Interior Design', 'Drama Schools', 'Pet Services', 'Registration Services', 'Real Estate Agents', 'Imported Food', 'Escape Games', 'Szechuan', 'Photography Stores & Services', 'Psychiatrists', 'RV Rental', 'Waxing', 'Outdoor Gear', 'Rheumatologists', 'Walking Tours', 'Legal Services', 'Lounges', 'Flowers & Gifts', 'Tuscan', 'Firewood', 'Ayurveda', 'Emergency Medicine', 'Home & Garden', 'Skydiving', 'Airport Terminals', 'Ramen', 'Radiologists', 'Halotherapy', 'Health & Medical', 'Watches', 'Dive Shops', 'Septic Services', 'Convenience Stores', 'Horse Boarding', 'Carpeting', 'Pop-up Shops', 'Immunodermatologists', 'Traffic Ticketing Law', 'Auto Repair', 'Screen Printing', 'Sewing & Alterations', 'Process Servers', 'Art Galleries', 'Do-It-Yourself Food', 'Party Bus Rentals', 'Spiritual Shop', 'Indoor Landscaping', 'Campgrounds', 'Employment Agencies', 'Oil Change Stations', 'Strip Clubs', 'Organic Stores', 'Used Bookstore', 'Hydro-jetting', 'Pop-Up Restaurants', 'Historical Tours', 'Juice Bars & Smoothies', 'Heating & Air Conditioning/HVAC', 'Personal Injury Law', 'Engraving', 'Lebanese', 'Post Offices', 'Jewelry Repair', 'Social Security Law', 'Parks', 'Clothing Rental', 'Surfing', 'Transmission Repair', 'Irrigation', 'Pet Groomers', 'Personal Assistants', 'Chimney Sweeps', 'Wheel & Rim Repair', 'Periodontists', 'Greek', 'Bus Tours', 'Parenting Classes', 'Masonry/Concrete', 'Vehicle Wraps', 'Firearm Training', 'Hypnosis/Hypnotherapy', 'Child Care & Day Care', 'Laundry Services', 'Self Storage', 'Caterers', 'Packing Services', 'Bakeries', 'Body Contouring', 'Mortgage Lenders', 'Golf', 'Career Counseling', 'Comfort Food', 'Retina Specialists', 'Towing', 'Rock Climbing', 'Cooking Classes', 'Nurse Practitioner', 'Payroll Services', 'Pet Stores', 'Childbirth Education', 'Aerial Fitness', 'Museums', 'Beer Bar', 'Restaurants', 'Pet Transportation', 'Tapas/Small Plates', 'Sports Wear', 'Brewing Supplies', 'Tiki Bars', 'Irish Pub', 'Home Theatre Installation', 'Baby Gear & Furniture', 'Moroccan', 'Herbal Shops', 'Food Tours', 'Yoga', 'Trophy Shops', 'Spine Surgeons', \"Children's Museums\", 'Fashion', 'Pain Management', 'Hair Loss Centers', 'Beauty & Spas', 'Real Estate', 'Eyewear & Opticians', 'Drugstores', 'Cardiologists', 'Counseling & Mental Health', 'Reiki', 'Prosthodontists', 'Festivals', 'Shopping Centers', 'Home Health Care', 'Body Shops', 'Naturopathic/Holistic', 'Kickboxing', 'Airports', 'Trailer Rental', 'Electricians', 'Business Law', 'RV Dealers', 'International Grocery', 'Cosmetology Schools', 'Printing Services', 'Pakistani', 'Challenge Courses', 'Plus Size Fashion', 'CSA', 'Turkish', 'Virtual Reality Centers', 'Furniture Repair', 'Piercing', 'Home Staging', 'Olive Oil', 'Snow Removal', 'Italian', 'Swimwear', 'Videos & Video Game Rental', 'Stadiums & Arenas', 'Mobile Dent Repair', 'Themed Cafes', 'Doctors', 'Rolfing', 'Snorkeling', 'Otologists', 'Float Spa', 'Dog Walkers', 'Motorcycle Rental', 'Food Court', 'DUI Law', 'Cideries', 'Public Services & Government', 'Endocrinologists', 'Desserts', 'Home Organization', 'Acupuncture', 'Carpet Installation', 'Massage', 'Playgrounds', 'Pool & Hot Tub Service', 'Valet Services', 'Weight Loss Centers', 'Courthouses', 'Shaved Ice', 'Acai Bowls', 'Appliances', 'Dentists', 'Office Cleaning', 'Memory Care', 'Beer Tours', 'Estate Planning Law', 'Middle Schools & High Schools', 'Gift Shops', 'Matchmakers', 'Endodontists', 'Gardeners', 'Television Service Providers', 'Dance Studios', 'Demolition Services', 'Digitizing Services', 'Medical Spas', 'Doulas', 'Bookkeepers', 'Barbers', 'Lactation Services', 'Metal Fabricators', 'Lighting Fixtures & Equipment', 'Lighting Stores', 'Libraries', 'Colonics', 'Guest Houses', 'Bridal', 'Bankruptcy Law', 'Condominiums', 'Accessories', 'Pilates', 'Landscape Architects', 'Check Cashing/Pay-day Loans', 'Mortgage Brokers', 'Disc Golf', 'Tai Chi', 'Family Practice', 'Silent Disco', 'Insulation Installation', 'Meat Shops', 'Paint & Sip', 'Yelp Events', 'Knife Sharpening', 'Advertising', 'Retirement Homes', 'Soccer', 'Solar Installation', 'Garage Door Services', 'Food Stands', 'Neurologist', 'Colleges & Universities', 'Donation Center', 'Ticket Sales', 'Haunted Houses', 'Local Fish Stores', 'Travel Agents', 'Officiants', 'Professional Services', 'Cultural Center', 'Tapas Bars', 'Candle Stores', 'Urgent Care', 'Thai', 'Traditional Chinese Medicine', 'Formal Wear', 'Thrift Stores', 'Pharmacy', 'Music & Video', 'Personal Chefs', 'Aestheticians', 'Wraps', 'Oxygen Bars', 'Pawn Shops', 'Scooter Rentals', 'Glass Blowing', 'Hot Tub & Pool', 'Home Automation', 'Souvenir Shops', 'American (Traditional)', 'Martial Arts', 'Roof Inspectors', 'Vehicle Shipping', 'Gelato', 'Golf Lessons', 'Divorce & Family Law', 'Diving', 'Lawyers', 'Cafeteria', 'Auction Houses', 'Tanning Beds', 'Toy Stores', 'Hydrotherapy', 'Flea Markets', 'Pets', 'Pasta Shops', 'Countertop Installation', 'Tours', 'Radio Stations', 'Paddleboarding', 'Financial Advising', \"Men's Hair Salons\", 'Resorts', 'Propane', 'Sports Medicine', 'Meditation Centers', 'CPR Classes', 'Psychologists', 'Wine Tasting Classes', 'Gun/Rifle Ranges', 'Passport & Visa Services', 'Auto Detailing', 'Cosmetics & Beauty Supply', 'Orthodontists', 'Bus Rental', 'American (New)', 'Latin American', 'Boxing', 'Knitting Supplies', 'Water Stores', 'Dance Clubs', 'Gymnastics', 'Gastropubs', 'Outdoor Power Equipment Services', 'Tennis', 'Grout Services', 'Laundromat', 'Scuba Diving', 'Party Bike Rentals', 'Audio/Visual Equipment Rental', 'Whiskey Bars', 'Coffee & Tea', 'Maternity Wear', 'Cocktail Bars', \"Children's Clothing\", 'Teeth Whitening', 'Horseback Riding', 'Fireplace Services', 'Sushi Bars', 'Vocational & Technical School', 'Shipping Centers', 'Plastic Surgeons', 'Chinese Martial Arts', 'Sporting Goods', 'Department Stores', 'Preschools', 'General Litigation', 'Discount Store', 'Electronics', 'Adult Education', 'Building Supplies', 'Hair Salons', 'Public Transportation', 'Musical Instrument Services', 'Vitamins & Supplements', 'Water Heater Installation/Repair', 'Reproductive Health Services', 'Food Delivery Services', 'Boating', 'Sports Bars', 'Piano Bars', 'Air Duct Cleaning', 'Homeowner Association', 'Painters', 'Roofing', 'Bike Rentals', 'Mobile Phone Accessories', 'Occupational Therapy', 'Hospice', 'Fire Protection Services', 'Powder Coating', 'Tattoo Removal', 'Spray Tanning', 'Whale Watching Tours', 'Kitchen Supplies', 'Door Sales/Installation', 'Races & Competitions', 'Dim Sum', 'Nightlife', 'Diagnostic Services', 'Real Estate Services', 'Photo Booth Rentals', 'Skin Care', 'Skate Parks', 'Bail Bondsmen', 'Cabinetry', 'Ranches', 'Arts & Crafts', 'Mobile Phones', 'Police Departments', 'Emergency Pet Hospital', 'Performing Arts', 'Workers Compensation Law', 'Orthotics', 'Trailer Dealers', 'University Housing', 'Bagels', 'Auto Glass Services', 'Session Photography', 'Creperies', 'Muay Thai', 'Furniture Reupholstery', 'Vinyl Records', 'IV Hydration', 'Employment Law', 'Hang Gliding', 'Local Flavor', 'Art Classes', 'Skilled Nursing', 'Kids Activities', 'Sailing', 'Gutter Services', 'Mattresses', 'Psychic Mediums', 'Pool Halls', 'Art Tours', 'DJs', 'Walk-in Clinics', 'Photographers', 'Wine Tours', 'Honey', 'Beaches', 'Cuban', 'Pool Cleaners', 'Balloon Services', 'Beach Equipment Rentals', 'Barbeque', 'Excavation Services', 'Tui Na', 'Mountain Biking', 'Trivia Hosts', 'Vape Shops', 'Archery', 'Fingerprinting', 'Drywall Installation & Repair', 'Henna Artists', 'Contract Law', 'Life Coach', 'Karate', 'Commercial Real Estate', 'Visitor Centers', 'Embroidery & Crochet', 'Florists', 'Art Supplies', 'Pet Sitting', 'Wine Tasting Room', 'Damage Restoration', 'Framing', 'Cardio Classes', 'Party Supplies', 'Surf Schools', 'Gas Stations', 'Arcades', 'Obstetricians & Gynecologists', 'Watch Repair', 'Buffets', 'House Sitters', 'Specialty Food', 'Shutters', 'Landmarks & Historical Buildings', 'Auto Insurance', 'Dry Cleaning & Laundry', 'Mailbox Centers', 'Rafting/Kayaking', 'Custom Cakes', 'Fruits & Veggies', 'Auto Customization', 'Dumpster Rental', 'Public Markets', 'Shades & Blinds', 'Salvadoran', 'Outlet Stores', 'Videographers', 'Nail Technicians', 'Hair Extensions', 'Piano Services', 'Hot Pot', 'Roadside Assistance', 'Apartments', 'Mediterranean', 'Immigration Law', 'Bowling', 'Car Window Tinting', 'Montessori Schools', 'Japanese', 'Threading Services', 'Outdoor Furniture Stores', 'Pet Boarding', 'Home Services', 'Used', 'Music Venues', 'Cajun/Creole', 'Furniture Rental', 'Elementary Schools', 'Farms', 'Cosmetic Surgeons', 'Emergency Rooms', 'Cremation Services', 'Town Car Service', 'Tires', 'Bar Crawl', 'Artificial Turf', 'Lice Services', 'Chocolatiers & Shops', 'Telecommunications', 'Kombucha', 'Smog Check Stations', 'Chicken Shop', 'Customized Merchandise', 'Environmental Testing', 'Personal Care Services', 'Pet Adoption', 'Hospitals', 'Notaries', 'Brewpubs', 'Ethnic Grocery', 'Orthopedists', 'Delis', 'Fences & Gates', 'Sugaring', 'Interval Training Gyms', 'Bike tours', 'Carpet Cleaning', 'Psychics', 'RV Parks', 'Educational Services', 'Water Delivery', 'Art Museums', 'Wildlife Control', 'Education', 'Paint Stores', 'Screen Printing/T-Shirt Printing', 'Motorcycle Repair', 'Fast Food', 'Concierge Medicine', 'Pool & Billiards', 'Luggage', 'Real Estate Law', 'Hotels', 'Furniture Stores', 'Wine & Spirits', 'IT Services & Computer Repair', 'Dive Bars', 'Ethiopian', 'Dog Parks', 'Perfume', 'Appraisal Services', 'Diagnostic Imaging', 'Street Vendors', 'Bed & Breakfast', 'Prenatal/Perinatal Care', 'Grill Services', 'Rugs', 'Pizza', 'Data Recovery', 'Planetarium', '& Probates', 'Seafood', 'Gold Buyers', 'Animal Shelters', 'Office Equipment', 'Home Window Tinting', 'Amateur Sports Teams', 'Head Shops', 'Massage Schools', 'Glass & Mirrors', 'Auto Parts & Supplies', 'Party Equipment Rentals', 'Flooring', 'Boat Charters', 'Irish', 'Comic Books', 'Champagne Bars', 'Boudoir Photography', 'Ice Cream & Frozen Yogurt', 'Leather Goods', 'Fishing', 'Pediatricians', 'Vascular Medicine', 'Wholesalers', 'Photography Classes', 'Hydroponics', 'Oral Surgeons', 'Acne Treatment', 'High Fidelity Audio Equipment', 'Tax Law', 'Junk Removal & Hauling', 'Elder Care Planning', 'Health Markets', 'Laser Hair Removal', 'Solar Panel Cleaning', 'Wineries', 'Handyman', 'Farming Equipment', 'Computers', 'Halal', 'Grilling Equipment', 'Nutritionists', 'Food Trucks', 'Print Media', 'Distilleries', 'Graphic Design', 'Plumbing', 'Hunting & Fishing Supplies', 'Laser Eye Surgery/Lasik', 'Grocery', 'Mexican', 'Electronics Repair', 'Sports Clubs', 'Physical Therapy', 'Motorcycle Dealers', 'Contractors', 'Permanent Makeup', 'TV Mounting', 'French', 'Prosthetics', 'Alternative Medicine', 'Vegetarian', 'Home Decor', 'Wine Bars', 'Public Art', 'Life Insurance', 'Rehabilitation Center', 'Appliances & Repair', 'Preventive Medicine', 'Religious Organizations', 'Middle Eastern', \"Men's Clothing\", 'Mags', 'Karaoke', 'Summer Camps', 'Marinas', 'Trusts', 'Art Schools', 'Sandwiches', 'Empanadas', 'Optometrists', 'Business Consulting', 'Gluten-Free', 'Recreation Centers', 'Beer', 'Internet Service Providers', 'General Dentistry', 'Cafes', 'Windshield Installation & Repair', 'Vegan', 'Video Game Stores', 'Golf Equipment Shops', 'Flight Instruction', 'Airport Shuttles', 'Tattoo', 'Security Services', 'Livestock Feed & Supply', 'Skating Rinks', 'Tea Rooms', 'Commercial Truck Dealers', 'Breakfast & Brunch', 'Pumpkin Patches', 'Home & Rental Insurance', 'Bikes', 'Architectural Tours', 'Lakes', 'Day Spas', 'British', 'Hats', 'Oncologist', 'Lingerie', 'Senior Centers', 'Cheese Shops', 'Pressure Washers', 'Signmaking', 'Brazilian Jiu-jitsu', 'Marketing', 'Nurseries & Gardening', 'Hawaiian', 'Tex-Mex', 'Furniture Assembly', 'Batting Cages', 'Modern European', 'Recording & Rehearsal Studios', 'Musicians', 'Country Clubs', 'Financial Services', 'Hybrid Car Repair', 'Hair Removal', 'Event Planning & Services', 'Surgeons', 'Cinema', 'Shoe Stores', 'Kids Hair Salons', 'Podiatrists', 'Sleep Specialists', 'Golf Equipment', 'Swimming Pools', 'Auto Upholstery', 'Property Management', 'Community Service/Non-Profit', 'Spanish', 'Drive-In Theater', 'Bubble Tea', 'Donuts', 'Qi Gong', 'Christmas Trees', 'Estate Liquidation', 'Tiling', 'Floral Designers', 'Refinishing Services', 'Falafel', 'Environmental Abatement', 'Botanical Gardens', 'Car Stereo Installation', 'Surf Shop', 'Patisserie/Cake Shop', 'Shared Office Spaces', 'Books', 'Attraction Farms', 'Car Wash', 'Soup', 'Soul Food', 'Adult', 'Shoe Shine', 'Bars', 'Vacation Rentals', 'ATV Rentals/Tours', 'Party Characters', 'Architects', 'Indian', 'Undersea/Hyperbaric Medicine', 'Video/Film Production', 'New Mexican Cuisine', 'Hair Stylists', 'Party & Event Planning', 'Shoe Repair', 'Reflexology', 'Tenant and Eviction Law', 'Service Stations', 'Antiques', 'Ear Nose & Throat', 'Pet Photography', 'Fish & Chips', 'Guns & Ammo', 'Zoos', 'Breweries', 'Decks & Railing', 'Medical Centers', 'Mobile Phone Repair', 'Nanny Services', 'Speakeasies', 'Chicken Wings', 'Community Centers', 'Candy Stores', 'Shredding Services', 'Software Development', 'Pediatric Dentists', 'Wedding Chapels', 'Bocce Ball', 'Vintage & Consignment', 'Lawn Services', 'Boat Tours', 'Insurance', 'Fabric Stores', 'Skate Shops', 'Props', 'Internal Medicine', 'Clock Repair', 'Car Rental', 'Machine & Tool Rental', 'Packing Supplies', 'Local Services', 'Salad', 'Bespoke Clothing', 'Bike Repair/Maintenance', 'Gunsmith', 'Day Camps', 'Eyebrow Services', 'Pest Control', 'Ski & Snowboard Shops', 'Eyelash Service', 'Carpenters', 'Limos', 'Movers', 'Chiropractors', 'Mass Media', 'Urologists', 'Makeup Artists', 'Test Preparation', 'Active Life', 'Sunglasses', 'Jewelry', 'EV Charging Stations', 'Special Education', 'Shopping', 'Holistic Animal Care', 'Barre Classes', 'Tobacco Shops', 'Professional Sports Teams', 'Hobby Shops', 'Crane Services'}\n"
     ]
    }
   ],
   "source": [
    "# Extract and print all unique categories from business_df\n",
    "unique_categories = set()\n",
    "business_df['categories'].apply(lambda x: unique_categories.update(x.split(', ')))\n",
    "print(f\"Number of unique categories: {len(unique_categories)}\")\n",
    "print(unique_categories)"
   ]
  },
  {
   "cell_type": "code",
   "execution_count": null,
   "id": "03e9468d-37e6-49a6-bab0-4449e5604fbd",
   "metadata": {},
   "outputs": [],
   "source": [
    "# Convert categories to lowercase for consistency\n",
    "business_df['categories'] = business_df['categories'].apply(lambda x: [category.lower() for category in x.split(', ')])"
   ]
  },
  {
   "cell_type": "code",
   "execution_count": 57,
   "id": "1e98ee0e-447e-4909-b102-b9af09e9bbfe",
   "metadata": {},
   "outputs": [
    {
     "name": "stdout",
     "output_type": "stream",
     "text": [
      "restaurants_df (0, 14)\n"
     ]
    }
   ],
   "source": [
    "# Define restaurant-related keywords\n",
    "restaurant_keywords = [\"barbeque\",\"sandwiches\",\"fish & chips\",\"vegetarian\",\"restaurants\",\"tacos\",\"poke\",\"salad\", \"pizza\", \"burgers\", \"soup\", \"ramen\", \"chicken wings\", \"seafood\", \"vegan\", \"diners\", \"noodles\", \"comfort food\", \"asian fusion\", \"tex-mex\", \"dim sum\", \"smokehouse\"]\n",
    "\n",
    "restaurant_keywords = ['restaurants']\n",
    "# Filter RESTAURANTS ONLY (businesses with restaurant-related keywords)\n",
    "restaurants_df = business_df[business_df['categories'].apply(lambda x: any(keyword in x for keyword in restaurant_keywords))]\n",
    "\n",
    "print(f\"restaurants_df {restaurants_df.shape}\")\n",
    "\n",
    "# Select relevant columns // we may get rid of address related columns if we won't use them\n",
    "splitlat = 35.667279 # gets only socal restaurants\n",
    "\n",
    "restaurants_df = restaurants_df[['business_id', 'name', 'address', 'city', 'postal_code', 'latitude', 'longitude', 'categories', 'stars', 'review_count']]\n",
    "# socal_df = restaurants_df[int(restaurants_df['postal_code']) > 9000 and int(restaurants_df['postal_code']) < 90900]\n",
    "\n",
    "\n",
    "\n",
    "# print(f\"restaurants_df {restaurants_df.shape}\")\n",
    "# print(restaurants_df.head())\n",
    "\n",
    "\n",
    "# Drop rows with missing values // there is none\n",
    "#df_clean = restaurants_df.dropna()\n",
    "#print(f\"df_clean {df_clean.shape}\")"
   ]
  },
  {
   "cell_type": "code",
   "execution_count": 55,
   "id": "1ad168af",
   "metadata": {},
   "outputs": [
    {
     "data": {
      "text/plain": [
       "(1014, 10)"
      ]
     },
     "execution_count": 55,
     "metadata": {},
     "output_type": "execute_result"
    }
   ],
   "source": [
    "temp_df = restaurants_df[restaurants_df['latitude'] < 34.86]\n",
    "socal_df = temp_df[temp_df['latitude'] > 33.28]\n",
    "socal_df.shape\n",
    "# print(socal_df.shape)\n",
    "# print(socal_df.head())"
   ]
  },
  {
   "cell_type": "code",
   "execution_count": 50,
   "id": "3dbc53c8",
   "metadata": {},
   "outputs": [
    {
     "data": {
      "application/vnd.microsoft.datawrangler.viewer.v0+json": {
       "columns": [
        {
         "name": "index",
         "rawType": "int64",
         "type": "integer"
        },
        {
         "name": "user_id",
         "rawType": "object",
         "type": "string"
        },
        {
         "name": "business_id",
         "rawType": "object",
         "type": "string"
        },
        {
         "name": "stars",
         "rawType": "float64",
         "type": "float"
        },
        {
         "name": "text",
         "rawType": "object",
         "type": "string"
        }
       ],
       "conversionMethod": "pd.DataFrame",
       "ref": "13f6f0e8-3dc2-450f-a40c-cdcb42e5d5da",
       "rows": [
        [
         "0",
         "mh_-eMZ6K5RLWhZyISBhwA",
         "XQfwVwDr-v0ZS3_CbbE5Xw",
         "3.0",
         "If you decide to eat here, just be aware it is going to take about 2 hours from beginning to end. We have tried it multiple times, because I want to like it! I have been to it's other locations in NJ and never had a bad experience. \n\nThe food is good, but it takes a very long time to come out. The waitstaff is very young, but usually pleasant. We have just had too many experiences where we spent way too long waiting. We usually opt for another diner or restaurant on the weekends, in order to be done quicker."
        ],
        [
         "1",
         "OyoGAe7OKpv6SyGZT5g77Q",
         "7ATYjTIgM3jUlt4UM3IypQ",
         "5.0",
         "I've taken a lot of spin classes over the years, and nothing compares to the classes at Body Cycle. From the nice, clean space and amazing bikes, to the welcoming and motivating instructors, every class is a top notch work out.\n\nFor anyone who struggles to fit workouts in, the online scheduling system makes it easy to plan ahead (and there's no need to line up way in advanced like many gyms make you do).\n\nThere is no way I can write this review without giving Russell, the owner of Body Cycle, a shout out. Russell's passion for fitness and cycling is so evident, as is his desire for all of his clients to succeed. He is always dropping in to classes to check in/provide encouragement, and is open to ideas and recommendations from anyone. Russell always wears a smile on his face, even when he's kicking your butt in class!"
        ],
        [
         "2",
         "8g_iMtfSiwikVnbP2etR0A",
         "YjUWPpI6HXG530lwP-fb2A",
         "3.0",
         "Family diner. Had the buffet. Eclectic assortment: a large chicken leg, fried jalapeño, tamale, two rolled grape leaves, fresh melon. All good. Lots of Mexican choices there. Also has a menu with breakfast served all day long. Friendly, attentive staff. Good place for a casual relaxed meal with no expectations. Next to the Clarion Hotel."
        ],
        [
         "3",
         "_7bHUi9Uuf5__HHc_Q8guQ",
         "kxX2SOes4o-D3ZQBkiMRfA",
         "5.0",
         "Wow!  Yummy, different,  delicious.   Our favorite is the lamb curry and korma.  With 10 different kinds of naan!!!  Don't let the outside deter you (because we almost changed our minds)...go in and try something new!   You'll be glad you did!"
        ],
        [
         "4",
         "bcjbaE6dDog4jkNY91ncLQ",
         "e4Vwtrqf-wpJfwesgvdgxQ",
         "4.0",
         "Cute interior and owner (?) gave us tour of upcoming patio/rooftop area which will be great on beautiful days like today. Cheese curds were very good and very filling. Really like that sandwiches come w salad, esp after eating too many curds! Had the onion, gruyere, tomato sandwich. Wasn't too much cheese which I liked. Needed something else...pepper jelly maybe. Would like to see more menu options added such as salads w fun cheeses. Lots of beer and wine as well as limited cocktails. Next time I will try one of the draft wines."
        ],
        [
         "5",
         "eUta8W_HdHMXPzLBBZhL1A",
         "04UD14gamNjLY0IDYVhHJg",
         "1.0",
         "I am a long term frequent customer of this establishment. I just went in to order take out (3 apps) and was told they're too busy to do it. Really? The place is maybe half full at best. Does your dick reach your ass? Yes? Go fuck yourself! I'm a frequent customer AND great tipper. Glad that Kanella just opened. NEVER going back to dmitris!"
        ],
        [
         "6",
         "r3zeYsv1XFBRA4dJpL78cw",
         "gmjsEdUsKpj9Xxu6pdjH0g",
         "5.0",
         "Loved this tour! I grabbed a groupon and the price was great. It was the perfect way to explore New Orleans for someone who'd never been there before and didn't know a lot about the history of the city. Our tour guide had tons of interesting tidbits about the city, and I really enjoyed the experience. Highly recommended tour. I actually thought we were just going to tour through the cemetery, but she took us around the French Quarter for the first hour, and the cemetery for the second half of the tour. You'll meet up in front of a grocery store (seems strange at first, but it's not terribly hard to find, and it'll give you a chance to get some water), and you'll stop at a visitor center part way through the tour for a bathroom break if needed. This tour was one of my favorite parts of my trip!"
        ],
        [
         "7",
         "yfFzsLmaWF2d4Sr0UNbBgg",
         "LHSTtnW3YHCeUkRDGyJOyw",
         "5.0",
         "Amazingly amazing wings and homemade bleu cheese. Had the ribeye: tender, perfectly prepared, delicious. Nice selection of craft beers. Would DEFINITELY recommend checking out this hidden gem."
        ],
        [
         "8",
         "wSTuiTk-sKNdcFyprzZAjg",
         "B5XSoSG3SfvQGtKEGQ1tSQ",
         "3.0",
         "This easter instead of going to Lopez Lake we went to Los Padres National Forest which is really pretty but if you go to white rock the staff needs to cut down all the dead grass that invades the rock and the water. I would wish the staff would also clean or get rid of the dead grass that's also living by the water. The water is really green and dirty. Los padres national forest staff need to work hard to maintain this forest looking pretty and not like a dumpster. Even Cachuma lake looks like they put a bit more effort."
        ],
        [
         "9",
         "59MxRhNVhU9MYndMkz0wtw",
         "gebiRewfieSdtt17PTW6Zg",
         "3.0",
         "Had a party of 6 here for hibachi. Our waitress brought our separate sushi orders on one plate so we couldn't really tell who's was who's and forgot several items on an order. I understand making mistakes but the restaraunt was really quiet so we were kind of surprised. Usually hibachi is a fun lively experience and our  cook  said maybe three words, but he cooked very well his name was Francisco. Service was fishy, food was pretty good, and im hoping it was just an off night here. But for the money I wouldn't go back."
        ],
        [
         "10",
         "1WHRWwQmZOZDAhp2Qyny4g",
         "uMvVYRgGNXf5boolA9HXTw",
         "5.0",
         "My experience with Shalimar was nothing but wonderful. \nI wanted to get my engagement ring sized and was told over the phone that it could probably be done within the day. \nWhen I brought it by, the team confirmed that the jeweler would be able to accommodate my same-day request and that it would be around $40 (simple band, decrease by three full sizes).\nI checked my size one more time, confirmed, and left to let them do their thing.\nWhen I came to pick up later that afternoon, the ring was too small. It's very important to note that Shalimar sized the ring perfectly, but that I made a mistake and should've gone up a half-size.\nThe Shalimar group were completely understanding and accommodating, even resizing my ring back up and getting it back to me within an hour at no charge! Even though it was my mistake!\nThe associates' attitudes in dealing with what was a pretty embarrassing situation instantly earned my satisfaction and loyalty as a customer. Very grateful for such a wonderful experience."
        ],
        [
         "11",
         "ZbqSHbgCjzVAqaa7NKWn5A",
         "EQ-TZ2eeD_E0BHuvoaeG5Q",
         "4.0",
         "Locals recommended Milktooth, and it's an amazing jewel of Indianapolis. I'm glade I had the chance to experience this."
        ],
        [
         "12",
         "9OAtfnWag-ajVxRbUTGIyg",
         "lj-E32x9_FA7GmUrBGBEWg",
         "4.0",
         "Love going here for happy hour or dinner!  Great patio with fans to beat the StL heat!   Also...very accomodating at this location.  I like the Veal Milanese but with mixed greens instead of pasta!  they'll modify the menu to suit your taste!"
        ],
        [
         "13",
         "smOvOajNG0lS4Pq7d8g4JQ",
         "RZtGWDLCAtuipwaZ-UfjmQ",
         "4.0",
         "Good food--loved the gnocchi with marinara\nthe baked eggplant appetizer was very good too\n\nThe service was very slow, but despite this, I'd go back, the food is just that good"
        ],
        [
         "14",
         "4Uh27DgGzsp6PqrH913giQ",
         "otQS34_MymijPTdNBoBdCw",
         "4.0",
         "The bun makes the Sonoran Dog. It's like a snuggie for the pup. A first, it seems ridiculous and almost like it's going to be too much, exactly like everyone's favorite blanket with sleeves. Too much softness, too much smush, too indulgent.  Wrong. It's warm, soft, chewy, fragrant, and it succeeds where other famed Sonoran Dogs fail. \n\nThe hot dog itself is flavorful, but I would prefer that it or the bacon have a little more bite or snap to better hold their own against the dominant mustard and onions. \n\nI'm with the masses on the carne asada caramelo. Excellent tortilla, salty, melty cheese, and great carne. \n\nSuper cheap and you can drive through."
        ],
        [
         "15",
         "1C2lxzUo1Hyye4RFIXly3g",
         "BVndHaLihEYbr76Z0CMEGw",
         "5.0",
         "Great place for breakfast! I had the waffle, which was fluffy and perfect, and home fries which were nice and smashed and crunchy. Friendly waitstaff. Will definitely be back!"
        ],
        [
         "16",
         "Dd1jQj7S-BFGqRbApFzCFw",
         "YtSqYv1Q_pOltsVPSx54SA",
         "5.0",
         "Tremendous service (Big shout out to Douglas) that complemented the delicious food. Pretty expensive establishment (40-50$ avg for your main course), but its definitely backs that up with an atmosphere that's comparable with any of the top tier restaurants across the country."
        ],
        [
         "17",
         "j2wlzrntrbKwyOcOiB3l3w",
         "rBdG_23USc7DletfZ11xGA",
         "4.0",
         "The hubby and I have been here on multiple occasions and we have loved every part of the meal, every single time. Everyone from the servers to the bartender is very knowledgable about the menu and was able to immediately recommend items I could eat as-is, substitute or delete to make something safe for this Celiac girl to eat. The wine and cocktail menus are spot on. The food divine.  My only wish is that they would have a gluten-free dessert, we've always had to go elsewhere for something sweet. But that is not a big deal and I still want to go here time and time again."
        ],
        [
         "18",
         "NDZvyYHTUWWu-kqgQzzDGQ",
         "CLEWowfkj-wKYJlQDqT1aw",
         "5.0",
         "I go to blow bar to get my brows done by natalie (brow specialist) which i highly recommend she is great does a great job on my eyebrows! But then i got a blow by victoria!! Wow i was impress i have thin, straight, dead hair and she left me with the biggest volume ive ever had!!! Tried another girl but didnt like it as much so victoria will be my girl for ever; very beautiful clean place!!!"
        ],
        [
         "19",
         "IQsF3Rc6IgCzjVV9DE8KXg",
         "eFvzHawVJofxSnD7TgbZtg",
         "5.0",
         "My absolute favorite cafe in the city. Their black and white latte is probably the best I've ever had (not too sweet and just the right amount of foam), soups are always really good (even for non-soup people) and there's just a lot of space to do work. The noise level is perfect, the music is at a perfect level, and I always enjoy when patrons bring their dogs. I'll keep giving them my business for as long as I can."
        ],
        [
         "20",
         "Ohhrhu1RkqfVciIVx_W5HQ",
         "nRKndeZLQ3eDL10UMwS2rQ",
         "5.0",
         "HOLY SMOKES!\n\nactual pumpkin pie mixed in with the frozen custard......are you kidding me? Why hasn't this become a huge sweep the nation treat. \n\nThe best part was the chunks of pie crust. Like finding a diamond inside another diamond. Super yummy."
        ],
        [
         "21",
         "WBpQDAZymU0dhIqXcACGNw",
         "ut6fi2W2YaipNOqvi7e0jw",
         "3.0",
         "Upland is a brewery based out of Bloomington, Indiana that has become popular enough to open up a couple additional locations in central Indiana.  All of their beers are very good, and I am also a fan of their burgers and tenderloins.  Therefore, I was excited to try their pizza, but I don't think it ended up being on par with these other items.  My margherita pizza had a cracker-like crust and was pretty light overall.  The cheese was good, but none of the other toppings added much flavor.  There was no red sauce as is typical for a true margherita pizza.  My opinion is that Upland's pizza might serve as a nice appetizer for a group, but I'll be sticking with their burgers or tenderloins as my meal of choice on future visits."
        ],
        [
         "22",
         "vrKkXsozqqecF3CW4cGaVQ",
         "rjuWz_AD3WfXJc03AhIO_w",
         "5.0",
         "I thoroughly enjoyed the show.  Chill way to spend a Friday night."
        ],
        [
         "23",
         "OhECKhQEexFypOMY6kypRw",
         "vC2qm1y3Au5czBtbhc-DNw",
         "4.0",
         "Yes, this is the only sushi place in town. However, it is great when you're craving sushi and don't have time to go somewhere else. The salmon is probably the best fish they have, so we always order salmon. We also love their spicy edamame, tempura, ocean salad, and cabbage salad. Service has always been friendly and quick!"
        ],
        [
         "24",
         "RreNy--tOmXMl1en0wiBOg",
         "cPepkJeRMtHapc_b2Oe_dw",
         "4.0",
         "I was really between 3 and 4 stars for this one. I LOVE the 96th street Naked Tchopstix so I was very excited to see this one which is closer to my house.\nThe vibe is totally different as this is geared more to take out although they do have a decent size dining area. You order at the counter and they deliver it.\nMy daughter and I tried the sushi bowl. You pick up a piece of paper and  select from a choice of proteins, vegetables, rice and toppings. I like the fact that it is on paper and you don't have to guess what things are or have to shout over the counter to tell the server what you want. The sushi bowl was good but not wonderful. The choices particularly of the vegetables seemed a little too limiting and I felt I had more rice than other food items. The sauces were tasty. My husband ordered the Maui roll which is my favorite roll at the 96th street location and this just was not up that standard. It was good but the quality and consistently was not as good as at 96th street. I would go back though and I think a lot of people would be happy with the sushi bowls. I do want to make a comment about the low reviews that people have given the place because of service. People - it is a sushi place - it isn't McDonalds- so it will be a bit slower. You are not going to order and get out of there in five minutes even though it is called express. As a healthy alternative to fast food in the area, it is worth the wait. Oh and try the bubble tea. I had the strawberry and it was quite yummy. Next time I am going to try the vanilla chai."
        ],
        [
         "25",
         "zoBajEyVA0z4IjbFsMJksg",
         "c-IgS6Pk6vMyax7Rbr38eA",
         "4.0",
         "Went for lunch. Beef brisket sandwich was awesome.   So juicy and tender.    Pulled pork was was just as good!"
        ],
        [
         "26",
         "clWLI5OZP2ad25ugMVI8gg",
         "x4XdNhp0Xn8lOivzc77J-g",
         "5.0",
         "Best thai food in the area.  Everything was authentic and delicious.  Will definitely be back again and again."
        ],
        [
         "27",
         "xVKE_HJ2pwUtTdLbL3pnCg",
         "S2Ho8yLxhKAa26pBAm6rxA",
         "3.0",
         "Service was crappy, and food was mediocre.  I wish I would have picked some other place for my last dinner in town."
        ],
        [
         "28",
         "mNsVyC9tQVYtzLOCbh2Piw",
         "MWmXGQ98KbRo3vsS5nZhMA",
         "5.0",
         "I recently had dinner here with my wife over the weekend and could not have been more pleased! \n\nOur meal was excellent! My wife and I were astounded by how quickly our food came out! Everything tasted fresh and homemade which we both appreciated. \n\nThe only problem was trying to pick something from the menu as there were too many delicious sounding items to choose from. We will definitely be returning to try more items! Can't wait to see what the next chef specials will be!"
        ],
        [
         "29",
         "-sryo4gDYxbZ1T5Bz4l5Bw",
         "ltBBYdNzkeKdCNPDAsxwAA",
         "2.0",
         "I at least have to give this restaurant two stars due to the decent food. But while on a dinner meeting and after spending $100 on entrées and appetizers, I had to flag down the assistant cook, (the guy in bright red baggy pants watching TV), to see if I could get more avocado for my tuna entrée.  He made it very apparent and direct that he could not help me with that situation and I would have to flag down my  waitress so she could bill me for the four dollar avocado."
        ],
        [
         "30",
         "Jha0USGDMefGFRLik_xFQg",
         "bMratNjTG5ZFEA6hVyr-xQ",
         "5.0",
         "First time there and it was excellent!!! It feels like your are entering someone's home. The waiters there funny and nice. The food come out very quickly and it is phenomenal!!! Definitely will be going back to this place."
        ],
        [
         "31",
         "4hBhtCSgoxkrFgHa4YAD-w",
         "bbEXAEFr4RYHLlZ-HFssTA",
         "5.0",
         "Great burgers,fries and salad!  Burgers have a hint of salt and pepper flavor.\n\nThis location is very quaint. They only have outdoor seating\n\nFriendly staff.\n\nStreet parking as well as parking lot in the back."
        ],
        [
         "32",
         "QzCEzH3R7Z6erOGLr3t55Q",
         "0pMj5xUAecW9o1P35B0AMw",
         "5.0",
         "Great staff always helps and always nice. Always clean and huge store size. Stays stocked with everything you need. The staff always helps make my custom breakfast bagel"
        ],
        [
         "33",
         "yFuE8SPF-d1GXJUWYgKtzg",
         "X8lfGPagfLzfOsx0k08NRQ",
         "5.0",
         "Took my vehicle here for some work a few years ago for a manufacturer recall. Problem went away and then started hearing another noise which I thought was related, but turned out was a completely different issue. Kevin and his mechanic lifted my car right up and fixed the issue FREE OF CHARGE even though I told them I'd pay. Outstanding individuals for doing that. Highly recommend!"
        ],
        [
         "34",
         "3MpDvy5gEdsbZh9-p92dHg",
         "8QnuWGVNBhzyYXGSeRdi4g",
         "4.0",
         "After my ROTD  yesterday of a different Sweet CeCe's location, I realized that I had never reviewed my local source!  Anyway, I love the product.  Love love love.  And I usually like their selection of toppings - good mix between healthy and not-so-healthy.  Sometimes the girls working there aren't really paying attention or are nowhere to be found.  Sometimes you have to remind them of their deals (like $5 Friday).  But I can't give it less than 4 stars because I just love it so much."
        ],
        [
         "35",
         "bFPdtzu11Oi0f92EAcjqmg",
         "IDtLPgUrqorrpqSLdfMhZQ",
         "5.0",
         "What a great addition to the Funk Zone!  Grab a bite, grab some tastings, life is good. Right next door to the Santa Barbara Wine Collective, in fact it actually shares the same tables.  We had a fabulous savory croissant."
        ],
        [
         "36",
         "wA7V8Ijgbv-16rmnwW-hjA",
         "LfYUOclwLs_SPrNAdKMjsw",
         "5.0",
         "Nice relaxing place to get a massage! Same day appointments are easy to come by! I have never been disappointed with any therapist I have had at the Center!"
        ],
        [
         "37",
         "qEEk0PuoH1dVa619t8fgpw",
         "PY9GRfzr4nTZeINf346QOw",
         "4.0",
         "We checked in around 2:30 pm.  Check-in was quick and easy with complimentary valet parking (always appreciated).  The Peppermill is huge and reminded us of the Caesars Palace in Las Vegas.  They have around eight restaurants on site offering almost any type of food you could want.  The casino area is huge, rivaling almost anything you could find in Las Vegas.  One thing we noticed is that many of the slot machines were noted as being penny machines, but when you actually started to play them you realized they had minimum bets of anywhere from 30 cents to $5.  Talk about false advertising!  We were in the Tuscany Tower on the 12th floor.  Our room had a nice view of the huge pool area.  Our room was large and featured free WiFi (likewise always appreciated), a huge bathroom area with large shower (with two shower heads), TV, a large jetted bathtub and a phone next to the commode.  There were dual sinks and lots of counter space.  Plenty of towels were supplied.  The roomy main area had a king bed with night stands, closet, TV, mini fridge, dresser with two drawers, a safe, table for computer or writing, complimentary bottles of water, and three nicely upholstered chairs and table.  The thermostat did a good job controlling the temperature and keeping it comfortable.  Staff were all courteous and helpful.  A very nice place and we enjoyed our stay."
        ],
        [
         "38",
         "aFa96pz67TwOFu4Weq5Agg",
         "kq5Ghhh14r-eCxlVmlyd8w",
         "5.0",
         "My boyfriend and I tried this deli for the first time today. I had a turkey, avocado & bacon panini and he ha a buffalo chicken wrap. We will definitely be returning. The wait for food wasn't too long, which is always appreciated during lunch hour. There was SO much to choose from. They have salads, soup, macaroni, sandwiches and hot food. I love a deli that has many options to choose from!"
        ],
        [
         "39",
         "iYY5Ii1LGpZCpXFkHlMefw",
         "Zx7n8mdt8OzLRXVzolXNhQ",
         "5.0",
         "Amazing biscuits and (fill in the blank). Great cocktails too. Highly recommended. A bit busy though."
        ],
        [
         "40",
         "yobeeTUBfaTBcnk26mXNuA",
         "hKameFsaXh9g8WQbv593UA",
         "4.0",
         "Food was good- atmosphere/decor is like a fishing lodge- menu is someplace between outback & bonefish. Went on a Groupon & all 3 of our meals & calamari appetizer that we ordered were cooked perfectly- we will def be back."
        ],
        [
         "41",
         "EZjT2qJN0mOXypMAqZdSrQ",
         "A2q7d-CBM2-81tVkmS4JMw",
         "2.0",
         "Straight to the point, it's cheap, it tastes and feels cheap\n\nThe good: price, location, dessert (edible food items are: baked chicken, fried chicken, mashed potatoes, Salad bar lol, meat and cheese bar, ravioli, pizza) also our waitress was bomb af\n\nThe meh: behind counter meat slicing station, shrimp (not even deveined), Mexican station\n\nThe bad: breakfast -worst eggs ever, actually worst, eggs. Le Benedict can't even cut through ham or English muffin (tried on all 3 occasions), steak, shrimp again, hell breaded items can't even, don't even. Decor it's the 1970 nightmare you can imagine\n\nTried 3 times and failed"
        ],
        [
         "42",
         "G0DHgkSsDozqUPWtlxVEMw",
         "oBhJuukGRqPVvYBfTkhuZA",
         "4.0",
         "The only reason I didn't give this restaurant a 5 star rating, is because of one single pretentious waiter. As a 4 night guest at Hotel Palomar, the location of the restaurant is an obvious plus. The first night of my stay, I met a coworker in the restaurant for a cocktail. When we arrived, the host staff were busy and not available, so we just walked in. The restaurant was not too busy, so we just looked at a small table next to the bar and proceeded to take a seat. A waiter came by and I quickly asked if we could have a seat, before sitting down and told him we'd only be having cocktails. He stumbled on his reply, and in an irritated/in-convinced tone, told me \"I guess it would be fine\" and basically just kept walking mid sentence. My guest and I brushed it off, and started having a conversation while looking at the drink menu. To make a long story short, he was distant and we both got the \"couldn't be bothered\" vibe from him. When it came to the bill, we asked if it could be split due to company transaction policies, and you would have thought asked him for some inconceivable task. We basically spent the rest of our night and elevator ride to our room in shock of the rudeness we had just experienced. \n\nAlthough that situation left a bad taste in our mouth, and the night before we decided to avoid the restaurant, we decided to grab another cocktail and give this place one more try. After looking around and ensuring \"last nights waiter\" wasn't on shift, we walked over to the bar and started looking over the menu. Instantly, the bartender greeted us with pleasant small talk and made us feel 100% welcome. He asked about our day, recommended cocktails and was a completely genuine person. This guy (I think his name was Ben) is an absolute star! He gave us lessons on Whiskey, described how to make classic cocktails, and was 100% invested in our experience. This is exactly what a bartender at a 4/5 star establishment should be - actually he exceeds that. He was kind, funny, friendly and completely redeemed this restaurant/bar from our terrible experience the night before. \nI also ordered room service last night from this restaurant, and it was amazing. The bacon wrapped dates and chocolate cake are to die for! Great restaurant and amazing bartender(s). Too bad one bad egg could have spoiled this experience."
        ],
        [
         "43",
         "RRTQpg8hutdimzAYuP_Hbw",
         "eaJCpC6IhYphj7bwCDHTwQ",
         "5.0",
         "Stopped by after a Sunday morning walk in the park - great food, coffee customer service - love the vibe in here"
        ],
        [
         "44",
         "EBa-0-6AKoy6jziNexDJtg",
         "W4ZEKkva9HpAdZG88juwyQ",
         "3.0",
         "In a word... \"OVERRATED!\".  The food took forever to come out.  The burger was WAY overcooked (Especially when I ordered it Medium Rare) and the Seafood Jumbalaya was Decent.  Not worth the price.  There are better places to eat in the french quarter.  It was not horrible, but for everything that we had heard about this place, I would have expected much better."
        ],
        [
         "45",
         "l_izt6hn7oTxalU06mSyqg",
         "jTI5Xjk27An8ceJ6VwpXiQ",
         "4.0",
         "Comfortable bed, good breakfast, fast internet, great location, and low price. Overall I was really impressed with this place. However, if you stay on the top floors you may be waiting up to 15 minutes for an elevator in the morning."
        ],
        [
         "46",
         "Z2cOL3n9V8NoguJ-uU_Nvw",
         "j8JOZvfeHEfUWq3gEz6ABQ",
         "2.0",
         "NEVER AGAIN. This is a so called restaurant that does nothing that a restaurant should other than prepare food, because the rest is done by the patron. Want water? Get up and go across the yard to get it. Want a drink, walk up a flight of stairs and pay cash. Want to sit in a dirty yard in dirty lawn chairs, enjoy yourself. The wait staff is mildy helpful in that they bring you your food after you go to the window and pay cash for it...kind of like New Orleans Hamburger and Seafood, but dirty and with live music (which is nice). It's a one in a lifetime experience for me...just once."
        ],
        [
         "47",
         "OuatwND396ZQxm2zK8WlUQ",
         "jNL5KUPz2-tHUJM__ysSaw",
         "1.0",
         "If you want to pay for everything a la carte this is the place for you.  \nFood wasn't terrible not impressive.\nThey brought a basket of chips and some tomato sauce which I asked politely for something spicier and some pico de gallo.  She brought them happily to me and the salsa was much better.  When asked what we would like to drink I asked for a coke and she brought out a bottle which I stated I wanted the fountain drink.  She said \"oh that's only Pepsi\".  Never mentioned that they only had bottle drinks for coke.  \nWe ordered our food which was reasonably priced, asked for sour cream and also to put cheese on the taco.  She let us know cheese was extra.  \nIt was $2.50 extra for another basket of chips.  \nWhen I received the bill we paid more for the condiments then the actual food.  Side of sour cream 2.00, pico de gallo 2.50, salsa 2.00, chips 2.50, cheese 1.00 and the bottled coke that we didn't want 5.00.  \nJust a suggestion...when you order anything make sure to ask if there is an extra charge."
        ],
        [
         "48",
         "S7bjj-L07JuRr-tpX1UZLw",
         "I6L0Zxi5Ww0zEWSAVgngeQ",
         "4.0",
         "The cafe was extremely cute. We came at 8am and they even had a jazz band playing at that time. I got the breakfast sandwich and it was delicious. I loved how they rolled the egg and put the bacon pieces inside. Great price for a filling breakfast!"
        ],
        [
         "49",
         "ZGjgfSvjQK886kiTzLwfLQ",
         "EtKSTHV5Qx_Q7Aur9o4kQQ",
         "5.0",
         "On a scale of one to things that are awesome, this place is the bomb. \n\nI was drawn in by the promise of the duckfat frenchfries. Took the boy for his birthday and put our name in, had a drink around the corner while we waited and were given seats at the bar after about 45 minutes. \n\nWe were waited on by Keith, the bartender, who was congenial, knowledgeable about his whiskeys and an all-around cool guy. We started with 3 cape may salts (two for me, one for the boy) and tater tots, both of which made me happy.\n\nFor dinner, I got Kentucky Fried Quail (stellar, though the succotash was not as exciting as I wanted it to be) and the boy got the 24$ Fois Gras burger, which was incredible. Worth every penny. The duckfat fries were pretty yummy, but not even the best part of the meal. I could've done without the cheese sauce, but as it was on the side I wasn't deterred.\n\nI look forward to coming back here, with everyone I know."
        ]
       ],
       "shape": {
        "columns": 4,
        "rows": 4033691
       }
      },
      "text/html": [
       "<div>\n",
       "<style scoped>\n",
       "    .dataframe tbody tr th:only-of-type {\n",
       "        vertical-align: middle;\n",
       "    }\n",
       "\n",
       "    .dataframe tbody tr th {\n",
       "        vertical-align: top;\n",
       "    }\n",
       "\n",
       "    .dataframe thead th {\n",
       "        text-align: right;\n",
       "    }\n",
       "</style>\n",
       "<table border=\"1\" class=\"dataframe\">\n",
       "  <thead>\n",
       "    <tr style=\"text-align: right;\">\n",
       "      <th></th>\n",
       "      <th>user_id</th>\n",
       "      <th>business_id</th>\n",
       "      <th>stars</th>\n",
       "      <th>text</th>\n",
       "    </tr>\n",
       "  </thead>\n",
       "  <tbody>\n",
       "    <tr>\n",
       "      <th>0</th>\n",
       "      <td>mh_-eMZ6K5RLWhZyISBhwA</td>\n",
       "      <td>XQfwVwDr-v0ZS3_CbbE5Xw</td>\n",
       "      <td>3.0</td>\n",
       "      <td>If you decide to eat here, just be aware it is...</td>\n",
       "    </tr>\n",
       "    <tr>\n",
       "      <th>1</th>\n",
       "      <td>OyoGAe7OKpv6SyGZT5g77Q</td>\n",
       "      <td>7ATYjTIgM3jUlt4UM3IypQ</td>\n",
       "      <td>5.0</td>\n",
       "      <td>I've taken a lot of spin classes over the year...</td>\n",
       "    </tr>\n",
       "    <tr>\n",
       "      <th>2</th>\n",
       "      <td>8g_iMtfSiwikVnbP2etR0A</td>\n",
       "      <td>YjUWPpI6HXG530lwP-fb2A</td>\n",
       "      <td>3.0</td>\n",
       "      <td>Family diner. Had the buffet. Eclectic assortm...</td>\n",
       "    </tr>\n",
       "    <tr>\n",
       "      <th>3</th>\n",
       "      <td>_7bHUi9Uuf5__HHc_Q8guQ</td>\n",
       "      <td>kxX2SOes4o-D3ZQBkiMRfA</td>\n",
       "      <td>5.0</td>\n",
       "      <td>Wow!  Yummy, different,  delicious.   Our favo...</td>\n",
       "    </tr>\n",
       "    <tr>\n",
       "      <th>4</th>\n",
       "      <td>bcjbaE6dDog4jkNY91ncLQ</td>\n",
       "      <td>e4Vwtrqf-wpJfwesgvdgxQ</td>\n",
       "      <td>4.0</td>\n",
       "      <td>Cute interior and owner (?) gave us tour of up...</td>\n",
       "    </tr>\n",
       "    <tr>\n",
       "      <th>...</th>\n",
       "      <td>...</td>\n",
       "      <td>...</td>\n",
       "      <td>...</td>\n",
       "      <td>...</td>\n",
       "    </tr>\n",
       "    <tr>\n",
       "      <th>6990259</th>\n",
       "      <td>AhEQTf7VntdHkrax4EQgeA</td>\n",
       "      <td>w6yF2Y88KhzTld0WXgICtA</td>\n",
       "      <td>5.0</td>\n",
       "      <td>Here's your Starbucks alternative, don't get m...</td>\n",
       "    </tr>\n",
       "    <tr>\n",
       "      <th>6990263</th>\n",
       "      <td>-AkziDwQ8hv2COTDBBUpig</td>\n",
       "      <td>aunmz06iWvo3bd6MMHEbqg</td>\n",
       "      <td>3.0</td>\n",
       "      <td>Philly has become a dangerous place with the m...</td>\n",
       "    </tr>\n",
       "    <tr>\n",
       "      <th>6990268</th>\n",
       "      <td>s67G457QlHSvk5RjOMN91w</td>\n",
       "      <td>58MJvmfo5hyfBbvkr54sFA</td>\n",
       "      <td>5.0</td>\n",
       "      <td>Great gym.  Was in Indy for 4 days on business...</td>\n",
       "    </tr>\n",
       "    <tr>\n",
       "      <th>6990271</th>\n",
       "      <td>QIXYkyAbTvgePUOH0-cRFg</td>\n",
       "      <td>Bh4b8wJRR_ggH7JvpCO7CQ</td>\n",
       "      <td>2.0</td>\n",
       "      <td>The front desk staff is very good and they hav...</td>\n",
       "    </tr>\n",
       "    <tr>\n",
       "      <th>6990273</th>\n",
       "      <td>_XVdmFWSgTN6YlojUxixTA</td>\n",
       "      <td>6WaI-IN8ql0xpEKlb4q8tg</td>\n",
       "      <td>5.0</td>\n",
       "      <td>We redesigned my moms dress and mad it complet...</td>\n",
       "    </tr>\n",
       "  </tbody>\n",
       "</table>\n",
       "<p>4033691 rows × 4 columns</p>\n",
       "</div>"
      ],
      "text/plain": [
       "                        user_id             business_id  stars  \\\n",
       "0        mh_-eMZ6K5RLWhZyISBhwA  XQfwVwDr-v0ZS3_CbbE5Xw    3.0   \n",
       "1        OyoGAe7OKpv6SyGZT5g77Q  7ATYjTIgM3jUlt4UM3IypQ    5.0   \n",
       "2        8g_iMtfSiwikVnbP2etR0A  YjUWPpI6HXG530lwP-fb2A    3.0   \n",
       "3        _7bHUi9Uuf5__HHc_Q8guQ  kxX2SOes4o-D3ZQBkiMRfA    5.0   \n",
       "4        bcjbaE6dDog4jkNY91ncLQ  e4Vwtrqf-wpJfwesgvdgxQ    4.0   \n",
       "...                         ...                     ...    ...   \n",
       "6990259  AhEQTf7VntdHkrax4EQgeA  w6yF2Y88KhzTld0WXgICtA    5.0   \n",
       "6990263  -AkziDwQ8hv2COTDBBUpig  aunmz06iWvo3bd6MMHEbqg    3.0   \n",
       "6990268  s67G457QlHSvk5RjOMN91w  58MJvmfo5hyfBbvkr54sFA    5.0   \n",
       "6990271  QIXYkyAbTvgePUOH0-cRFg  Bh4b8wJRR_ggH7JvpCO7CQ    2.0   \n",
       "6990273  _XVdmFWSgTN6YlojUxixTA  6WaI-IN8ql0xpEKlb4q8tg    5.0   \n",
       "\n",
       "                                                      text  \n",
       "0        If you decide to eat here, just be aware it is...  \n",
       "1        I've taken a lot of spin classes over the year...  \n",
       "2        Family diner. Had the buffet. Eclectic assortm...  \n",
       "3        Wow!  Yummy, different,  delicious.   Our favo...  \n",
       "4        Cute interior and owner (?) gave us tour of up...  \n",
       "...                                                    ...  \n",
       "6990259  Here's your Starbucks alternative, don't get m...  \n",
       "6990263  Philly has become a dangerous place with the m...  \n",
       "6990268  Great gym.  Was in Indy for 4 days on business...  \n",
       "6990271  The front desk staff is very good and they hav...  \n",
       "6990273  We redesigned my moms dress and mad it complet...  \n",
       "\n",
       "[4033691 rows x 4 columns]"
      ]
     },
     "execution_count": 50,
     "metadata": {},
     "output_type": "execute_result"
    }
   ],
   "source": [
    "temp_df = (review_df.groupby('user_id'))\n",
    "temp_df.head()"
   ]
  },
  {
   "cell_type": "code",
   "execution_count": 47,
   "id": "55a31fdd-23ee-4586-a84f-ceef80b7d211",
   "metadata": {},
   "outputs": [
    {
     "name": "stdout",
     "output_type": "stream",
     "text": [
      "                  user_id             business_id  stars  \\\n",
      "0  mh_-eMZ6K5RLWhZyISBhwA  XQfwVwDr-v0ZS3_CbbE5Xw    3.0   \n",
      "1  OyoGAe7OKpv6SyGZT5g77Q  7ATYjTIgM3jUlt4UM3IypQ    5.0   \n",
      "2  8g_iMtfSiwikVnbP2etR0A  YjUWPpI6HXG530lwP-fb2A    3.0   \n",
      "3  _7bHUi9Uuf5__HHc_Q8guQ  kxX2SOes4o-D3ZQBkiMRfA    5.0   \n",
      "4  bcjbaE6dDog4jkNY91ncLQ  e4Vwtrqf-wpJfwesgvdgxQ    4.0   \n",
      "\n",
      "                                                text  \n",
      "0  If you decide to eat here, just be aware it is...  \n",
      "1  I've taken a lot of spin classes over the year...  \n",
      "2  Family diner. Had the buffet. Eclectic assortm...  \n",
      "3  Wow!  Yummy, different,  delicious.   Our favo...  \n",
      "4  Cute interior and owner (?) gave us tour of up...  \n",
      "                  user_id             business_id  stars  \\\n",
      "0  59MxRhNVhU9MYndMkz0wtw  gebiRewfieSdtt17PTW6Zg    3.0   \n",
      "1  OhECKhQEexFypOMY6kypRw  vC2qm1y3Au5czBtbhc-DNw    4.0   \n",
      "2  4hBhtCSgoxkrFgHa4YAD-w  bbEXAEFr4RYHLlZ-HFssTA    5.0   \n",
      "3  bFPdtzu11Oi0f92EAcjqmg  IDtLPgUrqorrpqSLdfMhZQ    5.0   \n",
      "4  JYYYKt6TdVA4ng9lLcXt_g  SZU9c8V2GuREDN5KgyHFJw    5.0   \n",
      "\n",
      "                                                text  \\\n",
      "0  Had a party of 6 here for hibachi. Our waitres...   \n",
      "1  Yes, this is the only sushi place in town. How...   \n",
      "2  Great burgers,fries and salad!  Burgers have a...   \n",
      "3  What a great addition to the Funk Zone!  Grab ...   \n",
      "4  We were a bit weary about trying the Shellfish...   \n",
      "\n",
      "                              name  \\\n",
      "0  Hibachi Steak House & Sushi Bar   \n",
      "1                       Sushi Teri   \n",
      "2  The Original Habit Burger Grill   \n",
      "3             Helena Avenue Bakery   \n",
      "4  Santa Barbara Shellfish Company   \n",
      "\n",
      "                                          categories  \n",
      "0   [steakhouses, sushi bars, restaurants, japanese]  \n",
      "1                          [restaurants, sushi bars]  \n",
      "2                  [fast food, burgers, restaurants]  \n",
      "3  [food, restaurants, salad, coffee & tea, break...  \n",
      "4  [live/raw food, restaurants, seafood, beer bar...  \n"
     ]
    },
    {
     "data": {
      "text/plain": [
       "(193337, 6)"
      ]
     },
     "execution_count": 47,
     "metadata": {},
     "output_type": "execute_result"
    }
   ],
   "source": [
    "# Select relevant columns from review_df // I dropped review_id, date, useful, funny, cool\n",
    "review_df = review_df[['user_id','business_id','stars','text']]\n",
    "print(review_df.head())\n",
    "\n",
    "# Merge reviews with restaurant using business_id as a key\n",
    "merged_df = review_df.merge(restaurants_df[['business_id', 'name', 'categories']], on='business_id')\n",
    "print(merged_df.head())\n",
    "merged_df.shape"
   ]
  },
  {
   "cell_type": "code",
   "execution_count": 19,
   "id": "67bb6914-8690-4106-a558-348e0c524fce",
   "metadata": {},
   "outputs": [
    {
     "name": "stdout",
     "output_type": "stream",
     "text": [
      "                  user_id             business_id  stars  \\\n",
      "0  59MxRhNVhU9MYndMkz0wtw  gebiRewfieSdtt17PTW6Zg    3.0   \n",
      "1  OhECKhQEexFypOMY6kypRw  vC2qm1y3Au5czBtbhc-DNw    4.0   \n",
      "2  4hBhtCSgoxkrFgHa4YAD-w  bbEXAEFr4RYHLlZ-HFssTA    5.0   \n",
      "3  bFPdtzu11Oi0f92EAcjqmg  IDtLPgUrqorrpqSLdfMhZQ    5.0   \n",
      "4  JYYYKt6TdVA4ng9lLcXt_g  SZU9c8V2GuREDN5KgyHFJw    5.0   \n",
      "\n",
      "                                                text  \\\n",
      "0  Had a party of 6 here for hibachi. Our waitres...   \n",
      "1  Yes, this is the only sushi place in town. How...   \n",
      "2  Great burgers,fries and salad!  Burgers have a...   \n",
      "3  What a great addition to the Funk Zone!  Grab ...   \n",
      "4  We were a bit weary about trying the Shellfish...   \n",
      "\n",
      "                              name  \\\n",
      "0  Hibachi Steak House & Sushi Bar   \n",
      "1                       Sushi Teri   \n",
      "2  The Original Habit Burger Grill   \n",
      "3             Helena Avenue Bakery   \n",
      "4  Santa Barbara Shellfish Company   \n",
      "\n",
      "                                          categories  \n",
      "0     steakhouses, sushi bars, restaurants, japanese  \n",
      "1                            restaurants, sushi bars  \n",
      "2                    fast food, burgers, restaurants  \n",
      "3  food, restaurants, salad, coffee & tea, breakf...  \n",
      "4  live/raw food, restaurants, seafood, beer bar,...  \n"
     ]
    }
   ],
   "source": [
    "# Fix category column if it's a list -> string\n",
    "merged_df['categories'] = merged_df['categories'].apply(lambda x: ', '.join(x) if isinstance(x, list) else x)\n",
    "print(merged_df.head())"
   ]
  },
  {
   "cell_type": "markdown",
   "id": "190e90c6-7a55-426a-8677-f40f244b07f8",
   "metadata": {},
   "source": [
    "# Feature Extraction & Similarity Computation"
   ]
  },
  {
   "cell_type": "code",
   "execution_count": 20,
   "id": "3aeca2cb-f9f4-4f8a-b753-a088f9d390da",
   "metadata": {},
   "outputs": [],
   "source": [
    "from sklearn.feature_extraction.text import TfidfVectorizer\n",
    "\n",
    "# Feature Extraction for Content-Based Filtering: (TF-IDF) on categories and reviews\n",
    "tfidf_category = TfidfVectorizer(stop_words='english')\n",
    "tfidf_review = TfidfVectorizer(stop_words='english')\n",
    "category_matrix = tfidf_category.fit_transform(merged_df['categories'])\n",
    "review_matrix = tfidf_review.fit_transform(merged_df['text'])"
   ]
  },
  {
   "cell_type": "code",
   "execution_count": 21,
   "id": "5546e414-6a97-4b0f-8f37-a80eaf3f3728",
   "metadata": {},
   "outputs": [
    {
     "ename": "MemoryError",
     "evalue": "Unable to allocate 242. GiB for an array with shape (32478999457,) and data type int64",
     "output_type": "error",
     "traceback": [
      "\u001b[1;31m---------------------------------------------------------------------------\u001b[0m",
      "\u001b[1;31mMemoryError\u001b[0m                               Traceback (most recent call last)",
      "Cell \u001b[1;32mIn[21], line 4\u001b[0m\n\u001b[0;32m      1\u001b[0m \u001b[38;5;28;01mfrom\u001b[39;00m \u001b[38;5;21;01msklearn\u001b[39;00m\u001b[38;5;21;01m.\u001b[39;00m\u001b[38;5;21;01mmetrics\u001b[39;00m\u001b[38;5;21;01m.\u001b[39;00m\u001b[38;5;21;01mpairwise\u001b[39;00m \u001b[38;5;28;01mimport\u001b[39;00m cosine_similarity\n\u001b[0;32m      3\u001b[0m \u001b[38;5;66;03m# Compute similarity matrices\u001b[39;00m\n\u001b[1;32m----> 4\u001b[0m category_similarity \u001b[38;5;241m=\u001b[39m \u001b[43mcosine_similarity\u001b[49m\u001b[43m(\u001b[49m\u001b[43mcategory_matrix\u001b[49m\u001b[43m)\u001b[49m\n\u001b[0;32m      5\u001b[0m review_similarity \u001b[38;5;241m=\u001b[39m cosine_similarity(review_matrix)\n\u001b[0;32m      7\u001b[0m \u001b[38;5;66;03m# Combine the two similarity matrices into a total similarity matrix by taking their average: \u001b[39;00m\n\u001b[0;32m      8\u001b[0m \u001b[38;5;66;03m# Equal weight to both categories and reviews when computing the overall similarity between restaurants.\u001b[39;00m\n",
      "File \u001b[1;32m~\\AppData\\Local\\Packages\\PythonSoftwareFoundation.Python.3.12_qbz5n2kfra8p0\\LocalCache\\local-packages\\Python312\\site-packages\\sklearn\\utils\\_param_validation.py:213\u001b[0m, in \u001b[0;36mvalidate_params.<locals>.decorator.<locals>.wrapper\u001b[1;34m(*args, **kwargs)\u001b[0m\n\u001b[0;32m    207\u001b[0m \u001b[38;5;28;01mtry\u001b[39;00m:\n\u001b[0;32m    208\u001b[0m     \u001b[38;5;28;01mwith\u001b[39;00m config_context(\n\u001b[0;32m    209\u001b[0m         skip_parameter_validation\u001b[38;5;241m=\u001b[39m(\n\u001b[0;32m    210\u001b[0m             prefer_skip_nested_validation \u001b[38;5;129;01mor\u001b[39;00m global_skip_validation\n\u001b[0;32m    211\u001b[0m         )\n\u001b[0;32m    212\u001b[0m     ):\n\u001b[1;32m--> 213\u001b[0m         \u001b[38;5;28;01mreturn\u001b[39;00m \u001b[43mfunc\u001b[49m\u001b[43m(\u001b[49m\u001b[38;5;241;43m*\u001b[39;49m\u001b[43margs\u001b[49m\u001b[43m,\u001b[49m\u001b[43m \u001b[49m\u001b[38;5;241;43m*\u001b[39;49m\u001b[38;5;241;43m*\u001b[39;49m\u001b[43mkwargs\u001b[49m\u001b[43m)\u001b[49m\n\u001b[0;32m    214\u001b[0m \u001b[38;5;28;01mexcept\u001b[39;00m InvalidParameterError \u001b[38;5;28;01mas\u001b[39;00m e:\n\u001b[0;32m    215\u001b[0m     \u001b[38;5;66;03m# When the function is just a wrapper around an estimator, we allow\u001b[39;00m\n\u001b[0;32m    216\u001b[0m     \u001b[38;5;66;03m# the function to delegate validation to the estimator, but we replace\u001b[39;00m\n\u001b[0;32m    217\u001b[0m     \u001b[38;5;66;03m# the name of the estimator by the name of the function in the error\u001b[39;00m\n\u001b[0;32m    218\u001b[0m     \u001b[38;5;66;03m# message to avoid confusion.\u001b[39;00m\n\u001b[0;32m    219\u001b[0m     msg \u001b[38;5;241m=\u001b[39m re\u001b[38;5;241m.\u001b[39msub(\n\u001b[0;32m    220\u001b[0m         \u001b[38;5;124mr\u001b[39m\u001b[38;5;124m\"\u001b[39m\u001b[38;5;124mparameter of \u001b[39m\u001b[38;5;124m\\\u001b[39m\u001b[38;5;124mw+ must be\u001b[39m\u001b[38;5;124m\"\u001b[39m,\n\u001b[0;32m    221\u001b[0m         \u001b[38;5;124mf\u001b[39m\u001b[38;5;124m\"\u001b[39m\u001b[38;5;124mparameter of \u001b[39m\u001b[38;5;132;01m{\u001b[39;00mfunc\u001b[38;5;241m.\u001b[39m\u001b[38;5;18m__qualname__\u001b[39m\u001b[38;5;132;01m}\u001b[39;00m\u001b[38;5;124m must be\u001b[39m\u001b[38;5;124m\"\u001b[39m,\n\u001b[0;32m    222\u001b[0m         \u001b[38;5;28mstr\u001b[39m(e),\n\u001b[0;32m    223\u001b[0m     )\n",
      "File \u001b[1;32m~\\AppData\\Local\\Packages\\PythonSoftwareFoundation.Python.3.12_qbz5n2kfra8p0\\LocalCache\\local-packages\\Python312\\site-packages\\sklearn\\metrics\\pairwise.py:1687\u001b[0m, in \u001b[0;36mcosine_similarity\u001b[1;34m(X, Y, dense_output)\u001b[0m\n\u001b[0;32m   1684\u001b[0m \u001b[38;5;28;01melse\u001b[39;00m:\n\u001b[0;32m   1685\u001b[0m     Y_normalized \u001b[38;5;241m=\u001b[39m normalize(Y, copy\u001b[38;5;241m=\u001b[39m\u001b[38;5;28;01mTrue\u001b[39;00m)\n\u001b[1;32m-> 1687\u001b[0m K \u001b[38;5;241m=\u001b[39m \u001b[43msafe_sparse_dot\u001b[49m\u001b[43m(\u001b[49m\u001b[43mX_normalized\u001b[49m\u001b[43m,\u001b[49m\u001b[43m \u001b[49m\u001b[43mY_normalized\u001b[49m\u001b[38;5;241;43m.\u001b[39;49m\u001b[43mT\u001b[49m\u001b[43m,\u001b[49m\u001b[43m \u001b[49m\u001b[43mdense_output\u001b[49m\u001b[38;5;241;43m=\u001b[39;49m\u001b[43mdense_output\u001b[49m\u001b[43m)\u001b[49m\n\u001b[0;32m   1689\u001b[0m \u001b[38;5;28;01mreturn\u001b[39;00m K\n",
      "File \u001b[1;32m~\\AppData\\Local\\Packages\\PythonSoftwareFoundation.Python.3.12_qbz5n2kfra8p0\\LocalCache\\local-packages\\Python312\\site-packages\\sklearn\\utils\\extmath.py:205\u001b[0m, in \u001b[0;36msafe_sparse_dot\u001b[1;34m(a, b, dense_output)\u001b[0m\n\u001b[0;32m    203\u001b[0m         ret \u001b[38;5;241m=\u001b[39m np\u001b[38;5;241m.\u001b[39mdot(a, b)\n\u001b[0;32m    204\u001b[0m \u001b[38;5;28;01melse\u001b[39;00m:\n\u001b[1;32m--> 205\u001b[0m     ret \u001b[38;5;241m=\u001b[39m \u001b[43ma\u001b[49m\u001b[43m \u001b[49m\u001b[38;5;241;43m@\u001b[39;49m\u001b[43m \u001b[49m\u001b[43mb\u001b[49m\n\u001b[0;32m    207\u001b[0m \u001b[38;5;28;01mif\u001b[39;00m (\n\u001b[0;32m    208\u001b[0m     sparse\u001b[38;5;241m.\u001b[39missparse(a)\n\u001b[0;32m    209\u001b[0m     \u001b[38;5;129;01mand\u001b[39;00m sparse\u001b[38;5;241m.\u001b[39missparse(b)\n\u001b[0;32m    210\u001b[0m     \u001b[38;5;129;01mand\u001b[39;00m dense_output\n\u001b[0;32m    211\u001b[0m     \u001b[38;5;129;01mand\u001b[39;00m \u001b[38;5;28mhasattr\u001b[39m(ret, \u001b[38;5;124m\"\u001b[39m\u001b[38;5;124mtoarray\u001b[39m\u001b[38;5;124m\"\u001b[39m)\n\u001b[0;32m    212\u001b[0m ):\n\u001b[0;32m    213\u001b[0m     \u001b[38;5;28;01mreturn\u001b[39;00m ret\u001b[38;5;241m.\u001b[39mtoarray()\n",
      "File \u001b[1;32m~\\AppData\\Local\\Packages\\PythonSoftwareFoundation.Python.3.12_qbz5n2kfra8p0\\LocalCache\\local-packages\\Python312\\site-packages\\scipy\\sparse\\_base.py:669\u001b[0m, in \u001b[0;36m_spbase.__matmul__\u001b[1;34m(self, other)\u001b[0m\n\u001b[0;32m    666\u001b[0m \u001b[38;5;28;01mif\u001b[39;00m isscalarlike(other):\n\u001b[0;32m    667\u001b[0m     \u001b[38;5;28;01mraise\u001b[39;00m \u001b[38;5;167;01mValueError\u001b[39;00m(\u001b[38;5;124m\"\u001b[39m\u001b[38;5;124mScalar operands are not allowed, \u001b[39m\u001b[38;5;124m\"\u001b[39m\n\u001b[0;32m    668\u001b[0m                      \u001b[38;5;124m\"\u001b[39m\u001b[38;5;124muse \u001b[39m\u001b[38;5;124m'\u001b[39m\u001b[38;5;124m*\u001b[39m\u001b[38;5;124m'\u001b[39m\u001b[38;5;124m instead\u001b[39m\u001b[38;5;124m\"\u001b[39m)\n\u001b[1;32m--> 669\u001b[0m \u001b[38;5;28;01mreturn\u001b[39;00m \u001b[38;5;28;43mself\u001b[39;49m\u001b[38;5;241;43m.\u001b[39;49m\u001b[43m_matmul_dispatch\u001b[49m\u001b[43m(\u001b[49m\u001b[43mother\u001b[49m\u001b[43m)\u001b[49m\n",
      "File \u001b[1;32m~\\AppData\\Local\\Packages\\PythonSoftwareFoundation.Python.3.12_qbz5n2kfra8p0\\LocalCache\\local-packages\\Python312\\site-packages\\scipy\\sparse\\_base.py:580\u001b[0m, in \u001b[0;36m_spbase._matmul_dispatch\u001b[1;34m(self, other)\u001b[0m\n\u001b[0;32m    578\u001b[0m     \u001b[38;5;28;01mif\u001b[39;00m \u001b[38;5;28mself\u001b[39m\u001b[38;5;241m.\u001b[39mshape[\u001b[38;5;241m-\u001b[39m\u001b[38;5;241m1\u001b[39m] \u001b[38;5;241m!=\u001b[39m other\u001b[38;5;241m.\u001b[39mshape[\u001b[38;5;241m0\u001b[39m]:\n\u001b[0;32m    579\u001b[0m         \u001b[38;5;28;01mraise\u001b[39;00m \u001b[38;5;167;01mValueError\u001b[39;00m(\u001b[38;5;124m'\u001b[39m\u001b[38;5;124mdimension mismatch\u001b[39m\u001b[38;5;124m'\u001b[39m)\n\u001b[1;32m--> 580\u001b[0m     \u001b[38;5;28;01mreturn\u001b[39;00m \u001b[38;5;28;43mself\u001b[39;49m\u001b[38;5;241;43m.\u001b[39;49m\u001b[43m_matmul_sparse\u001b[49m\u001b[43m(\u001b[49m\u001b[43mother\u001b[49m\u001b[43m)\u001b[49m\n\u001b[0;32m    582\u001b[0m \u001b[38;5;66;03m# If it's a list or whatever, treat it like an array\u001b[39;00m\n\u001b[0;32m    583\u001b[0m other_a \u001b[38;5;241m=\u001b[39m np\u001b[38;5;241m.\u001b[39masanyarray(other)\n",
      "File \u001b[1;32m~\\AppData\\Local\\Packages\\PythonSoftwareFoundation.Python.3.12_qbz5n2kfra8p0\\LocalCache\\local-packages\\Python312\\site-packages\\scipy\\sparse\\_compressed.py:550\u001b[0m, in \u001b[0;36m_cs_matrix._matmul_sparse\u001b[1;34m(self, other)\u001b[0m\n\u001b[0;32m    545\u001b[0m idx_dtype \u001b[38;5;241m=\u001b[39m \u001b[38;5;28mself\u001b[39m\u001b[38;5;241m.\u001b[39m_get_index_dtype((\u001b[38;5;28mself\u001b[39m\u001b[38;5;241m.\u001b[39mindptr, \u001b[38;5;28mself\u001b[39m\u001b[38;5;241m.\u001b[39mindices,\n\u001b[0;32m    546\u001b[0m                              other\u001b[38;5;241m.\u001b[39mindptr, other\u001b[38;5;241m.\u001b[39mindices),\n\u001b[0;32m    547\u001b[0m                             maxval\u001b[38;5;241m=\u001b[39mnnz)\n\u001b[0;32m    549\u001b[0m indptr \u001b[38;5;241m=\u001b[39m np\u001b[38;5;241m.\u001b[39mempty(major_dim \u001b[38;5;241m+\u001b[39m \u001b[38;5;241m1\u001b[39m, dtype\u001b[38;5;241m=\u001b[39midx_dtype)\n\u001b[1;32m--> 550\u001b[0m indices \u001b[38;5;241m=\u001b[39m \u001b[43mnp\u001b[49m\u001b[38;5;241;43m.\u001b[39;49m\u001b[43mempty\u001b[49m\u001b[43m(\u001b[49m\u001b[43mnnz\u001b[49m\u001b[43m,\u001b[49m\u001b[43m \u001b[49m\u001b[43mdtype\u001b[49m\u001b[38;5;241;43m=\u001b[39;49m\u001b[43midx_dtype\u001b[49m\u001b[43m)\u001b[49m\n\u001b[0;32m    551\u001b[0m data \u001b[38;5;241m=\u001b[39m np\u001b[38;5;241m.\u001b[39mempty(nnz, dtype\u001b[38;5;241m=\u001b[39mupcast(\u001b[38;5;28mself\u001b[39m\u001b[38;5;241m.\u001b[39mdtype, other\u001b[38;5;241m.\u001b[39mdtype))\n\u001b[0;32m    553\u001b[0m fn \u001b[38;5;241m=\u001b[39m \u001b[38;5;28mgetattr\u001b[39m(_sparsetools, \u001b[38;5;28mself\u001b[39m\u001b[38;5;241m.\u001b[39mformat \u001b[38;5;241m+\u001b[39m \u001b[38;5;124m'\u001b[39m\u001b[38;5;124m_matmat\u001b[39m\u001b[38;5;124m'\u001b[39m)\n",
      "\u001b[1;31mMemoryError\u001b[0m: Unable to allocate 242. GiB for an array with shape (32478999457,) and data type int64"
     ]
    }
   ],
   "source": [
    "from sklearn.metrics.pairwise import cosine_similarity\n",
    "\n",
    "# Compute similarity matrices\n",
    "category_similarity = cosine_similarity(category_matrix)\n",
    "review_similarity = cosine_similarity(review_matrix)\n",
    "\n",
    "# Combine the two similarity matrices into a total similarity matrix by taking their average: \n",
    "# Equal weight to both categories and reviews when computing the overall similarity between restaurants.\n",
    "total_similarity = (category_similarity + review_similarity) / 2"
   ]
  },
  {
   "cell_type": "code",
   "execution_count": 10,
   "id": "d93085f9-b076-4488-8fca-290dc6049d78",
   "metadata": {},
   "outputs": [],
   "source": [
    "from sklearn.neighbors import NearestNeighbors\n",
    "\n",
    "# Switched to use NearestNeighbors for memory-efficient similarity computation\n",
    "category_nn = NearestNeighbors(metric='cosine').fit(category_matrix)\n",
    "review_nn = NearestNeighbors(metric='cosine').fit(review_matrix)"
   ]
  },
  {
   "cell_type": "markdown",
   "id": "8bfbfe8c-c039-4f0c-8b53-751699474770",
   "metadata": {},
   "source": [
    "# Collaborative Filtering"
   ]
  },
  {
   "cell_type": "code",
   "execution_count": 11,
   "id": "63ec9ec6-70af-471c-8625-e4b5b712c4ca",
   "metadata": {},
   "outputs": [
    {
     "name": "stdout",
     "output_type": "stream",
     "text": [
      "business_id             -3AooxIkg38UyUdlz5oXdw  -6jvfSJGprbfBD2QrS9zQw  \\\n",
      "user_id                                                                  \n",
      "---zemaUC8WeJeWKqS6p9Q                     0.0                     0.0   \n",
      "--17Db1K-KujRuN7hY9Z0Q                     0.0                     0.0   \n",
      "--2F5G5LKt3h2cAXJbZptg                     0.0                     0.0   \n",
      "--2vR0DIsmQ6WfcSzKWigw                     0.0                     0.0   \n",
      "--50YzjtBsdxOGVqTkvaKA                     0.0                     0.0   \n",
      "\n",
      "business_id             -9r8nAzWyRSLxBWt8uQOdA  -ALqLSTzkGDMscHdxA1NgA  \\\n",
      "user_id                                                                  \n",
      "---zemaUC8WeJeWKqS6p9Q                     0.0                     0.0   \n",
      "--17Db1K-KujRuN7hY9Z0Q                     0.0                     0.0   \n",
      "--2F5G5LKt3h2cAXJbZptg                     0.0                     0.0   \n",
      "--2vR0DIsmQ6WfcSzKWigw                     0.0                     0.0   \n",
      "--50YzjtBsdxOGVqTkvaKA                     0.0                     0.0   \n",
      "\n",
      "business_id             -BdYhP-12elmFV7oB1iv4A  -FM4CxOg4XXmX_Ebky_SiQ  \\\n",
      "user_id                                                                  \n",
      "---zemaUC8WeJeWKqS6p9Q                     0.0                     0.0   \n",
      "--17Db1K-KujRuN7hY9Z0Q                     0.0                     0.0   \n",
      "--2F5G5LKt3h2cAXJbZptg                     0.0                     0.0   \n",
      "--2vR0DIsmQ6WfcSzKWigw                     0.0                     0.0   \n",
      "--50YzjtBsdxOGVqTkvaKA                     0.0                     0.0   \n",
      "\n",
      "business_id             -FRHYI6doGCjIsXiKHkUqw  -H-fZonTLitwHFY_PLAIjA  \\\n",
      "user_id                                                                  \n",
      "---zemaUC8WeJeWKqS6p9Q                     0.0                     0.0   \n",
      "--17Db1K-KujRuN7hY9Z0Q                     0.0                     0.0   \n",
      "--2F5G5LKt3h2cAXJbZptg                     0.0                     0.0   \n",
      "--2vR0DIsmQ6WfcSzKWigw                     0.0                     0.0   \n",
      "--50YzjtBsdxOGVqTkvaKA                     0.0                     0.0   \n",
      "\n",
      "business_id             -I7M6l0h46VdiN09Y1NUZw  -M7wzxpUsdSkQd9PDGsJWA  ...  \\\n",
      "user_id                                                                 ...   \n",
      "---zemaUC8WeJeWKqS6p9Q                     0.0                     0.0  ...   \n",
      "--17Db1K-KujRuN7hY9Z0Q                     0.0                     0.0  ...   \n",
      "--2F5G5LKt3h2cAXJbZptg                     0.0                     0.0  ...   \n",
      "--2vR0DIsmQ6WfcSzKWigw                     0.0                     0.0  ...   \n",
      "--50YzjtBsdxOGVqTkvaKA                     0.0                     0.0  ...   \n",
      "\n",
      "business_id             zJpZ-uQ_F0XVgK1u98uWSg  zRWhcNF3AVuB3ti7V4t88g  \\\n",
      "user_id                                                                  \n",
      "---zemaUC8WeJeWKqS6p9Q                     0.0                     0.0   \n",
      "--17Db1K-KujRuN7hY9Z0Q                     0.0                     0.0   \n",
      "--2F5G5LKt3h2cAXJbZptg                     0.0                     0.0   \n",
      "--2vR0DIsmQ6WfcSzKWigw                     0.0                     0.0   \n",
      "--50YzjtBsdxOGVqTkvaKA                     0.0                     0.0   \n",
      "\n",
      "business_id             zVwnTKz7JIOoN-MbbQMzYA  zZrDoiQIUmiVkifJx0h_KA  \\\n",
      "user_id                                                                  \n",
      "---zemaUC8WeJeWKqS6p9Q                     0.0                     0.0   \n",
      "--17Db1K-KujRuN7hY9Z0Q                     0.0                     0.0   \n",
      "--2F5G5LKt3h2cAXJbZptg                     0.0                     0.0   \n",
      "--2vR0DIsmQ6WfcSzKWigw                     0.0                     0.0   \n",
      "--50YzjtBsdxOGVqTkvaKA                     0.0                     0.0   \n",
      "\n",
      "business_id             zb9JcXBguyqMCLPCEfQe8w  zbrIMldF_O1ZQ0vpUaaa8A  \\\n",
      "user_id                                                                  \n",
      "---zemaUC8WeJeWKqS6p9Q                     0.0                     0.0   \n",
      "--17Db1K-KujRuN7hY9Z0Q                     0.0                     0.0   \n",
      "--2F5G5LKt3h2cAXJbZptg                     0.0                     0.0   \n",
      "--2vR0DIsmQ6WfcSzKWigw                     0.0                     0.0   \n",
      "--50YzjtBsdxOGVqTkvaKA                     0.0                     0.0   \n",
      "\n",
      "business_id             zeAfmYy9b1gfUJLRBHm6vQ  ziXR7sUrbKRCNeDqfjibUg  \\\n",
      "user_id                                                                  \n",
      "---zemaUC8WeJeWKqS6p9Q                     0.0                     0.0   \n",
      "--17Db1K-KujRuN7hY9Z0Q                     0.0                     0.0   \n",
      "--2F5G5LKt3h2cAXJbZptg                     0.0                     0.0   \n",
      "--2vR0DIsmQ6WfcSzKWigw                     0.0                     0.0   \n",
      "--50YzjtBsdxOGVqTkvaKA                     0.0                     0.0   \n",
      "\n",
      "business_id             zkMqKD6IZPcU10g0a2APmg  znlrxrY4InSx7ekPZxoHRw  \n",
      "user_id                                                                 \n",
      "---zemaUC8WeJeWKqS6p9Q                     0.0                     0.0  \n",
      "--17Db1K-KujRuN7hY9Z0Q                     0.0                     0.0  \n",
      "--2F5G5LKt3h2cAXJbZptg                     0.0                     0.0  \n",
      "--2vR0DIsmQ6WfcSzKWigw                     0.0                     0.0  \n",
      "--50YzjtBsdxOGVqTkvaKA                     0.0                     0.0  \n",
      "\n",
      "[5 rows x 1015 columns]\n",
      "Total Elements: 86765245\n",
      "Non-Zero Elements: 151493\n",
      "Density: 0.0017\n",
      "Sparsity: 0.9983\n"
     ]
    },
    {
     "ename": "MemoryError",
     "evalue": "Unable to allocate 54.4 GiB for an array with shape (85483, 85483) and data type float64",
     "output_type": "error",
     "traceback": [
      "\u001b[1;31m---------------------------------------------------------------------------\u001b[0m",
      "\u001b[1;31mMemoryError\u001b[0m                               Traceback (most recent call last)",
      "Cell \u001b[1;32mIn[11], line 25\u001b[0m\n\u001b[0;32m     22\u001b[0m \u001b[38;5;28mprint\u001b[39m(\u001b[38;5;124mf\u001b[39m\u001b[38;5;124m\"\u001b[39m\u001b[38;5;124mSparsity: \u001b[39m\u001b[38;5;132;01m{\u001b[39;00msparsity\u001b[38;5;132;01m:\u001b[39;00m\u001b[38;5;124m.4f\u001b[39m\u001b[38;5;132;01m}\u001b[39;00m\u001b[38;5;124m\"\u001b[39m)\n\u001b[0;32m     24\u001b[0m \u001b[38;5;66;03m# Compute user similarity matrix\u001b[39;00m\n\u001b[1;32m---> 25\u001b[0m user_similarity \u001b[38;5;241m=\u001b[39m cosine_similarity(user_restaurant_matrix)\n\u001b[0;32m     26\u001b[0m \u001b[38;5;28mprint\u001b[39m(user_similarity)\n",
      "File \u001b[1;32m~\\anaconda3\\Lib\\site-packages\\sklearn\\utils\\_param_validation.py:213\u001b[0m, in \u001b[0;36mvalidate_params.<locals>.decorator.<locals>.wrapper\u001b[1;34m(*args, **kwargs)\u001b[0m\n\u001b[0;32m    207\u001b[0m \u001b[38;5;28;01mtry\u001b[39;00m:\n\u001b[0;32m    208\u001b[0m     \u001b[38;5;28;01mwith\u001b[39;00m config_context(\n\u001b[0;32m    209\u001b[0m         skip_parameter_validation\u001b[38;5;241m=\u001b[39m(\n\u001b[0;32m    210\u001b[0m             prefer_skip_nested_validation \u001b[38;5;129;01mor\u001b[39;00m global_skip_validation\n\u001b[0;32m    211\u001b[0m         )\n\u001b[0;32m    212\u001b[0m     ):\n\u001b[1;32m--> 213\u001b[0m         \u001b[38;5;28;01mreturn\u001b[39;00m func(\u001b[38;5;241m*\u001b[39margs, \u001b[38;5;241m*\u001b[39m\u001b[38;5;241m*\u001b[39mkwargs)\n\u001b[0;32m    214\u001b[0m \u001b[38;5;28;01mexcept\u001b[39;00m InvalidParameterError \u001b[38;5;28;01mas\u001b[39;00m e:\n\u001b[0;32m    215\u001b[0m     \u001b[38;5;66;03m# When the function is just a wrapper around an estimator, we allow\u001b[39;00m\n\u001b[0;32m    216\u001b[0m     \u001b[38;5;66;03m# the function to delegate validation to the estimator, but we replace\u001b[39;00m\n\u001b[0;32m    217\u001b[0m     \u001b[38;5;66;03m# the name of the estimator by the name of the function in the error\u001b[39;00m\n\u001b[0;32m    218\u001b[0m     \u001b[38;5;66;03m# message to avoid confusion.\u001b[39;00m\n\u001b[0;32m    219\u001b[0m     msg \u001b[38;5;241m=\u001b[39m re\u001b[38;5;241m.\u001b[39msub(\n\u001b[0;32m    220\u001b[0m         \u001b[38;5;124mr\u001b[39m\u001b[38;5;124m\"\u001b[39m\u001b[38;5;124mparameter of \u001b[39m\u001b[38;5;124m\\\u001b[39m\u001b[38;5;124mw+ must be\u001b[39m\u001b[38;5;124m\"\u001b[39m,\n\u001b[0;32m    221\u001b[0m         \u001b[38;5;124mf\u001b[39m\u001b[38;5;124m\"\u001b[39m\u001b[38;5;124mparameter of \u001b[39m\u001b[38;5;132;01m{\u001b[39;00mfunc\u001b[38;5;241m.\u001b[39m\u001b[38;5;18m__qualname__\u001b[39m\u001b[38;5;132;01m}\u001b[39;00m\u001b[38;5;124m must be\u001b[39m\u001b[38;5;124m\"\u001b[39m,\n\u001b[0;32m    222\u001b[0m         \u001b[38;5;28mstr\u001b[39m(e),\n\u001b[0;32m    223\u001b[0m     )\n",
      "File \u001b[1;32m~\\anaconda3\\Lib\\site-packages\\sklearn\\metrics\\pairwise.py:1687\u001b[0m, in \u001b[0;36mcosine_similarity\u001b[1;34m(X, Y, dense_output)\u001b[0m\n\u001b[0;32m   1684\u001b[0m \u001b[38;5;28;01melse\u001b[39;00m:\n\u001b[0;32m   1685\u001b[0m     Y_normalized \u001b[38;5;241m=\u001b[39m normalize(Y, copy\u001b[38;5;241m=\u001b[39m\u001b[38;5;28;01mTrue\u001b[39;00m)\n\u001b[1;32m-> 1687\u001b[0m K \u001b[38;5;241m=\u001b[39m safe_sparse_dot(X_normalized, Y_normalized\u001b[38;5;241m.\u001b[39mT, dense_output\u001b[38;5;241m=\u001b[39mdense_output)\n\u001b[0;32m   1689\u001b[0m \u001b[38;5;28;01mreturn\u001b[39;00m K\n",
      "File \u001b[1;32m~\\anaconda3\\Lib\\site-packages\\sklearn\\utils\\extmath.py:205\u001b[0m, in \u001b[0;36msafe_sparse_dot\u001b[1;34m(a, b, dense_output)\u001b[0m\n\u001b[0;32m    203\u001b[0m         ret \u001b[38;5;241m=\u001b[39m np\u001b[38;5;241m.\u001b[39mdot(a, b)\n\u001b[0;32m    204\u001b[0m \u001b[38;5;28;01melse\u001b[39;00m:\n\u001b[1;32m--> 205\u001b[0m     ret \u001b[38;5;241m=\u001b[39m a \u001b[38;5;241m@\u001b[39m b\n\u001b[0;32m    207\u001b[0m \u001b[38;5;28;01mif\u001b[39;00m (\n\u001b[0;32m    208\u001b[0m     sparse\u001b[38;5;241m.\u001b[39missparse(a)\n\u001b[0;32m    209\u001b[0m     \u001b[38;5;129;01mand\u001b[39;00m sparse\u001b[38;5;241m.\u001b[39missparse(b)\n\u001b[0;32m    210\u001b[0m     \u001b[38;5;129;01mand\u001b[39;00m dense_output\n\u001b[0;32m    211\u001b[0m     \u001b[38;5;129;01mand\u001b[39;00m \u001b[38;5;28mhasattr\u001b[39m(ret, \u001b[38;5;124m\"\u001b[39m\u001b[38;5;124mtoarray\u001b[39m\u001b[38;5;124m\"\u001b[39m)\n\u001b[0;32m    212\u001b[0m ):\n\u001b[0;32m    213\u001b[0m     \u001b[38;5;28;01mreturn\u001b[39;00m ret\u001b[38;5;241m.\u001b[39mtoarray()\n",
      "\u001b[1;31mMemoryError\u001b[0m: Unable to allocate 54.4 GiB for an array with shape (85483, 85483) and data type float64"
     ]
    }
   ],
   "source": [
    "from sklearn.model_selection import train_test_split\n",
    "from sklearn.metrics.pairwise import cosine_similarity\n",
    "\n",
    "# Split the data into train nd test sets (80,20 split)\n",
    "train_data, test_data = train_test_split(merged_df, test_size=0.2, random_state=42)\n",
    "\n",
    "# User-Restaurant interaction matrix for Collaborative Filtering using 'stars'\n",
    "user_restaurant_matrix = train_data.pivot_table(index='user_id', columns='business_id', values='stars', fill_value=0)\n",
    "print(user_restaurant_matrix.head())\n",
    "\n",
    "# Calculate the total number of elements in the matrix\n",
    "total_elements = user_restaurant_matrix.size\n",
    "# Calculate the number of non-zero elements\n",
    "non_zero_elements = (user_restaurant_matrix != 0).sum().sum()\n",
    "# Calculate density\n",
    "density = non_zero_elements / total_elements\n",
    "# Calculate sparsity\n",
    "sparsity = 1 - density\n",
    "print(f\"Total Elements: {total_elements}\")\n",
    "print(f\"Non-Zero Elements: {non_zero_elements}\")\n",
    "print(f\"Density: {density:.4f}\")\n",
    "print(f\"Sparsity: {sparsity:.4f}\")\n",
    "\n",
    "# Compute user similarity matrix\n",
    "user_similarity = cosine_similarity(user_restaurant_matrix)\n",
    "print(user_similarity)"
   ]
  },
  {
   "cell_type": "code",
   "execution_count": 12,
   "id": "8b291db2-ed0b-466e-9a3d-b224579062ce",
   "metadata": {},
   "outputs": [
    {
     "name": "stdout",
     "output_type": "stream",
     "text": [
      "business_id             -3AooxIkg38UyUdlz5oXdw  -6jvfSJGprbfBD2QrS9zQw  \\\n",
      "user_id                                                                  \n",
      "-0-TtVhV4PIUoDpUCOC0uQ                     0.0                     0.0   \n",
      "-0EcgtUXe1rzrkmdih_tYg                     0.0                     0.0   \n",
      "-1-ECBsGpG4Iw5s-ecnfqw                     0.0                     0.0   \n",
      "-14MA777BbjUQLw0zndvfA                     0.0                     0.0   \n",
      "-1WbN1Qd-opw8u3uEqs2Kg                     0.0                     0.0   \n",
      "\n",
      "business_id             -9r8nAzWyRSLxBWt8uQOdA  -ALqLSTzkGDMscHdxA1NgA  \\\n",
      "user_id                                                                  \n",
      "-0-TtVhV4PIUoDpUCOC0uQ                     0.0                     0.0   \n",
      "-0EcgtUXe1rzrkmdih_tYg                     0.0                     0.0   \n",
      "-1-ECBsGpG4Iw5s-ecnfqw                     0.0                     0.0   \n",
      "-14MA777BbjUQLw0zndvfA                     0.0                     0.0   \n",
      "-1WbN1Qd-opw8u3uEqs2Kg                     0.0                     0.0   \n",
      "\n",
      "business_id             -BdYhP-12elmFV7oB1iv4A  -FM4CxOg4XXmX_Ebky_SiQ  \\\n",
      "user_id                                                                  \n",
      "-0-TtVhV4PIUoDpUCOC0uQ                     0.0                     0.0   \n",
      "-0EcgtUXe1rzrkmdih_tYg                     0.0                     0.0   \n",
      "-1-ECBsGpG4Iw5s-ecnfqw                     0.0                     5.0   \n",
      "-14MA777BbjUQLw0zndvfA                     0.0                     0.0   \n",
      "-1WbN1Qd-opw8u3uEqs2Kg                     0.0                     0.0   \n",
      "\n",
      "business_id             -FRHYI6doGCjIsXiKHkUqw  -H-fZonTLitwHFY_PLAIjA  \\\n",
      "user_id                                                                  \n",
      "-0-TtVhV4PIUoDpUCOC0uQ                     0.0                     0.0   \n",
      "-0EcgtUXe1rzrkmdih_tYg                     0.0                     0.0   \n",
      "-1-ECBsGpG4Iw5s-ecnfqw                     0.0                     0.0   \n",
      "-14MA777BbjUQLw0zndvfA                     0.0                     0.0   \n",
      "-1WbN1Qd-opw8u3uEqs2Kg                     0.0                     0.0   \n",
      "\n",
      "business_id             -I7M6l0h46VdiN09Y1NUZw  -M7wzxpUsdSkQd9PDGsJWA  ...  \\\n",
      "user_id                                                                 ...   \n",
      "-0-TtVhV4PIUoDpUCOC0uQ                     0.0                     0.0  ...   \n",
      "-0EcgtUXe1rzrkmdih_tYg                     0.0                     0.0  ...   \n",
      "-1-ECBsGpG4Iw5s-ecnfqw                     0.0                     0.0  ...   \n",
      "-14MA777BbjUQLw0zndvfA                     0.0                     0.0  ...   \n",
      "-1WbN1Qd-opw8u3uEqs2Kg                     0.0                     0.0  ...   \n",
      "\n",
      "business_id             z6I4QVP1M1HXETgwD92XHg  z9-8KvMAlVK46De-G3sNJQ  \\\n",
      "user_id                                                                  \n",
      "-0-TtVhV4PIUoDpUCOC0uQ                     0.0                     0.0   \n",
      "-0EcgtUXe1rzrkmdih_tYg                     0.0                     0.0   \n",
      "-1-ECBsGpG4Iw5s-ecnfqw                     0.0                     0.0   \n",
      "-14MA777BbjUQLw0zndvfA                     0.0                     0.0   \n",
      "-1WbN1Qd-opw8u3uEqs2Kg                     0.0                     0.0   \n",
      "\n",
      "business_id             zJpZ-uQ_F0XVgK1u98uWSg  zRWhcNF3AVuB3ti7V4t88g  \\\n",
      "user_id                                                                  \n",
      "-0-TtVhV4PIUoDpUCOC0uQ                     0.0                     0.0   \n",
      "-0EcgtUXe1rzrkmdih_tYg                     0.0                     0.0   \n",
      "-1-ECBsGpG4Iw5s-ecnfqw                     0.0                     0.0   \n",
      "-14MA777BbjUQLw0zndvfA                     0.0                     0.0   \n",
      "-1WbN1Qd-opw8u3uEqs2Kg                     0.0                     0.0   \n",
      "\n",
      "business_id             zb9JcXBguyqMCLPCEfQe8w  zbrIMldF_O1ZQ0vpUaaa8A  \\\n",
      "user_id                                                                  \n",
      "-0-TtVhV4PIUoDpUCOC0uQ                     0.0                     0.0   \n",
      "-0EcgtUXe1rzrkmdih_tYg                     0.0                     0.0   \n",
      "-1-ECBsGpG4Iw5s-ecnfqw                     0.0                     0.0   \n",
      "-14MA777BbjUQLw0zndvfA                     0.0                     0.0   \n",
      "-1WbN1Qd-opw8u3uEqs2Kg                     0.0                     0.0   \n",
      "\n",
      "business_id             zeAfmYy9b1gfUJLRBHm6vQ  ziXR7sUrbKRCNeDqfjibUg  \\\n",
      "user_id                                                                  \n",
      "-0-TtVhV4PIUoDpUCOC0uQ                     0.0                     0.0   \n",
      "-0EcgtUXe1rzrkmdih_tYg                     0.0                     0.0   \n",
      "-1-ECBsGpG4Iw5s-ecnfqw                     0.0                     0.0   \n",
      "-14MA777BbjUQLw0zndvfA                     0.0                     0.0   \n",
      "-1WbN1Qd-opw8u3uEqs2Kg                     0.0                     0.0   \n",
      "\n",
      "business_id             zkMqKD6IZPcU10g0a2APmg  znlrxrY4InSx7ekPZxoHRw  \n",
      "user_id                                                                 \n",
      "-0-TtVhV4PIUoDpUCOC0uQ                     0.0                     4.0  \n",
      "-0EcgtUXe1rzrkmdih_tYg                     0.0                     0.0  \n",
      "-1-ECBsGpG4Iw5s-ecnfqw                     0.0                     0.0  \n",
      "-14MA777BbjUQLw0zndvfA                     0.0                     0.0  \n",
      "-1WbN1Qd-opw8u3uEqs2Kg                     0.0                     0.0  \n",
      "\n",
      "[5 rows x 830 columns]\n",
      "Total Elements: 3776500\n",
      "Non-Zero Elements: 43837\n",
      "Density: 0.0116\n",
      "Sparsity: 0.9884\n",
      "[[1.         0.         0.         ... 0.         0.         0.        ]\n",
      " [0.         1.         0.         ... 0.         0.         0.        ]\n",
      " [0.         0.         1.         ... 0.         0.         0.07419291]\n",
      " ...\n",
      " [0.         0.         0.         ... 1.         0.         0.        ]\n",
      " [0.         0.         0.         ... 0.         1.         0.        ]\n",
      " [0.         0.         0.07419291 ... 0.         0.         1.        ]]\n"
     ]
    }
   ],
   "source": [
    "# Filter users with at least 5 ratings to save on memory\n",
    "user_counts = train_data['user_id'].value_counts()\n",
    "filtered_df = train_data[train_data['user_id'].isin(user_counts[user_counts >= 5].index)]\n",
    "\n",
    "# Filter restaurants with at least 5 ratings\n",
    "item_counts = filtered_df['business_id'].value_counts()\n",
    "filtered_df = filtered_df[filtered_df['business_id'].isin(item_counts[item_counts >= 5].index)]\n",
    "\n",
    "# Recompute User-Restaurant interaction matrix using filtered_df\n",
    "user_restaurant_matrix = filtered_df.pivot_table(index='user_id', columns='business_id', values='stars', fill_value=0)\n",
    "print(user_restaurant_matrix.head())\n",
    "\n",
    "# Calculate the total number of elements in the matrix\n",
    "total_elements = user_restaurant_matrix.size\n",
    "# Calculate the number of non-zero elements\n",
    "non_zero_elements = (user_restaurant_matrix != 0).sum().sum()\n",
    "# Calculate density\n",
    "density = non_zero_elements / total_elements\n",
    "# Calculate sparsity\n",
    "sparsity = 1 - density\n",
    "print(f\"Total Elements: {total_elements}\")\n",
    "print(f\"Non-Zero Elements: {non_zero_elements}\")\n",
    "print(f\"Density: {density:.4f}\")\n",
    "print(f\"Sparsity: {sparsity:.4f}\")\n",
    "\n",
    "# Recompute user similarity matrix\n",
    "user_similarity = cosine_similarity(user_restaurant_matrix)\n",
    "print(user_similarity)"
   ]
  },
  {
   "cell_type": "code",
   "execution_count": 1,
   "id": "36b73805-7428-4a89-915d-c925e07d02f7",
   "metadata": {},
   "outputs": [],
   "source": [
    "def get_cf_recommendations(user_id, user_similarity, user_restaurant_matrix, merged_df, top_n=5):\n",
    "    \"\"\"\n",
    "    Generate restaurant recommendations for a user using collaborative filtering.\n",
    "    \n",
    "    Args:\n",
    "        user_id (str): The ID of the user for whom recommendations are generated.\n",
    "        user_similarity (numpy array): User similarity matrix.\n",
    "        user_restaurant_matrix (DataFrame): User-restaurant interaction matrix.\n",
    "        merged_df (DataFrame): The original DataFrame containing restaurant names.\n",
    "        top_n (int): Number of recommendations to return.\n",
    "    \n",
    "    Returns:\n",
    "        list: List of recommended restaurant IDs.\n",
    "    \"\"\"\n",
    "    # Get the index of the user in the user-item matrix\n",
    "    user_index = user_restaurant_matrix.index.get_loc(user_id)\n",
    "    \n",
    "    # Get the similarity scores for the user\n",
    "    user_sim_scores = user_similarity[user_index]\n",
    "    \n",
    "    # Get the indices of the most similar users (excluding the user themselves)\n",
    "    similar_users_indices = user_sim_scores.argsort()[::-1][1:top_n + 1]\n",
    "    \n",
    "    # Get the restaurants rated by similar users\n",
    "    recommended_restaurants = set()\n",
    "    for sim_user_index in similar_users_indices:\n",
    "        sim_user_id = user_restaurant_matrix.index[sim_user_index]\n",
    "        # Get restaurants rated highly by the similar user\n",
    "        sim_user_ratings = user_restaurant_matrix.loc[sim_user_id]\n",
    "        highly_rated_restaurants = sim_user_ratings[sim_user_ratings >= 4].index  # Restaurants rated 4 or 5 stars ONLY\n",
    "        recommended_restaurants.update(highly_rated_restaurants)\n",
    "    \n",
    "    # Exclude restaurants already rated by the user\n",
    "    user_rated_restaurants = user_restaurant_matrix.loc[user_id][user_restaurant_matrix.loc[user_id] > 0].index\n",
    "    recommended_restaurants = recommended_restaurants - set(user_rated_restaurants)\n",
    "    \n",
    "    # Get the names & categories of the recommended restaurants\n",
    "    recommended_restaurant_names = merged_df[merged_df['business_id'].isin(recommended_restaurants)]['name'].unique()\n",
    "    print(list(recommended_restaurant_names)[:top_n])\n",
    "    recommended_restaurant_categories = merged_df[merged_df['business_id'].isin(recommended_restaurants)]['categories'].unique()\n",
    "    print(list(recommended_restaurant_categories)[:top_n])\n",
    "\n",
    "    return list(recommended_restaurants)[:top_n]"
   ]
  },
  {
   "cell_type": "code",
   "execution_count": 19,
   "id": "96dce070-5b3f-43ca-af9f-3b4ca8ef2362",
   "metadata": {},
   "outputs": [
    {
     "name": "stdout",
     "output_type": "stream",
     "text": [
      "['The Original Habit Burger Grill', 'Phamous Cafe', 'Poke Theory SB', 'Eureka!', 'Cajé Coffee Roasters - Isla Vista']\n",
      "['fast food, burgers, restaurants', 'food, vietnamese, restaurants, bubble tea', 'coffee & tea, noodles, restaurants, seafood, japanese, ramen, food, asian fusion, poke', 'restaurants, american (traditional), lounges, nightlife, bars, burgers, american (new)', 'food, internet cafes, coffee & tea, acai bowls, juice bars & smoothies, bagels']\n",
      "Recommended Restaurants: ['DqVpNtgFCP47n6frh-LREA', 'OzGk7arJv6FPrWqaYSvyKQ', 'NIQWO-Q_F598XlAvZnFVCA', 'LlGIlNJE2Nv_PXkH7l4Wmg', '1pd4VYTww1UWDVai2r2RKg']\n"
     ]
    }
   ],
   "source": [
    "# Example: Get CF recommendations for a specific user\n",
    "user_id = '-0-TtVhV4PIUoDpUCOC0uQ'\n",
    "cf_recommendations = get_cf_recommendations(user_id, user_similarity, user_restaurant_matrix, merged_df, top_n=5)\n",
    "print(\"Recommended Restaurants:\", cf_recommendations)"
   ]
  },
  {
   "cell_type": "code",
   "execution_count": null,
   "id": "f1dfbc8e-0f52-435d-b597-451970e39722",
   "metadata": {},
   "outputs": [],
   "source": []
  }
 ],
 "metadata": {
  "kernelspec": {
   "display_name": "Python 3",
   "language": "python",
   "name": "python3"
  },
  "language_info": {
   "codemirror_mode": {
    "name": "ipython",
    "version": 3
   },
   "file_extension": ".py",
   "mimetype": "text/x-python",
   "name": "python",
   "nbconvert_exporter": "python",
   "pygments_lexer": "ipython3",
   "version": "3.12.9"
  }
 },
 "nbformat": 4,
 "nbformat_minor": 5
}
